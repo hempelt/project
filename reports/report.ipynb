{
 "cells": [
  {
   "cell_type": "markdown",
   "metadata": {},
   "source": [
    "# Report"
   ]
  },
  {
   "cell_type": "markdown",
   "metadata": {},
   "source": [
    "## Introduction and data"
   ]
  },
  {
   "cell_type": "markdown",
   "metadata": {},
   "source": [
    "### Introduction\n",
    "\n",
    "Diabetic retinopathy is a serious illness, which is expected to affect > 200 million people by the year 2025 [1]. It is an eye desease resulting in blindness for over 10000 people with diabetes per year [2]. In order to help these patients Boehringer Ingelheim is investing in Research and Development of biopharmaceuticals and is screening for new active ingredients, which has the potential to slow or even stop the progression of this desease [3]. A unique characteristic of these medications is the intravitreal application, which means that the drug product is injected directly into the vitreous humor, the gel-like substance inside the eye (see picture below).\n",
    "\n",
    "<img src=\"../references/images/IntravitrealApplication.png\" alt=\"Beispielbild\" width=\"400\">\n",
    "\n",
    "\n",
    "*Picture: Illustration of the ocular anatomy and intravitreal injection for the treatment of ocular diseases [4]*\n",
    "\n",
    "\n",
    "\n",
    "One major challenge of developing drug products, which are applied intravitreal, is the requirement for the low viscosity of the drug product solution. Viscosity is the measure of how easily a fluid flows; thicker liquids like honey have high viscosity, while thinner ones like water have low viscosity. It reflects the internal resistance of a liquid's molecules to movement or flow. A high viscosity of the drug product solution in the syringe results in a higher injection force necessary to apply the medication into the eye. The European Pharmacopoeia (EP) provides specific guidelines regarding the viscosity of intravitreal applied biopharmaceuticals to ensure safe and effective injection [5]. \n",
    "\n",
    "For this reason the viscosity is a very important measure and is determined several times during the early development stage for every new product. Viscosity is tested under different experiment conditions like temperature and product concentration. In order to reduce development time to the commercial launch of a new drug product and reduce costs for laboratory equipment and personnel, the long term motivation of this work is to predict the viscosity of every new agent without any experiments in the laboratory."
   ]
  },
  {
   "cell_type": "markdown",
   "metadata": {},
   "source": [
    "### Data description\n",
    "\n",
    "The data set, which will be explored in this work consists of viscosity data, whereas each observation of the data set corresponds to one measurement value. The data was collected as part of a characterization study for various biopharmaceutical products. These products consist of different types of proteins (IgG2, IgG4, Knob/Hole, DoppelMab), which have different characteristics like molecular weight, isoelectic point or extinction coefficient. In order to determine the effect of product concentration on the viscosity, each product was measured at two different concentrations (10 mg/mL, 62.5 mg/mL).  Furthermore, viscosity was measured at different temperatures (2°C - 40°C) to assess the impact of temperature variations. The data set consists of the following variables:\n",
    "\n",
    "\n",
    "\n",
    "| Name  |   Description\t| Role   \t| Type   \t|  Format \t|\n",
    "|-------|---------------|-----------|-----------|-----------|\n",
    "| viscosity_mPas  \t| Measured viscosity, of the sample in mPas \t        | response  \t    | numeric  \t    | float  \t|\n",
    "| replicate  \t| Number of replicate. Within each measurement, two individual measurements were conducted as technical replicates   \t        | ID \t    | numeric  \t    | int  \t|\n",
    "| entered_on  \t| The date on which the measurement was conducted\t        | predictor  \t    |numeric  \t    | date  \t|\n",
    "| instrument  \t| Instrument, which was used to measure the viscosity   \t        | predictor  \t    | nominal  \t    | category  \t|\n",
    "| temperature_c \t| The temperature at which the measurement was conducted  \t        | predictor  \t    | numeric  \t    | float  \t|\n",
    "| product_concentration_mg_mL  \t| Concentration of the product in the aqueous solution in mg/mL   \t        | predictor  \t    | numeric  \t    | float  \t|\n",
    "| product  \t| Internal product name as a unique code  \t        | ID  \t    | nominal  \t    | category  \t|\n",
    "| protein_format  \t| Protein format of the investigated product \t        | predictor  \t    | nominal  \t    | category  \t|\n",
    "| molecular_weight_kda  \t| Molecular weight of the investigated product in kDa. A measure of the size of the protein   \t        | predictor  \t    | numeric  \t    | float  \t|\n",
    "| extinction_coefficient_l_molcm  \t| Extinction coefficient of the investigated product in L·mol⁻¹·cm⁻¹. A measure of the light absorption ability of the molecule \t        | predictor  \t    | numeric  \t    | float  \t|\n",
    "| isoelectric_point  \t| Isoelectric point of the investigated product. A measure of the charge of the molecule\t        | predictor  \t    | numeric  \t    | float  \t|\n",
    "\n",
    "This study investigates the influence of various experimental conditions on the measured viscosity of the drug product. Based on existing literature, temperature, product concentration, and molecular weight are identified as potential predictors that likely affect the response variable. To enable further analysis, the relationships between these explanatory variables and the viscosity will first be explored before fitting a predictive model. Additionally, the impact of other explanatory variables, such as protein format, extinction coefficient, and isoelectric point, on the model's predictive power will also be assessed.\n"
   ]
  },
  {
   "cell_type": "markdown",
   "metadata": {},
   "source": [
    "### Data collection\n",
    "\n",
    "The underlying measurements were conducted by laboratory personnel within the formulation development department at Boehringer Ingelheim. The measurement values were documented in the internal Laboratory Information Management System (LIMS) along with additional detailed experimental and contextual information, which also contain all explanatory data like the product characteristics etc. The data is stored in an Oracle SQL database and was extracted using targeted SQL queries. \n",
    "\n",
    "Since the data used contain confidential information of Boehringer Ingelheim, they have been modified to protect sensitive details. Some variables have been anonymized or altered in their structure without compromising the relevance of the data for the analysis."
   ]
  },
  {
   "cell_type": "markdown",
   "metadata": {},
   "source": [
    "### Setup"
   ]
  },
  {
   "cell_type": "code",
   "execution_count": 685,
   "metadata": {},
   "outputs": [],
   "source": [
    "import pickle\n",
    "import os\n",
    "from datetime import datetime\n",
    "import subprocess\n",
    "from pathlib import Path\n",
    "import seaborn as sns  \n",
    "import matplotlib.pyplot as plt\n",
    "\n",
    "import pandas as pd\n",
    "import altair as alt\n",
    "import numpy as np\n",
    "\n",
    "from sklearn.model_selection import train_test_split\n",
    "from sklearn.linear_model import LinearRegression\n",
    "from sklearn.model_selection import cross_val_score\n",
    "from sklearn.preprocessing import StandardScaler\n",
    "\n",
    "from sklearn.metrics import mean_squared_error\n",
    "\n",
    "import statsmodels.api as sm"
   ]
  },
  {
   "cell_type": "markdown",
   "metadata": {},
   "source": [
    "### import Data"
   ]
  },
  {
   "cell_type": "code",
   "execution_count": 686,
   "metadata": {},
   "outputs": [],
   "source": [
    "# Import data from the csv-file \"viscosity_data.csv\"\n",
    "df = pd.read_csv(\"../data/processed/viscosity_data.csv\", sep=\";\")"
   ]
  },
  {
   "cell_type": "markdown",
   "metadata": {},
   "source": [
    "### Data structure"
   ]
  },
  {
   "cell_type": "code",
   "execution_count": 687,
   "metadata": {},
   "outputs": [
    {
     "data": {
      "text/html": [
       "<div>\n",
       "<style scoped>\n",
       "    .dataframe tbody tr th:only-of-type {\n",
       "        vertical-align: middle;\n",
       "    }\n",
       "\n",
       "    .dataframe tbody tr th {\n",
       "        vertical-align: top;\n",
       "    }\n",
       "\n",
       "    .dataframe thead th {\n",
       "        text-align: right;\n",
       "    }\n",
       "</style>\n",
       "<table border=\"1\" class=\"dataframe\">\n",
       "  <thead>\n",
       "    <tr style=\"text-align: right;\">\n",
       "      <th></th>\n",
       "      <th>viscosity_mPas</th>\n",
       "      <th>replicate</th>\n",
       "      <th>entered_on</th>\n",
       "      <th>instrument</th>\n",
       "      <th>temperature</th>\n",
       "      <th>product_concentration_mg_mL</th>\n",
       "      <th>product</th>\n",
       "      <th>protein_format</th>\n",
       "      <th>molecular_weight_kDa</th>\n",
       "      <th>extinction_coefficient_L_molcm</th>\n",
       "      <th>isoelectric_point</th>\n",
       "    </tr>\n",
       "  </thead>\n",
       "  <tbody>\n",
       "    <tr>\n",
       "      <th>0</th>\n",
       "      <td>3.93</td>\n",
       "      <td>1</td>\n",
       "      <td>15.03.2019</td>\n",
       "      <td>VISCOSIMETER_02</td>\n",
       "      <td>2</td>\n",
       "      <td>10.0</td>\n",
       "      <td>BI655300</td>\n",
       "      <td>IgG2</td>\n",
       "      <td>148830</td>\n",
       "      <td>220.42</td>\n",
       "      <td>8.54</td>\n",
       "    </tr>\n",
       "    <tr>\n",
       "      <th>1</th>\n",
       "      <td>4.28</td>\n",
       "      <td>2</td>\n",
       "      <td>16.03.2019</td>\n",
       "      <td>VISCOSIMETER_02</td>\n",
       "      <td>2</td>\n",
       "      <td>10.0</td>\n",
       "      <td>BI655300</td>\n",
       "      <td>IgG2</td>\n",
       "      <td>148830</td>\n",
       "      <td>220.42</td>\n",
       "      <td>8.54</td>\n",
       "    </tr>\n",
       "    <tr>\n",
       "      <th>2</th>\n",
       "      <td>3.42</td>\n",
       "      <td>1</td>\n",
       "      <td>15.03.2019</td>\n",
       "      <td>VISCOSIMETER_02</td>\n",
       "      <td>5</td>\n",
       "      <td>10.0</td>\n",
       "      <td>BI655300</td>\n",
       "      <td>IgG2</td>\n",
       "      <td>148830</td>\n",
       "      <td>220.42</td>\n",
       "      <td>8.54</td>\n",
       "    </tr>\n",
       "    <tr>\n",
       "      <th>3</th>\n",
       "      <td>3.69</td>\n",
       "      <td>2</td>\n",
       "      <td>15.03.2019</td>\n",
       "      <td>VISCOSIMETER_02</td>\n",
       "      <td>5</td>\n",
       "      <td>10.0</td>\n",
       "      <td>BI655300</td>\n",
       "      <td>IgG2</td>\n",
       "      <td>148830</td>\n",
       "      <td>220.42</td>\n",
       "      <td>8.54</td>\n",
       "    </tr>\n",
       "    <tr>\n",
       "      <th>4</th>\n",
       "      <td>2.89</td>\n",
       "      <td>1</td>\n",
       "      <td>15.03.2019</td>\n",
       "      <td>VISCOSIMETER_02</td>\n",
       "      <td>10</td>\n",
       "      <td>10.0</td>\n",
       "      <td>BI655300</td>\n",
       "      <td>IgG2</td>\n",
       "      <td>148830</td>\n",
       "      <td>220.42</td>\n",
       "      <td>8.54</td>\n",
       "    </tr>\n",
       "  </tbody>\n",
       "</table>\n",
       "</div>"
      ],
      "text/plain": [
       "   viscosity_mPas  replicate  entered_on       instrument  temperature  \\\n",
       "0            3.93          1  15.03.2019  VISCOSIMETER_02            2   \n",
       "1            4.28          2  16.03.2019  VISCOSIMETER_02            2   \n",
       "2            3.42          1  15.03.2019  VISCOSIMETER_02            5   \n",
       "3            3.69          2  15.03.2019  VISCOSIMETER_02            5   \n",
       "4            2.89          1  15.03.2019  VISCOSIMETER_02           10   \n",
       "\n",
       "   product_concentration_mg_mL   product protein_format  molecular_weight_kDa  \\\n",
       "0                         10.0  BI655300           IgG2                148830   \n",
       "1                         10.0  BI655300           IgG2                148830   \n",
       "2                         10.0  BI655300           IgG2                148830   \n",
       "3                         10.0  BI655300           IgG2                148830   \n",
       "4                         10.0  BI655300           IgG2                148830   \n",
       "\n",
       "   extinction_coefficient_L_molcm  isoelectric_point  \n",
       "0                          220.42               8.54  \n",
       "1                          220.42               8.54  \n",
       "2                          220.42               8.54  \n",
       "3                          220.42               8.54  \n",
       "4                          220.42               8.54  "
      ]
     },
     "execution_count": 687,
     "metadata": {},
     "output_type": "execute_result"
    }
   ],
   "source": [
    "df.head()"
   ]
  },
  {
   "cell_type": "code",
   "execution_count": 688,
   "metadata": {},
   "outputs": [
    {
     "name": "stdout",
     "output_type": "stream",
     "text": [
      "<class 'pandas.core.frame.DataFrame'>\n",
      "RangeIndex: 502 entries, 0 to 501\n",
      "Data columns (total 11 columns):\n",
      " #   Column                          Non-Null Count  Dtype  \n",
      "---  ------                          --------------  -----  \n",
      " 0   viscosity_mPas                  502 non-null    float64\n",
      " 1   replicate                       502 non-null    int64  \n",
      " 2   entered_on                      502 non-null    object \n",
      " 3   instrument                      502 non-null    object \n",
      " 4   temperature                     502 non-null    int64  \n",
      " 5   product_concentration_mg_mL     502 non-null    float64\n",
      " 6   product                         502 non-null    object \n",
      " 7   protein_format                  502 non-null    object \n",
      " 8   molecular_weight_kDa            502 non-null    int64  \n",
      " 9   extinction_coefficient_L_molcm  502 non-null    float64\n",
      " 10  isoelectric_point               502 non-null    float64\n",
      "dtypes: float64(4), int64(3), object(4)\n",
      "memory usage: 43.3+ KB\n"
     ]
    }
   ],
   "source": [
    "df.info()"
   ]
  },
  {
   "cell_type": "code",
   "execution_count": 689,
   "metadata": {},
   "outputs": [
    {
     "name": "stdout",
     "output_type": "stream",
     "text": [
      "viscosity_mPas                    0\n",
      "replicate                         0\n",
      "entered_on                        0\n",
      "instrument                        0\n",
      "temperature                       0\n",
      "product_concentration_mg_mL       0\n",
      "product                           0\n",
      "protein_format                    0\n",
      "molecular_weight_kDa              0\n",
      "extinction_coefficient_L_molcm    0\n",
      "isoelectric_point                 0\n",
      "dtype: int64\n"
     ]
    }
   ],
   "source": [
    "#Search for empty data fields\n",
    "print(df.isnull().sum())"
   ]
  },
  {
   "cell_type": "markdown",
   "metadata": {},
   "source": [
    "### Data corrections\n",
    "\n",
    "According to the literature there are three explanatory variables, which have an impact on the viscosity of the solution. According to the Arrhenius equation, a higher temperature generally decreases viscosity, because molecular movement increases, reducing intermolecular interactions [6]. Also the product concentration might have an impact on the viscosity, because molecules in solution interact more frequently, leading to increased resistance to flow [7] Additionally larger and more complex proteins, such as aggregates or conjugated proteins, tend to increase solution viscosity due to their size and interaction with other molecules in the solution [8], which indicates that the moleculare weight of the product might have an impact on the measured viscosity. According to literature the relationship of all three explanatory variables and the target variable is exponentell. In order to use the linear regression the Log Transformation is used. Therefore the target variable 'viscosity_mpas' is normalized by calculating the base-10 logarithm of the variable (log_viscosity)."
   ]
  },
  {
   "cell_type": "code",
   "execution_count": 690,
   "metadata": {},
   "outputs": [],
   "source": [
    "# change data type in order to make pandas functions more efficient\n",
    "df['protein_format'] = pd.Categorical(df['protein_format'])"
   ]
  },
  {
   "cell_type": "code",
   "execution_count": 691,
   "metadata": {},
   "outputs": [],
   "source": [
    "# Make sure column names are lower case and eliminate spaces\n",
    "df.columns = df.columns.str.lower()"
   ]
  },
  {
   "cell_type": "code",
   "execution_count": 692,
   "metadata": {},
   "outputs": [],
   "source": [
    "# Log-transformation of the target variable (without unit)\n",
    "df['log_viscosity'] = np.log(df['viscosity_mpas'])"
   ]
  },
  {
   "cell_type": "code",
   "execution_count": 693,
   "metadata": {},
   "outputs": [],
   "source": [
    "# For a better overview data set is reduced to the most interesting variables we want to examine\n",
    "df = df.loc[0:502,['viscosity_mpas','protein_format','log_viscosity','temperature','product_concentration_mg_ml','molecular_weight_kda','extinction_coefficient_l_molcm','isoelectric_point']]"
   ]
  },
  {
   "cell_type": "markdown",
   "metadata": {},
   "source": [
    "### Descriptive statistics"
   ]
  },
  {
   "cell_type": "code",
   "execution_count": 694,
   "metadata": {},
   "outputs": [
    {
     "data": {
      "text/html": [
       "<div>\n",
       "<style scoped>\n",
       "    .dataframe tbody tr th:only-of-type {\n",
       "        vertical-align: middle;\n",
       "    }\n",
       "\n",
       "    .dataframe tbody tr th {\n",
       "        vertical-align: top;\n",
       "    }\n",
       "\n",
       "    .dataframe thead th {\n",
       "        text-align: right;\n",
       "    }\n",
       "</style>\n",
       "<table border=\"1\" class=\"dataframe\">\n",
       "  <thead>\n",
       "    <tr style=\"text-align: right;\">\n",
       "      <th></th>\n",
       "      <th>count</th>\n",
       "      <th>mean</th>\n",
       "      <th>std</th>\n",
       "      <th>min</th>\n",
       "      <th>25%</th>\n",
       "      <th>50%</th>\n",
       "      <th>75%</th>\n",
       "      <th>max</th>\n",
       "    </tr>\n",
       "  </thead>\n",
       "  <tbody>\n",
       "    <tr>\n",
       "      <th>viscosity_mpas</th>\n",
       "      <td>502.0</td>\n",
       "      <td>3.894861</td>\n",
       "      <td>2.990443</td>\n",
       "      <td>0.540000</td>\n",
       "      <td>2.200000</td>\n",
       "      <td>3.165000</td>\n",
       "      <td>4.547500</td>\n",
       "      <td>27.870000</td>\n",
       "    </tr>\n",
       "    <tr>\n",
       "      <th>log_viscosity</th>\n",
       "      <td>502.0</td>\n",
       "      <td>1.173634</td>\n",
       "      <td>0.580932</td>\n",
       "      <td>-0.616186</td>\n",
       "      <td>0.788457</td>\n",
       "      <td>1.152152</td>\n",
       "      <td>1.514577</td>\n",
       "      <td>3.327551</td>\n",
       "    </tr>\n",
       "    <tr>\n",
       "      <th>temperature</th>\n",
       "      <td>502.0</td>\n",
       "      <td>20.203187</td>\n",
       "      <td>12.610650</td>\n",
       "      <td>2.000000</td>\n",
       "      <td>10.000000</td>\n",
       "      <td>20.000000</td>\n",
       "      <td>30.000000</td>\n",
       "      <td>40.000000</td>\n",
       "    </tr>\n",
       "    <tr>\n",
       "      <th>product_concentration_mg_ml</th>\n",
       "      <td>502.0</td>\n",
       "      <td>36.354582</td>\n",
       "      <td>26.275976</td>\n",
       "      <td>10.000000</td>\n",
       "      <td>10.000000</td>\n",
       "      <td>62.500000</td>\n",
       "      <td>62.500000</td>\n",
       "      <td>62.500000</td>\n",
       "    </tr>\n",
       "    <tr>\n",
       "      <th>molecular_weight_kda</th>\n",
       "      <td>502.0</td>\n",
       "      <td>161211.103586</td>\n",
       "      <td>22382.413980</td>\n",
       "      <td>146286.000000</td>\n",
       "      <td>148783.000000</td>\n",
       "      <td>149601.000000</td>\n",
       "      <td>155089.000000</td>\n",
       "      <td>206428.000000</td>\n",
       "    </tr>\n",
       "    <tr>\n",
       "      <th>extinction_coefficient_l_molcm</th>\n",
       "      <td>502.0</td>\n",
       "      <td>241.135538</td>\n",
       "      <td>50.327715</td>\n",
       "      <td>201.400000</td>\n",
       "      <td>207.360000</td>\n",
       "      <td>220.420000</td>\n",
       "      <td>236.920000</td>\n",
       "      <td>355.710000</td>\n",
       "    </tr>\n",
       "    <tr>\n",
       "      <th>isoelectric_point</th>\n",
       "      <td>502.0</td>\n",
       "      <td>8.094382</td>\n",
       "      <td>0.580659</td>\n",
       "      <td>6.970000</td>\n",
       "      <td>7.750000</td>\n",
       "      <td>8.270000</td>\n",
       "      <td>8.420000</td>\n",
       "      <td>9.360000</td>\n",
       "    </tr>\n",
       "  </tbody>\n",
       "</table>\n",
       "</div>"
      ],
      "text/plain": [
       "                                count           mean           std  \\\n",
       "viscosity_mpas                  502.0       3.894861      2.990443   \n",
       "log_viscosity                   502.0       1.173634      0.580932   \n",
       "temperature                     502.0      20.203187     12.610650   \n",
       "product_concentration_mg_ml     502.0      36.354582     26.275976   \n",
       "molecular_weight_kda            502.0  161211.103586  22382.413980   \n",
       "extinction_coefficient_l_molcm  502.0     241.135538     50.327715   \n",
       "isoelectric_point               502.0       8.094382      0.580659   \n",
       "\n",
       "                                          min            25%            50%  \\\n",
       "viscosity_mpas                       0.540000       2.200000       3.165000   \n",
       "log_viscosity                       -0.616186       0.788457       1.152152   \n",
       "temperature                          2.000000      10.000000      20.000000   \n",
       "product_concentration_mg_ml         10.000000      10.000000      62.500000   \n",
       "molecular_weight_kda            146286.000000  148783.000000  149601.000000   \n",
       "extinction_coefficient_l_molcm     201.400000     207.360000     220.420000   \n",
       "isoelectric_point                    6.970000       7.750000       8.270000   \n",
       "\n",
       "                                          75%            max  \n",
       "viscosity_mpas                       4.547500      27.870000  \n",
       "log_viscosity                        1.514577       3.327551  \n",
       "temperature                         30.000000      40.000000  \n",
       "product_concentration_mg_ml         62.500000      62.500000  \n",
       "molecular_weight_kda            155089.000000  206428.000000  \n",
       "extinction_coefficient_l_molcm     236.920000     355.710000  \n",
       "isoelectric_point                    8.420000       9.360000  "
      ]
     },
     "execution_count": 694,
     "metadata": {},
     "output_type": "execute_result"
    }
   ],
   "source": [
    "df.describe().T"
   ]
  },
  {
   "cell_type": "markdown",
   "metadata": {},
   "source": [
    "The predictor variables exhibit significant differences in scale. To enable a meaningful comparison of their influence on the target variable, standardizing all features may enhance the model's performance."
   ]
  },
  {
   "cell_type": "markdown",
   "metadata": {},
   "source": [
    "### Exploratory data analysis\n",
    "\n",
    "In order to visualize the relationship between the explanatory variables and the response variable, charts were created with the training data. According to literature a linear correlation of all three parameters (temperature, product concentration, molecular weight) and the logarithm of the viscosity is expected. Although all three predictor variables take continuous numerical values, the dataset contains only a specific number of defined values for the independent variables. There exist only nine values of the temperature (2°C, 5°C, 10°C, 15°C, 20°C, 25°C, 30°C, 35°C, 40°C), two values of the product concentration (10 mg/mL, 62.5 mg/mL) and 14 values of the molecular weight. Therefore box plots were chosen to visualize the distribution of the response variable within these values of the predictor variables."
   ]
  },
  {
   "cell_type": "code",
   "execution_count": 695,
   "metadata": {},
   "outputs": [
    {
     "data": {
      "image/png": "[encoded data removed]",
      "text/plain": [
       "<Figure size 1100x400 with 2 Axes>"
      ]
     },
     "metadata": {},
     "output_type": "display_data"
    }
   ],
   "source": [
    "fig, axes = plt.subplots(1, 2, figsize=(11, 4))  \n",
    "\n",
    "sns.boxplot(data=df, x='temperature', y='viscosity_mpas', ax=axes[0])\n",
    "axes[0].set_title(\"Without logarithmic transformation\")\n",
    "\n",
    "sns.boxplot(data=df, x='temperature', y='log_viscosity', ax=axes[1])\n",
    "axes[1].set_title(\"With logarithmic transformation\")\n",
    "\n",
    "plt.show()"
   ]
  },
  {
   "cell_type": "markdown",
   "metadata": {},
   "source": [
    "In the left box plot, the relationship between the measured viscosity in mPas and the temperature in °C is shown without log transformation of the response variable. A slightly negative trend is evident from the individual data points. As temperature increases, the measured viscosity decreases, indicating a negative association between the two variables. The high number of outliers above the whiskers and the longer upper whiskers indicate a right-skewed disctibution. The pattern of the data points suggests an exponential relationship between the two variables. These findings are consistent with the literature, which states that the viscosity of a fluid decreases exponentially as temperature rises [6].\n",
    "\n",
    "In order to get a more symmetric distribution, reduce the impact of outliers and get a linear relationship a logarithmic transformation was done, which is shown in the right box plot. In this chart the relationship beween the base-10 logarithm of the viscosity (log_viscosity) and the temperature is shown. Although there are still outliers in the graph above the boxes, the distribution of the response variable appears to be more symmetric. The lengths of the lower and upper whiskers in the box plots have become more balanced and the chart suggests a moderate linear correlation between the two variables. "
   ]
  },
  {
   "cell_type": "code",
   "execution_count": 696,
   "metadata": {},
   "outputs": [
    {
     "data": {
      "image/png": "[encoded data removed]",
      "text/plain": [
       "<Figure size 1100x400 with 2 Axes>"
      ]
     },
     "metadata": {},
     "output_type": "display_data"
    }
   ],
   "source": [
    "fig, axes = plt.subplots(1, 2, figsize=(11, 4))  \n",
    "\n",
    "sns.boxplot(data=df, x='product_concentration_mg_ml', y='viscosity_mpas', ax=axes[0])\n",
    "axes[0].set_title(\"Without logarithmic transformation\")\n",
    "\n",
    "sns.boxplot(data=df, x='product_concentration_mg_ml', y='log_viscosity', ax=axes[1])\n",
    "axes[1].set_title(\"With logarithmic transformation\")\n",
    "\n",
    "plt.show()"
   ]
  },
  {
   "cell_type": "markdown",
   "metadata": {},
   "source": [
    "The left graph illustrates the relationship between measured viscosity (in mPas) and product concentration (in mg/mL). The presence of numerous outliers and the longer upper whiskers indicate a right-skewed distribution, similar to the graphs above.\n",
    "\n",
    "The right graph shows the relationship between the base-10 logarithm of viscosity (log_viscosity) and product concentration (in mg/mL). Although only two concentration levels (10 mg/mL and 62.5 mg/mL) were analyzed, a clear positive correlation between the logarithm of viscosity and product concentration is observed. The median positions within the boxes suggest that the distribution of the response variable is more symmetric compared to the left graph (without normalization). This increased symmetry indicates that the relationship between product concentration and logarithmically transformed viscosity is linear, whereas the relationship with the untransformed viscosity follows an exponential pattern. These findings are consistent with the literature, which reports that the viscosity of protein solutions increases exponentially with rising protein concentration [7]."
   ]
  },
  {
   "cell_type": "code",
   "execution_count": 697,
   "metadata": {},
   "outputs": [
    {
     "data": {
      "image/png": "[encoded data removed]",
      "text/plain": [
       "<Figure size 1100x400 with 2 Axes>"
      ]
     },
     "metadata": {},
     "output_type": "display_data"
    }
   ],
   "source": [
    "fig, axes = plt.subplots(1, 2, figsize=(11, 4))  \n",
    "\n",
    "sns.scatterplot(data=df, x='molecular_weight_kda', y='viscosity_mpas', ax=axes[0])\n",
    "axes[0].set_title(\"Without logarithmic transformation\")\n",
    "\n",
    "sns.scatterplot(data=df, x='molecular_weight_kda', y='log_viscosity', ax=axes[1])\n",
    "axes[1].set_title(\"With logarithmic transformation\")\n",
    "\n",
    "plt.show()"
   ]
  },
  {
   "cell_type": "markdown",
   "metadata": {},
   "source": [
    "The left graph illustrates the relationship between measured viscosity (in mPas) and the molecular weight (in mg/mL). To achieve a continuous distribution of the data points along the x-axis, a scatter plot was chosen for visualization instead of a box plot. Nevertheless a right-skewed distribution especially at higher molecular weight is observed.\n",
    "\n",
    "In the right graph the distriubution seems to be more symmatrical. In this graph the relationship between the logarithm of the measured viscosity (in mPas) and the molecular weight (in kDa) of the product is shown. Despite the dataset containing 14 different molecular weights, the predictor variable is not evenly distributed along the x-axis. The graph reveals that the molecular weights can be grouped into two main clusters: a smaller cluster between 140,000 kDa and 160,000 kDa, and a larger cluster between 200,000 kDa and 210,000 kDa. The logarithmically transformed viscosity of the heavier molecules appears to be higher than that of the smaller molecules, suggesting a positive association between molecular weight and logarithmically transformed viscosity. "
   ]
  },
  {
   "cell_type": "markdown",
   "metadata": {},
   "source": [
    "Besides the numerical predictors there is also a categorical variable, which might have an impact on the response variable. The protein format is the type of protein, which was examined during the measurements. This attribute consists of four different categories: IgG2, IgG4, Knob/Hole, DoppelMab. Before including this variable in the model development, the distribution of the data within the data set is determined:"
   ]
  },
  {
   "cell_type": "code",
   "execution_count": 698,
   "metadata": {},
   "outputs": [
    {
     "data": {
      "text/plain": [
       "protein_format\n",
       "IgG2         250\n",
       "DoppelMab    108\n",
       "IgG4          72\n",
       "Knob/Hole     72\n",
       "Name: count, dtype: int64"
      ]
     },
     "execution_count": 698,
     "metadata": {},
     "output_type": "execute_result"
    }
   ],
   "source": [
    "counts = df['protein_format'].value_counts()\n",
    "counts"
   ]
  },
  {
   "cell_type": "markdown",
   "metadata": {},
   "source": [
    "The variable protein_format contain a good distribution of data, which might be helpful to improve the model's accuracy. In the following chart the relationship between the protein format and the response variable will be visualized. To show the distribution of the data within the four categories boxplots were chosen."
   ]
  },
  {
   "cell_type": "code",
   "execution_count": 699,
   "metadata": {},
   "outputs": [
    {
     "data": {
      "image/png": "[encoded data removed]",
      "text/plain": [
       "<Figure size 1100x400 with 2 Axes>"
      ]
     },
     "metadata": {},
     "output_type": "display_data"
    }
   ],
   "source": [
    "fig, axes = plt.subplots(1, 2, figsize=(11, 4))  \n",
    "\n",
    "sns.boxplot(data=df, x='protein_format', y='viscosity_mpas', ax=axes[0])\n",
    "axes[0].set_title(\"Without logarithmic transformation\")\n",
    "\n",
    "sns.boxplot(data=df, x='protein_format', y='log_viscosity', ax=axes[1])\n",
    "axes[1].set_title(\"With logarithmic transformation\")\n",
    "\n",
    "plt.show()"
   ]
  },
  {
   "cell_type": "markdown",
   "metadata": {},
   "source": [
    "In the left graph the distribution of the viscosity values in mPas within the four categories of the protein format variable were shown. Like in the graphs with the numerical variables above a right skewed distribution is visible. The distribution in the right box plot (logarithmically transformed viscosity) seems to be more symmetrically"
   ]
  },
  {
   "cell_type": "markdown",
   "metadata": {},
   "source": [
    "These variables can be transformed to numerical variables using the function pd.get_dummies:"
   ]
  },
  {
   "cell_type": "code",
   "execution_count": 700,
   "metadata": {},
   "outputs": [],
   "source": [
    "df = pd.get_dummies(df, columns=['protein_format'], drop_first= True)\n",
    "#new columns were convert into integer data types\n",
    "df['protein_format_IgG2'] = df['protein_format_IgG2'].astype(int)\n",
    "df['protein_format_IgG4'] = df['protein_format_IgG4'].astype(int)\n",
    "df['protein_format_Knob/Hole'] = df['protein_format_Knob/Hole'].astype(int)\n",
    "#df['protein_format_DoppelMab'] = df['protein_format_DoppelMab'].astype(int)"
   ]
  },
  {
   "cell_type": "code",
   "execution_count": 701,
   "metadata": {},
   "outputs": [
    {
     "data": {
      "text/html": [
       "<div>\n",
       "<style scoped>\n",
       "    .dataframe tbody tr th:only-of-type {\n",
       "        vertical-align: middle;\n",
       "    }\n",
       "\n",
       "    .dataframe tbody tr th {\n",
       "        vertical-align: top;\n",
       "    }\n",
       "\n",
       "    .dataframe thead th {\n",
       "        text-align: right;\n",
       "    }\n",
       "</style>\n",
       "<table border=\"1\" class=\"dataframe\">\n",
       "  <thead>\n",
       "    <tr style=\"text-align: right;\">\n",
       "      <th></th>\n",
       "      <th>viscosity_mpas</th>\n",
       "      <th>log_viscosity</th>\n",
       "      <th>temperature</th>\n",
       "      <th>product_concentration_mg_ml</th>\n",
       "      <th>molecular_weight_kda</th>\n",
       "      <th>extinction_coefficient_l_molcm</th>\n",
       "      <th>isoelectric_point</th>\n",
       "      <th>protein_format_IgG2</th>\n",
       "      <th>protein_format_IgG4</th>\n",
       "      <th>protein_format_Knob/Hole</th>\n",
       "    </tr>\n",
       "  </thead>\n",
       "  <tbody>\n",
       "    <tr>\n",
       "      <th>0</th>\n",
       "      <td>3.93</td>\n",
       "      <td>1.368639</td>\n",
       "      <td>2</td>\n",
       "      <td>10.0</td>\n",
       "      <td>148830</td>\n",
       "      <td>220.42</td>\n",
       "      <td>8.54</td>\n",
       "      <td>1</td>\n",
       "      <td>0</td>\n",
       "      <td>0</td>\n",
       "    </tr>\n",
       "    <tr>\n",
       "      <th>1</th>\n",
       "      <td>4.28</td>\n",
       "      <td>1.453953</td>\n",
       "      <td>2</td>\n",
       "      <td>10.0</td>\n",
       "      <td>148830</td>\n",
       "      <td>220.42</td>\n",
       "      <td>8.54</td>\n",
       "      <td>1</td>\n",
       "      <td>0</td>\n",
       "      <td>0</td>\n",
       "    </tr>\n",
       "    <tr>\n",
       "      <th>2</th>\n",
       "      <td>3.42</td>\n",
       "      <td>1.229641</td>\n",
       "      <td>5</td>\n",
       "      <td>10.0</td>\n",
       "      <td>148830</td>\n",
       "      <td>220.42</td>\n",
       "      <td>8.54</td>\n",
       "      <td>1</td>\n",
       "      <td>0</td>\n",
       "      <td>0</td>\n",
       "    </tr>\n",
       "    <tr>\n",
       "      <th>3</th>\n",
       "      <td>3.69</td>\n",
       "      <td>1.305626</td>\n",
       "      <td>5</td>\n",
       "      <td>10.0</td>\n",
       "      <td>148830</td>\n",
       "      <td>220.42</td>\n",
       "      <td>8.54</td>\n",
       "      <td>1</td>\n",
       "      <td>0</td>\n",
       "      <td>0</td>\n",
       "    </tr>\n",
       "    <tr>\n",
       "      <th>4</th>\n",
       "      <td>2.89</td>\n",
       "      <td>1.061257</td>\n",
       "      <td>10</td>\n",
       "      <td>10.0</td>\n",
       "      <td>148830</td>\n",
       "      <td>220.42</td>\n",
       "      <td>8.54</td>\n",
       "      <td>1</td>\n",
       "      <td>0</td>\n",
       "      <td>0</td>\n",
       "    </tr>\n",
       "  </tbody>\n",
       "</table>\n",
       "</div>"
      ],
      "text/plain": [
       "   viscosity_mpas  log_viscosity  temperature  product_concentration_mg_ml  \\\n",
       "0            3.93       1.368639            2                         10.0   \n",
       "1            4.28       1.453953            2                         10.0   \n",
       "2            3.42       1.229641            5                         10.0   \n",
       "3            3.69       1.305626            5                         10.0   \n",
       "4            2.89       1.061257           10                         10.0   \n",
       "\n",
       "   molecular_weight_kda  extinction_coefficient_l_molcm  isoelectric_point  \\\n",
       "0                148830                          220.42               8.54   \n",
       "1                148830                          220.42               8.54   \n",
       "2                148830                          220.42               8.54   \n",
       "3                148830                          220.42               8.54   \n",
       "4                148830                          220.42               8.54   \n",
       "\n",
       "   protein_format_IgG2  protein_format_IgG4  protein_format_Knob/Hole  \n",
       "0                    1                    0                         0  \n",
       "1                    1                    0                         0  \n",
       "2                    1                    0                         0  \n",
       "3                    1                    0                         0  \n",
       "4                    1                    0                         0  "
      ]
     },
     "execution_count": 701,
     "metadata": {},
     "output_type": "execute_result"
    }
   ],
   "source": [
    "df.head()"
   ]
  },
  {
   "cell_type": "markdown",
   "metadata": {},
   "source": [
    "## Methodology"
   ]
  },
  {
   "cell_type": "markdown",
   "metadata": {},
   "source": [
    "The chart below is a correlation matrix, which is a tabular representation of the pairwise correlation coefficients between all numerical variables in the dataset, including the predictors, the target variable and the logarithmic transformed target variable. The correlation matrix indicates the strength and direction of the linear relationship between two variables, which will be helpful to discuss possible variable transformations or to identify multicollinearity."
   ]
  },
  {
   "cell_type": "code",
   "execution_count": 702,
   "metadata": {},
   "outputs": [
    {
     "data": {
      "text/html": [
       "<style type=\"text/css\">\n",
       "#T_dc738_row0_col0, #T_dc738_row1_col1, #T_dc738_row2_col2, #T_dc738_row3_col3, #T_dc738_row4_col4, #T_dc738_row5_col5, #T_dc738_row6_col6, #T_dc738_row7_col7, #T_dc738_row8_col8, #T_dc738_row9_col9 {\n",
       "  background-color: #08306b;\n",
       "  color: #f1f1f1;\n",
       "}\n",
       "#T_dc738_row0_col1, #T_dc738_row1_col0 {\n",
       "  background-color: #084f99;\n",
       "  color: #f1f1f1;\n",
       "}\n",
       "#T_dc738_row0_col2, #T_dc738_row2_col0 {\n",
       "  background-color: #6aaed6;\n",
       "  color: #f1f1f1;\n",
       "}\n",
       "#T_dc738_row0_col3, #T_dc738_row3_col0 {\n",
       "  background-color: #87bddc;\n",
       "  color: #000000;\n",
       "}\n",
       "#T_dc738_row0_col4, #T_dc738_row4_col0 {\n",
       "  background-color: #a3cce3;\n",
       "  color: #000000;\n",
       "}\n",
       "#T_dc738_row0_col5, #T_dc738_row5_col0 {\n",
       "  background-color: #a6cee4;\n",
       "  color: #000000;\n",
       "}\n",
       "#T_dc738_row0_col6, #T_dc738_row6_col0 {\n",
       "  background-color: #d8e7f5;\n",
       "  color: #000000;\n",
       "}\n",
       "#T_dc738_row0_col7, #T_dc738_row7_col0 {\n",
       "  background-color: #cee0f2;\n",
       "  color: #000000;\n",
       "}\n",
       "#T_dc738_row0_col8, #T_dc738_row8_col0 {\n",
       "  background-color: #f2f7fd;\n",
       "  color: #000000;\n",
       "}\n",
       "#T_dc738_row0_col9, #T_dc738_row1_col9, #T_dc738_row9_col0, #T_dc738_row9_col1 {\n",
       "  background-color: #e5eff9;\n",
       "  color: #000000;\n",
       "}\n",
       "#T_dc738_row1_col2, #T_dc738_row2_col1 {\n",
       "  background-color: #4090c5;\n",
       "  color: #f1f1f1;\n",
       "}\n",
       "#T_dc738_row1_col3, #T_dc738_row3_col1 {\n",
       "  background-color: #64a9d3;\n",
       "  color: #f1f1f1;\n",
       "}\n",
       "#T_dc738_row1_col4, #T_dc738_row4_col1 {\n",
       "  background-color: #b3d3e8;\n",
       "  color: #000000;\n",
       "}\n",
       "#T_dc738_row1_col5, #T_dc738_row5_col1 {\n",
       "  background-color: #b9d6ea;\n",
       "  color: #000000;\n",
       "}\n",
       "#T_dc738_row1_col6, #T_dc738_row1_col7, #T_dc738_row5_col6, #T_dc738_row6_col1, #T_dc738_row6_col5, #T_dc738_row7_col1 {\n",
       "  background-color: #d2e3f3;\n",
       "  color: #000000;\n",
       "}\n",
       "#T_dc738_row1_col8, #T_dc738_row2_col3, #T_dc738_row2_col4, #T_dc738_row2_col5, #T_dc738_row2_col6, #T_dc738_row2_col7, #T_dc738_row2_col8, #T_dc738_row2_col9, #T_dc738_row3_col2, #T_dc738_row3_col4, #T_dc738_row3_col5, #T_dc738_row3_col6, #T_dc738_row3_col7, #T_dc738_row3_col8, #T_dc738_row3_col9, #T_dc738_row4_col2, #T_dc738_row4_col3, #T_dc738_row5_col2, #T_dc738_row5_col3, #T_dc738_row6_col2, #T_dc738_row6_col3, #T_dc738_row7_col2, #T_dc738_row7_col3, #T_dc738_row8_col1, #T_dc738_row8_col2, #T_dc738_row8_col3, #T_dc738_row9_col2, #T_dc738_row9_col3 {\n",
       "  background-color: #f7fbff;\n",
       "  color: #000000;\n",
       "}\n",
       "#T_dc738_row4_col5, #T_dc738_row5_col4 {\n",
       "  background-color: #083573;\n",
       "  color: #f1f1f1;\n",
       "}\n",
       "#T_dc738_row4_col6, #T_dc738_row6_col4 {\n",
       "  background-color: #b0d2e7;\n",
       "  color: #000000;\n",
       "}\n",
       "#T_dc738_row4_col7, #T_dc738_row7_col4 {\n",
       "  background-color: #549fcd;\n",
       "  color: #f1f1f1;\n",
       "}\n",
       "#T_dc738_row4_col8, #T_dc738_row8_col4 {\n",
       "  background-color: #c8dcf0;\n",
       "  color: #000000;\n",
       "}\n",
       "#T_dc738_row4_col9, #T_dc738_row9_col4 {\n",
       "  background-color: #dfecf7;\n",
       "  color: #000000;\n",
       "}\n",
       "#T_dc738_row5_col7, #T_dc738_row7_col5 {\n",
       "  background-color: #4d99ca;\n",
       "  color: #f1f1f1;\n",
       "}\n",
       "#T_dc738_row5_col8, #T_dc738_row8_col5 {\n",
       "  background-color: #c6dbef;\n",
       "  color: #000000;\n",
       "}\n",
       "#T_dc738_row5_col9, #T_dc738_row9_col5 {\n",
       "  background-color: #eff6fc;\n",
       "  color: #000000;\n",
       "}\n",
       "#T_dc738_row6_col7, #T_dc738_row7_col6 {\n",
       "  background-color: #bdd7ec;\n",
       "  color: #000000;\n",
       "}\n",
       "#T_dc738_row6_col8, #T_dc738_row8_col6 {\n",
       "  background-color: #74b3d8;\n",
       "  color: #000000;\n",
       "}\n",
       "#T_dc738_row6_col9, #T_dc738_row9_col6 {\n",
       "  background-color: #68acd5;\n",
       "  color: #f1f1f1;\n",
       "}\n",
       "#T_dc738_row7_col8, #T_dc738_row7_col9, #T_dc738_row8_col7, #T_dc738_row9_col7 {\n",
       "  background-color: #91c3de;\n",
       "  color: #000000;\n",
       "}\n",
       "#T_dc738_row8_col9, #T_dc738_row9_col8 {\n",
       "  background-color: #d6e5f4;\n",
       "  color: #000000;\n",
       "}\n",
       "</style>\n",
       "<table id=\"T_dc738\">\n",
       "  <thead>\n",
       "    <tr>\n",
       "      <th class=\"blank level0\" >&nbsp;</th>\n",
       "      <th id=\"T_dc738_level0_col0\" class=\"col_heading level0 col0\" >viscosity_mpas</th>\n",
       "      <th id=\"T_dc738_level0_col1\" class=\"col_heading level0 col1\" >log_viscosity</th>\n",
       "      <th id=\"T_dc738_level0_col2\" class=\"col_heading level0 col2\" >temperature</th>\n",
       "      <th id=\"T_dc738_level0_col3\" class=\"col_heading level0 col3\" >product_concentration_mg_ml</th>\n",
       "      <th id=\"T_dc738_level0_col4\" class=\"col_heading level0 col4\" >molecular_weight_kda</th>\n",
       "      <th id=\"T_dc738_level0_col5\" class=\"col_heading level0 col5\" >extinction_coefficient_l_molcm</th>\n",
       "      <th id=\"T_dc738_level0_col6\" class=\"col_heading level0 col6\" >isoelectric_point</th>\n",
       "      <th id=\"T_dc738_level0_col7\" class=\"col_heading level0 col7\" >protein_format_IgG2</th>\n",
       "      <th id=\"T_dc738_level0_col8\" class=\"col_heading level0 col8\" >protein_format_IgG4</th>\n",
       "      <th id=\"T_dc738_level0_col9\" class=\"col_heading level0 col9\" >protein_format_Knob/Hole</th>\n",
       "    </tr>\n",
       "  </thead>\n",
       "  <tbody>\n",
       "    <tr>\n",
       "      <th id=\"T_dc738_level0_row0\" class=\"row_heading level0 row0\" >viscosity_mpas</th>\n",
       "      <td id=\"T_dc738_row0_col0\" class=\"data row0 col0\" >1.000000</td>\n",
       "      <td id=\"T_dc738_row0_col1\" class=\"data row0 col1\" >0.880000</td>\n",
       "      <td id=\"T_dc738_row0_col2\" class=\"data row0 col2\" >-0.500000</td>\n",
       "      <td id=\"T_dc738_row0_col3\" class=\"data row0 col3\" >0.430000</td>\n",
       "      <td id=\"T_dc738_row0_col4\" class=\"data row0 col4\" >0.360000</td>\n",
       "      <td id=\"T_dc738_row0_col5\" class=\"data row0 col5\" >0.350000</td>\n",
       "      <td id=\"T_dc738_row0_col6\" class=\"data row0 col6\" >-0.160000</td>\n",
       "      <td id=\"T_dc738_row0_col7\" class=\"data row0 col7\" >-0.210000</td>\n",
       "      <td id=\"T_dc738_row0_col8\" class=\"data row0 col8\" >-0.030000</td>\n",
       "      <td id=\"T_dc738_row0_col9\" class=\"data row0 col9\" >-0.090000</td>\n",
       "    </tr>\n",
       "    <tr>\n",
       "      <th id=\"T_dc738_level0_row1\" class=\"row_heading level0 row1\" >log_viscosity</th>\n",
       "      <td id=\"T_dc738_row1_col0\" class=\"data row1 col0\" >0.880000</td>\n",
       "      <td id=\"T_dc738_row1_col1\" class=\"data row1 col1\" >1.000000</td>\n",
       "      <td id=\"T_dc738_row1_col2\" class=\"data row1 col2\" >-0.630000</td>\n",
       "      <td id=\"T_dc738_row1_col3\" class=\"data row1 col3\" >0.520000</td>\n",
       "      <td id=\"T_dc738_row1_col4\" class=\"data row1 col4\" >0.310000</td>\n",
       "      <td id=\"T_dc738_row1_col5\" class=\"data row1 col5\" >0.290000</td>\n",
       "      <td id=\"T_dc738_row1_col6\" class=\"data row1 col6\" >-0.190000</td>\n",
       "      <td id=\"T_dc738_row1_col7\" class=\"data row1 col7\" >-0.190000</td>\n",
       "      <td id=\"T_dc738_row1_col8\" class=\"data row1 col8\" >0.000000</td>\n",
       "      <td id=\"T_dc738_row1_col9\" class=\"data row1 col9\" >-0.090000</td>\n",
       "    </tr>\n",
       "    <tr>\n",
       "      <th id=\"T_dc738_level0_row2\" class=\"row_heading level0 row2\" >temperature</th>\n",
       "      <td id=\"T_dc738_row2_col0\" class=\"data row2 col0\" >-0.500000</td>\n",
       "      <td id=\"T_dc738_row2_col1\" class=\"data row2 col1\" >-0.630000</td>\n",
       "      <td id=\"T_dc738_row2_col2\" class=\"data row2 col2\" >1.000000</td>\n",
       "      <td id=\"T_dc738_row2_col3\" class=\"data row2 col3\" >0.000000</td>\n",
       "      <td id=\"T_dc738_row2_col4\" class=\"data row2 col4\" >0.000000</td>\n",
       "      <td id=\"T_dc738_row2_col5\" class=\"data row2 col5\" >0.000000</td>\n",
       "      <td id=\"T_dc738_row2_col6\" class=\"data row2 col6\" >0.000000</td>\n",
       "      <td id=\"T_dc738_row2_col7\" class=\"data row2 col7\" >-0.000000</td>\n",
       "      <td id=\"T_dc738_row2_col8\" class=\"data row2 col8\" >0.000000</td>\n",
       "      <td id=\"T_dc738_row2_col9\" class=\"data row2 col9\" >0.000000</td>\n",
       "    </tr>\n",
       "    <tr>\n",
       "      <th id=\"T_dc738_level0_row3\" class=\"row_heading level0 row3\" >product_concentration_mg_ml</th>\n",
       "      <td id=\"T_dc738_row3_col0\" class=\"data row3 col0\" >0.430000</td>\n",
       "      <td id=\"T_dc738_row3_col1\" class=\"data row3 col1\" >0.520000</td>\n",
       "      <td id=\"T_dc738_row3_col2\" class=\"data row3 col2\" >0.000000</td>\n",
       "      <td id=\"T_dc738_row3_col3\" class=\"data row3 col3\" >1.000000</td>\n",
       "      <td id=\"T_dc738_row3_col4\" class=\"data row3 col4\" >-0.000000</td>\n",
       "      <td id=\"T_dc738_row3_col5\" class=\"data row3 col5\" >-0.000000</td>\n",
       "      <td id=\"T_dc738_row3_col6\" class=\"data row3 col6\" >-0.000000</td>\n",
       "      <td id=\"T_dc738_row3_col7\" class=\"data row3 col7\" >0.000000</td>\n",
       "      <td id=\"T_dc738_row3_col8\" class=\"data row3 col8\" >-0.000000</td>\n",
       "      <td id=\"T_dc738_row3_col9\" class=\"data row3 col9\" >-0.000000</td>\n",
       "    </tr>\n",
       "    <tr>\n",
       "      <th id=\"T_dc738_level0_row4\" class=\"row_heading level0 row4\" >molecular_weight_kda</th>\n",
       "      <td id=\"T_dc738_row4_col0\" class=\"data row4 col0\" >0.360000</td>\n",
       "      <td id=\"T_dc738_row4_col1\" class=\"data row4 col1\" >0.310000</td>\n",
       "      <td id=\"T_dc738_row4_col2\" class=\"data row4 col2\" >0.000000</td>\n",
       "      <td id=\"T_dc738_row4_col3\" class=\"data row4 col3\" >-0.000000</td>\n",
       "      <td id=\"T_dc738_row4_col4\" class=\"data row4 col4\" >1.000000</td>\n",
       "      <td id=\"T_dc738_row4_col5\" class=\"data row4 col5\" >0.980000</td>\n",
       "      <td id=\"T_dc738_row4_col6\" class=\"data row4 col6\" >-0.320000</td>\n",
       "      <td id=\"T_dc738_row4_col7\" class=\"data row4 col7\" >-0.570000</td>\n",
       "      <td id=\"T_dc738_row4_col8\" class=\"data row4 col8\" >-0.240000</td>\n",
       "      <td id=\"T_dc738_row4_col9\" class=\"data row4 col9\" >-0.120000</td>\n",
       "    </tr>\n",
       "    <tr>\n",
       "      <th id=\"T_dc738_level0_row5\" class=\"row_heading level0 row5\" >extinction_coefficient_l_molcm</th>\n",
       "      <td id=\"T_dc738_row5_col0\" class=\"data row5 col0\" >0.350000</td>\n",
       "      <td id=\"T_dc738_row5_col1\" class=\"data row5 col1\" >0.290000</td>\n",
       "      <td id=\"T_dc738_row5_col2\" class=\"data row5 col2\" >0.000000</td>\n",
       "      <td id=\"T_dc738_row5_col3\" class=\"data row5 col3\" >-0.000000</td>\n",
       "      <td id=\"T_dc738_row5_col4\" class=\"data row5 col4\" >0.980000</td>\n",
       "      <td id=\"T_dc738_row5_col5\" class=\"data row5 col5\" >1.000000</td>\n",
       "      <td id=\"T_dc738_row5_col6\" class=\"data row5 col6\" >-0.190000</td>\n",
       "      <td id=\"T_dc738_row5_col7\" class=\"data row5 col7\" >-0.590000</td>\n",
       "      <td id=\"T_dc738_row5_col8\" class=\"data row5 col8\" >-0.250000</td>\n",
       "      <td id=\"T_dc738_row5_col9\" class=\"data row5 col9\" >-0.040000</td>\n",
       "    </tr>\n",
       "    <tr>\n",
       "      <th id=\"T_dc738_level0_row6\" class=\"row_heading level0 row6\" >isoelectric_point</th>\n",
       "      <td id=\"T_dc738_row6_col0\" class=\"data row6 col0\" >-0.160000</td>\n",
       "      <td id=\"T_dc738_row6_col1\" class=\"data row6 col1\" >-0.190000</td>\n",
       "      <td id=\"T_dc738_row6_col2\" class=\"data row6 col2\" >0.000000</td>\n",
       "      <td id=\"T_dc738_row6_col3\" class=\"data row6 col3\" >-0.000000</td>\n",
       "      <td id=\"T_dc738_row6_col4\" class=\"data row6 col4\" >-0.320000</td>\n",
       "      <td id=\"T_dc738_row6_col5\" class=\"data row6 col5\" >-0.190000</td>\n",
       "      <td id=\"T_dc738_row6_col6\" class=\"data row6 col6\" >1.000000</td>\n",
       "      <td id=\"T_dc738_row6_col7\" class=\"data row6 col7\" >0.280000</td>\n",
       "      <td id=\"T_dc738_row6_col8\" class=\"data row6 col8\" >-0.480000</td>\n",
       "      <td id=\"T_dc738_row6_col9\" class=\"data row6 col9\" >0.510000</td>\n",
       "    </tr>\n",
       "    <tr>\n",
       "      <th id=\"T_dc738_level0_row7\" class=\"row_heading level0 row7\" >protein_format_IgG2</th>\n",
       "      <td id=\"T_dc738_row7_col0\" class=\"data row7 col0\" >-0.210000</td>\n",
       "      <td id=\"T_dc738_row7_col1\" class=\"data row7 col1\" >-0.190000</td>\n",
       "      <td id=\"T_dc738_row7_col2\" class=\"data row7 col2\" >-0.000000</td>\n",
       "      <td id=\"T_dc738_row7_col3\" class=\"data row7 col3\" >0.000000</td>\n",
       "      <td id=\"T_dc738_row7_col4\" class=\"data row7 col4\" >-0.570000</td>\n",
       "      <td id=\"T_dc738_row7_col5\" class=\"data row7 col5\" >-0.590000</td>\n",
       "      <td id=\"T_dc738_row7_col6\" class=\"data row7 col6\" >0.280000</td>\n",
       "      <td id=\"T_dc738_row7_col7\" class=\"data row7 col7\" >1.000000</td>\n",
       "      <td id=\"T_dc738_row7_col8\" class=\"data row7 col8\" >-0.410000</td>\n",
       "      <td id=\"T_dc738_row7_col9\" class=\"data row7 col9\" >-0.410000</td>\n",
       "    </tr>\n",
       "    <tr>\n",
       "      <th id=\"T_dc738_level0_row8\" class=\"row_heading level0 row8\" >protein_format_IgG4</th>\n",
       "      <td id=\"T_dc738_row8_col0\" class=\"data row8 col0\" >-0.030000</td>\n",
       "      <td id=\"T_dc738_row8_col1\" class=\"data row8 col1\" >0.000000</td>\n",
       "      <td id=\"T_dc738_row8_col2\" class=\"data row8 col2\" >0.000000</td>\n",
       "      <td id=\"T_dc738_row8_col3\" class=\"data row8 col3\" >-0.000000</td>\n",
       "      <td id=\"T_dc738_row8_col4\" class=\"data row8 col4\" >-0.240000</td>\n",
       "      <td id=\"T_dc738_row8_col5\" class=\"data row8 col5\" >-0.250000</td>\n",
       "      <td id=\"T_dc738_row8_col6\" class=\"data row8 col6\" >-0.480000</td>\n",
       "      <td id=\"T_dc738_row8_col7\" class=\"data row8 col7\" >-0.410000</td>\n",
       "      <td id=\"T_dc738_row8_col8\" class=\"data row8 col8\" >1.000000</td>\n",
       "      <td id=\"T_dc738_row8_col9\" class=\"data row8 col9\" >-0.170000</td>\n",
       "    </tr>\n",
       "    <tr>\n",
       "      <th id=\"T_dc738_level0_row9\" class=\"row_heading level0 row9\" >protein_format_Knob/Hole</th>\n",
       "      <td id=\"T_dc738_row9_col0\" class=\"data row9 col0\" >-0.090000</td>\n",
       "      <td id=\"T_dc738_row9_col1\" class=\"data row9 col1\" >-0.090000</td>\n",
       "      <td id=\"T_dc738_row9_col2\" class=\"data row9 col2\" >0.000000</td>\n",
       "      <td id=\"T_dc738_row9_col3\" class=\"data row9 col3\" >-0.000000</td>\n",
       "      <td id=\"T_dc738_row9_col4\" class=\"data row9 col4\" >-0.120000</td>\n",
       "      <td id=\"T_dc738_row9_col5\" class=\"data row9 col5\" >-0.040000</td>\n",
       "      <td id=\"T_dc738_row9_col6\" class=\"data row9 col6\" >0.510000</td>\n",
       "      <td id=\"T_dc738_row9_col7\" class=\"data row9 col7\" >-0.410000</td>\n",
       "      <td id=\"T_dc738_row9_col8\" class=\"data row9 col8\" >-0.170000</td>\n",
       "      <td id=\"T_dc738_row9_col9\" class=\"data row9 col9\" >1.000000</td>\n",
       "    </tr>\n",
       "  </tbody>\n",
       "</table>\n"
      ],
      "text/plain": [
       "<pandas.io.formats.style.Styler at 0x129aa6a20>"
      ]
     },
     "execution_count": 702,
     "metadata": {},
     "output_type": "execute_result"
    }
   ],
   "source": [
    "corr = df.corr(method='pearson').round(2)\n",
    "corr_blues = corr.style.background_gradient(cmap='Blues', axis=None, gmap=corr.abs())\n",
    "corr_blues"
   ]
  },
  {
   "cell_type": "markdown",
   "metadata": {},
   "source": [
    "### Logarithmic Transformation\n",
    "\n",
    "Like shown before in the exploratory data analysis the relationship between some of the predictors like the temperature and logarithmically transformed viscosity is linear, whereas the relationship with the untransformed viscosity follows an exponential pattern. The correlation matrix above confirms these findings, showing that the linear relationship between temperature and the logarithmically transformed viscosity (-0.63) is stronger than with the untransformed response variable (-0.5).\n",
    "\n",
    "A similar improvement is observed for product_concentration_mg_ml, where the correlation coefficient increases by 0.09, from 0.43 to 0.52. This makes product concentration the second most strongly associated variable with the response variable. Additionally, there is a moderate positive correlation between molecular_weight_kda and the response variable (0.36). However, this decreases by 0.05, to 0.31, when the response variable is log-transformed.\n",
    "\n",
    "Although the linear relationship with molecular weight appears slightly weaker after the transformation, the exploratory analysis revealed a right-skewed distribution of the predictor without logarithmic transformation and a more symmetric distribution with the logarithmically transformed outcome variable. This justifies the use of the logarithmically transformed response variable (log_viscosity) for modeling process in order to improve model fit and satisfy assumptions.\n",
    "\n"
   ]
  },
  {
   "cell_type": "markdown",
   "metadata": {},
   "source": [
    "### Model selection\n",
    "\n",
    "As shown in the explorative data analysis there is a strong linear relationship between the examinded predictor variables and the logarithmic transformed response variable (log_viscosity). Because of this reason and the continuous numeric response variable a linear regression model will be used in the modeling process."
   ]
  },
  {
   "cell_type": "markdown",
   "metadata": {},
   "source": [
    "### Multicollinearity\n",
    "\n",
    "The correlation matrix at the start of this chapter reveals significant relationships among several predictor variables. For example, the correlation coefficient between molecular_weight_kda and extinction_coefficient_l_molcm is 0.98, indicating strong collinearity and a very high positive association. Similarly, the newly introduced predictor variable protein_format_IgG2 also shows a correlation with molecular_weight_kda. From a biochemical perspective, this is expected, as one of the primary differences between protein formats is their molecular weight.\n",
    "\n",
    "In contrast, no multicollinearity is observed between the temperature and any other predictor variable. The same is true for the product concentration (product_concentration_mg_ml). However, care must be taken when handling the other predictor variables during model development. A stepwise selection approach, where collinear predictor variables are added or removed one at a time, could help identify the best combination of features to optimize the model’s predictive performance while minimizing redundancy."
   ]
  },
  {
   "cell_type": "markdown",
   "metadata": {},
   "source": [
    "### Standardization\n",
    "\n",
    "Because predictor variables have different units and ranges, all numeric predictors were standardized in order to enhance interpretability of the linear regression model."
   ]
  },
  {
   "cell_type": "markdown",
   "metadata": {},
   "source": [
    "### Feature Selection\n",
    "\n",
    "As seen in the correlation matrix above the predictors temperature and product concentration have the biggest influence on the response variable without any collinearity with other variables. Besides these two predictors all other explanatory variables, which could have an impact on the model are included in the selection process.\n",
    "\n",
    "In order to select the predictors a forward selection is made, where all features were added one-at-a-time. Adjusted R² is used as a selection criterion to decide wether to eliminate or add a predictor. Only if the variable is addding value to the model, which means that they are increasing adjusted R² and thus the accuracy in predicting future outcomes, the variable will be included into the selection."
   ]
  },
  {
   "cell_type": "markdown",
   "metadata": {},
   "source": [
    "### Model Evaluation and Diagnostics\n",
    "\n",
    "adjusted R²\n",
    "MSE\n",
    "Cross Validation To account for potential overfitting, cross-validation was performed, and the final model was assessed using both training and validation datasets."
   ]
  },
  {
   "cell_type": "markdown",
   "metadata": {},
   "source": [
    "### Train-Test Split\n",
    "\n",
    "Before the stepwise selection of the candidate predictors the data set was split into training and test sets. This is a crucial step in linear regression model development (and in machine learning in general). The purpose is to ensure that the model is evaluated on unseen data, which helps assess its ability to generalize beyond the data it was trained on. "
   ]
  },
  {
   "cell_type": "code",
   "execution_count": 704,
   "metadata": {},
   "outputs": [],
   "source": [
    "# select features\n",
    "X = df[['temperature', 'product_concentration_mg_ml', 'molecular_weight_kda', 'extinction_coefficient_l_molcm', 'isoelectric_point','protein_format_IgG2','protein_format_IgG4','protein_format_Knob/Hole']]\n",
    "# create response\n",
    "y = df['log_viscosity']"
   ]
  },
  {
   "cell_type": "code",
   "execution_count": 710,
   "metadata": {},
   "outputs": [],
   "source": [
    "# use a test size of 0,2 and random state 42\n",
    "X_train, X_test, y_train, y_test = train_test_split(X, y, test_size=0.2, random_state=42)\n",
    "\n",
    "# use your training data to make a pandas dataframe\n",
    "df_train = pd.DataFrame(X_train.copy())\n",
    "\n",
    "# add your training labels to the data\n",
    "df_train = df_train.join(pd.DataFrame(y_train))"
   ]
  },
  {
   "cell_type": "code",
   "execution_count": 714,
   "metadata": {},
   "outputs": [],
   "source": [
    "scaler = StandardScaler()\n",
    "X_train_scaled = scaler.fit_transform(X_train)\n",
    "X_test_scaled = scaler.transform(X_test)\n",
    "\n",
    "# Standardisierte Daten zurück in einen DataFrame\n",
    "X_train_scaled = pd.DataFrame(X_train_scaled, columns=X.columns)\n",
    "X_test_scaled = pd.DataFrame(X_test_scaled, columns=X.columns)"
   ]
  },
  {
   "cell_type": "code",
   "execution_count": 715,
   "metadata": {},
   "outputs": [
    {
     "name": "stdout",
     "output_type": "stream",
     "text": [
      "Selected Features: ['temperature', 'product_concentration_mg_ml', 'molecular_weight_kda', 'isoelectric_point', 'protein_format_IgG4']\n",
      "Best Adjusted R²: 0.773589547797818\n"
     ]
    }
   ],
   "source": [
    "def adjusted_r2(model, X, y):\n",
    "    #Calculates the adjusted R²-value\n",
    "    n = len(y)\n",
    "    p = X.shape[1]\n",
    "    r2 = model.score(X, y)\n",
    "    return 1 - (1 - r2) * (n - 1) / (n - p - 1)\n",
    "\n",
    "def forward_selection(X, y):\n",
    "    #Run through forward selection based on the adjusted R² \n",
    "    selected_features = []\n",
    "    remaining_features = list(X.columns)\n",
    "    best_adjusted_r2 = -np.inf\n",
    "    final_model = None\n",
    "    \n",
    "    while remaining_features:\n",
    "        adjusted_r2_scores = {}\n",
    "        for feature in remaining_features:\n",
    "            current_features = selected_features + [feature]\n",
    "            X_subset = X[current_features]\n",
    "            model = LinearRegression()\n",
    "            model.fit(X_subset, y)\n",
    "            adj_r2 = adjusted_r2(model, X_subset, y)\n",
    "            adjusted_r2_scores[feature] = adj_r2\n",
    "        \n",
    "        # Add best feature\n",
    "        best_feature = max(adjusted_r2_scores, key=adjusted_r2_scores.get)\n",
    "        if adjusted_r2_scores[best_feature] > best_adjusted_r2:\n",
    "            best_adjusted_r2 = adjusted_r2_scores[best_feature]\n",
    "            selected_features.append(best_feature)\n",
    "            remaining_features.remove(best_feature)\n",
    "            final_model = LinearRegression().fit(X[selected_features], y)\n",
    "        else:\n",
    "            break\n",
    "    \n",
    "    return selected_features, best_adjusted_r2, final_model\n",
    "\n",
    "# Apply forward Selection on train data\n",
    "selected_features, best_adj_r2, final_model = forward_selection(X_train_scaled, y_train)\n",
    "\n",
    "print(\"Selected Features:\", selected_features)\n",
    "print(\"Best Adjusted R²:\", best_adj_r2)"
   ]
  },
  {
   "cell_type": "markdown",
   "metadata": {},
   "source": [
    "> REMOVE THE FOLLOWING TEXT\n",
    "\n",
    "This section includes a brief description of your modeling process.\n",
    "\n",
    "Explain the reasoning for the type of model you're fitting, predictor variables considered for the model.\n",
    "\n",
    "Additionally, show how you arrived at the final model by describing the model selection process, variable transformations (if needed), assessment of conditions and diagnostics, and any other relevant considerations that were part of the model fitting process."
   ]
  },
  {
   "cell_type": "markdown",
   "metadata": {},
   "source": [
    "## Results"
   ]
  },
  {
   "cell_type": "code",
   "execution_count": 711,
   "metadata": {},
   "outputs": [
    {
     "name": "stdout",
     "output_type": "stream",
     "text": [
      "Test R²: 0.806563026966679\n"
     ]
    }
   ],
   "source": [
    "# 4. Evaluate model on test data\n",
    "X_test_subset = X_test_scaled[selected_features]\n",
    "test_r2 = final_model.score(X_test_subset, y_test)\n",
    "print(\"Test R²:\", test_r2)"
   ]
  },
  {
   "cell_type": "markdown",
   "metadata": {},
   "source": [
    "> REMOVE THE FOLLOWING TEXT\n",
    "\n",
    "This is where you will output the final model with any relevant model fit statistics.\n",
    "\n",
    "Describe the key results from the model.\n",
    "The goal is not to interpret every single variable in the model but rather to show that you are proficient in using the model output to address the research questions, using the interpretations to support your conclusions.\n",
    "\n",
    "Focus on the variables that help you answer the research question and that provide relevant context for the reader.\n"
   ]
  },
  {
   "cell_type": "markdown",
   "metadata": {},
   "source": [
    "To account for potential overfitting, cross-validation was performed, and the final model was assessed using both training and validation datasets."
   ]
  },
  {
   "cell_type": "code",
   "execution_count": null,
   "metadata": {},
   "outputs": [],
   "source": []
  },
  {
   "cell_type": "markdown",
   "metadata": {},
   "source": [
    "## Discussion + Conclusion\n"
   ]
  },
  {
   "cell_type": "markdown",
   "metadata": {},
   "source": [
    "> REMOVE THE FOLLOWING TEXT\n",
    "\n",
    "In this section you'll include a summary of what you have learned about your research question along with statistical arguments supporting your conclusions.\n",
    "In addition, discuss the limitations of your analysis and provide suggestions on ways the analysis could be improved.\n",
    "Any potential issues pertaining to the reliability and validity of your data and appropriateness of the statistical analysis should also be discussed here.\n",
    "Lastly, this section will include ideas for future work."
   ]
  },
  {
   "cell_type": "markdown",
   "metadata": {},
   "source": []
  },
  {
   "cell_type": "markdown",
   "metadata": {},
   "source": [
    "## Bibiography\n",
    "\n",
    "[1] Karin S Coyne, Mary Kay Margolis, Tessa Kennedy-Martin, Timothy M Baker, Ronald Klein, Matthew D Paul, Dennis A Revicki, The impact of diabetic retinopathy: perspectives from patient focus groups, Family Practice, Volume 21, Issue 4, August 2004, Pages 447–453.\n",
    "\n",
    "[2] Donald S. Fong, Frederick L. Rerres, Lloyd P. Aiello, Ronald Klein, Diabetic Retinopathy, Diabetes Care, Volume 27, Number 10, October 2004\n",
    "\n",
    "[3] Produkt Portfolio Boehringer Ingelheim, 2023, https://unternehmensbericht.boehringer-ingelheim.de/2023/download/BOE_GB23_Produktportfolio_DE_safe.pdf\n",
    "\n",
    "[4] Parenky AC, Wadhwa S, Chen HH, Bhalla AS, Graham KS, Shameem M. Container Closure and Delivery Considerations for Intravitreal Drug Administration. AAPS PharmSciTech. 2021 Mar 11;22(3):100. doi: 10.1208/s12249-021-01949-4. PMID: 33709236; PMCID: PMC7952281.\n",
    "\n",
    "[5] European Directorate for the Quality of Medicines & HealthCare. European Pharmacopoeia. 10th ed., Council of Europe, 2020. www.edqm.eu/en/european-pharmacopoeia-pharmacopoeia-europe.\n",
    "\n",
    "[6] Arrhenius S. The Viscosity of Solutions. Biochem J. 1917 Aug;11(2):112-33. doi: 10.1042/bj0110112. PMID: 16742728; PMCID: PMC1258811.\n",
    "\n",
    "[7] Wozniak, Spencer, and Michael Feig. \"Diffusion and Viscosity in Mixed Protein Solutions.\" The Journal of Physical Chemistry B, vol. 128, no. 47, 2024\n",
    "\n",
    "[8] Woldeyes, M. A., Josephson, L. L., Leiske, D. L., Galush, W. J., Roberts, C. J., & Furst, E. M. (2018). Viscosities and protein interactions of bispecific antibodies and their monospecific mixtures. Molecular Pharmaceutics, 15(10), 4252-4261."
   ]
  }
 ],
 "metadata": {
  "kernelspec": {
   "display_name": "analytics",
   "language": "python",
   "name": "python3"
  },
  "language_info": {
   "codemirror_mode": {
    "name": "ipython",
    "version": 3
   },
   "file_extension": ".py",
   "mimetype": "text/x-python",
   "name": "python",
   "nbconvert_exporter": "python",
   "pygments_lexer": "ipython3",
   "version": "3.12.7"
  },
  "orig_nbformat": 4
 },
 "nbformat": 4,
 "nbformat_minor": 2
}
