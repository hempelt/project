{
 "cells": [
  {
   "cell_type": "markdown",
   "metadata": {},
   "source": [
    "# Report"
   ]
  },
  {
   "cell_type": "markdown",
   "metadata": {},
   "source": [
    "## Introduction and Data"
   ]
  },
  {
   "cell_type": "markdown",
   "metadata": {},
   "source": [
    "Diabetic retinopathy is a serious illness, which is expected to affect > 200 million people by the year 2025 [1]. It is an eye desease resulting in blindness for over 10000 people with diabetes per year [2]. In order to help these patients Boehringer Ingelheim is investing in Research and Development of biopharmaceuticals and is screening for new active ingredients, which has the potential to slow or even stop the progression of this desease [3]. A unique characteristic of these medications is the intravitreal application, which means that the drug product is injected directly into the vitreous humor, the gel-like substance inside the eye (see picture below).\n",
    "\n",
    "<img src=\"../references/images/IntravitrealApplication.png\" alt=\"Beispielbild\" width=\"400\">\n",
    "\n",
    "\n",
    "*Picture: Illustration of the ocular anatomy and intravitreal injection for the treatment of ocular diseases [4]*\n",
    "\n",
    "\n",
    "\n",
    "One major challenge of developing drug products, which are applied intravitreal, is the requirement for the low viscosity of the drug product solution. Viscosity is the measure of how easily a fluid flows; thicker liquids like honey have high viscosity, while thinner ones like water have low viscosity. It reflects the internal resistance of a liquid's molecules to movement or flow. A high viscosity of the drug product solution in the syringe results in a higher injection force necessary to apply the medication into the eye. The European Pharmacopoeia (EP) provides specific guidelines regarding the viscosity of intravitreal applied biopharmaceuticals to ensure safe and effective injection [5]. \n",
    "\n",
    "For this reason the viscosity is a very important measure and is determined several times during the early development stage for every new product. Viscosity is tested under different experiment conditions like temperature and product concentration. In order to reduce development time to the commercial launch of a new drug product and reduce costs for laboratory equipment and personnel, the long term motivation of this work is to predict the viscosity of every new agent without any experiments in the laboratory."
   ]
  },
  {
   "cell_type": "markdown",
   "metadata": {},
   "source": [
    "### Motivation\n",
    "\n",
    "The aim of this study is to evaluate the influence of various predictors on the measured viscosity by developing a linear regression model. The first objective is to determine which predictor has the greatest impact on viscosity and identify any predictors that do not contribute to the model's predictive power. Additionally, the study seeks to quantify the magnitude of influence each selected predictor has on the measured viscosity. Finally, an important question to address is whether the developed model is suitable for predicting viscosity values based on the selected predictors, providing an early estimation of viscosity without requiring laboratory measurements."
   ]
  },
  {
   "cell_type": "markdown",
   "metadata": {},
   "source": [
    "### Data description\n",
    "\n",
    "The data set, which will be explored in this work consists of viscosity data, whereas each observation of the data set corresponds to one measurement value. The data was collected as part of a characterization study for various biopharmaceutical products. These products consist of different types of proteins (IgG2, IgG4, Knob/Hole, DoppelMab), which have different characteristics like molecular weight, isoelectic point or extinction coefficient. In order to determine the effect of product concentration on the viscosity, each product was measured at two different concentrations (10 mg/mL, 62.5 mg/mL).  Furthermore, viscosity was measured at different temperatures (2°C - 40°C) to assess the impact of temperature variations. The data set consists of the following variables:\n",
    "\n",
    "\n",
    "\n",
    "| Name  |   Description\t| Role   \t| Type   \t|  Format \t|\n",
    "|-------|---------------|-----------|-----------|-----------|\n",
    "| viscosity_mPas  \t| Measured viscosity, of the sample in mPas \t        | response  \t    | numeric  \t    | float  \t|\n",
    "| replicate  \t| Number of replicate. Within each measurement, two individual measurements were conducted as technical replicates   \t        | ID \t    | numeric  \t    | int  \t|\n",
    "| entered_on  \t| The date on which the measurement was conducted\t        | predictor  \t    |numeric  \t    | date  \t|\n",
    "| instrument  \t| Instrument, which was used to measure the viscosity   \t        | predictor  \t    | nominal  \t    | category  \t|\n",
    "| temperature_c \t| The temperature at which the measurement was conducted  \t        | predictor  \t    | numeric  \t    | float  \t|\n",
    "| product_concentration_mg_mL  \t| Concentration of the product in the aqueous solution in mg/mL   \t        | predictor  \t    | numeric  \t    | float  \t|\n",
    "| product  \t| Internal product name as a unique code  \t        | ID  \t    | nominal  \t    | category  \t|\n",
    "| protein_format  \t| Protein format of the investigated product \t        | predictor  \t    | nominal  \t    | category  \t|\n",
    "| molecular_weight_kda  \t| Molecular weight of the investigated product in kDa. A measure of the size of the protein   \t        | predictor  \t    | numeric  \t    | float  \t|\n",
    "| extinction_coefficient_l_molcm  \t| Extinction coefficient of the investigated product in L·mol⁻¹·cm⁻¹. A measure of the light absorption ability of the molecule \t        | predictor  \t    | numeric  \t    | float  \t|\n",
    "| isoelectric_point  \t| Isoelectric point of the investigated product. A measure of the charge of the molecule\t        | predictor  \t    | numeric  \t    | float  \t|\n"
   ]
  },
  {
   "cell_type": "markdown",
   "metadata": {},
   "source": [
    "### Data collection\n",
    "\n",
    "The underlying measurements were conducted by laboratory personnel within the formulation development department at Boehringer Ingelheim. The measurement values were documented in the internal Laboratory Information Management System (LIMS) along with additional detailed experimental and contextual information, which also contain all explanatory data like the product characteristics etc. The data is stored in an Oracle SQL database and was extracted using targeted SQL queries. \n",
    "\n",
    "Since the data used contain confidential information of Boehringer Ingelheim, they have been modified to protect sensitive details. Some variables have been anonymized or altered in their structure without compromising the relevance of the data for the analysis."
   ]
  },
  {
   "cell_type": "markdown",
   "metadata": {},
   "source": [
    "### Setup"
   ]
  },
  {
   "cell_type": "code",
   "execution_count": 1228,
   "metadata": {},
   "outputs": [],
   "source": [
    "import os\n",
    "from pathlib import Path\n",
    "import seaborn as sns  \n",
    "import matplotlib.pyplot as plt\n",
    "import pandas as pd\n",
    "import numpy as np\n",
    "from sklearn.model_selection import train_test_split\n",
    "from sklearn.linear_model import LinearRegression\n",
    "from sklearn.model_selection import cross_val_score, KFold\n",
    "from sklearn.preprocessing import StandardScaler\n",
    "from sklearn.metrics import mean_squared_error\n",
    "import statsmodels.api as sm\n"
   ]
  },
  {
   "cell_type": "markdown",
   "metadata": {},
   "source": [
    "### import Data"
   ]
  },
  {
   "cell_type": "code",
   "execution_count": 1229,
   "metadata": {},
   "outputs": [],
   "source": [
    "# Import data from the csv-file \"viscosity_data.csv\"\n",
    "df_all = pd.read_csv(\"../data/processed/viscosity_data.csv\", sep=\";\")"
   ]
  },
  {
   "cell_type": "markdown",
   "metadata": {},
   "source": [
    "### Data structure"
   ]
  },
  {
   "cell_type": "code",
   "execution_count": 1230,
   "metadata": {},
   "outputs": [
    {
     "data": {
      "text/html": [
       "<div>\n",
       "<style scoped>\n",
       "    .dataframe tbody tr th:only-of-type {\n",
       "        vertical-align: middle;\n",
       "    }\n",
       "\n",
       "    .dataframe tbody tr th {\n",
       "        vertical-align: top;\n",
       "    }\n",
       "\n",
       "    .dataframe thead th {\n",
       "        text-align: right;\n",
       "    }\n",
       "</style>\n",
       "<table border=\"1\" class=\"dataframe\">\n",
       "  <thead>\n",
       "    <tr style=\"text-align: right;\">\n",
       "      <th></th>\n",
       "      <th>viscosity_mPas</th>\n",
       "      <th>replicate</th>\n",
       "      <th>entered_on</th>\n",
       "      <th>instrument</th>\n",
       "      <th>temperature_C</th>\n",
       "      <th>product_concentration_mg_mL</th>\n",
       "      <th>product</th>\n",
       "      <th>protein_format</th>\n",
       "      <th>molecular_weight_kDa</th>\n",
       "      <th>extinction_coefficient_L_molcm</th>\n",
       "      <th>isoelectric_point</th>\n",
       "    </tr>\n",
       "  </thead>\n",
       "  <tbody>\n",
       "    <tr>\n",
       "      <th>0</th>\n",
       "      <td>3.93</td>\n",
       "      <td>1</td>\n",
       "      <td>15.03.2019</td>\n",
       "      <td>VISCOSIMETER_02</td>\n",
       "      <td>2</td>\n",
       "      <td>10.0</td>\n",
       "      <td>BI655300</td>\n",
       "      <td>IgG2</td>\n",
       "      <td>148830</td>\n",
       "      <td>220.42</td>\n",
       "      <td>8.54</td>\n",
       "    </tr>\n",
       "    <tr>\n",
       "      <th>1</th>\n",
       "      <td>4.28</td>\n",
       "      <td>2</td>\n",
       "      <td>16.03.2019</td>\n",
       "      <td>VISCOSIMETER_02</td>\n",
       "      <td>2</td>\n",
       "      <td>10.0</td>\n",
       "      <td>BI655300</td>\n",
       "      <td>IgG2</td>\n",
       "      <td>148830</td>\n",
       "      <td>220.42</td>\n",
       "      <td>8.54</td>\n",
       "    </tr>\n",
       "    <tr>\n",
       "      <th>2</th>\n",
       "      <td>3.42</td>\n",
       "      <td>1</td>\n",
       "      <td>15.03.2019</td>\n",
       "      <td>VISCOSIMETER_02</td>\n",
       "      <td>5</td>\n",
       "      <td>10.0</td>\n",
       "      <td>BI655300</td>\n",
       "      <td>IgG2</td>\n",
       "      <td>148830</td>\n",
       "      <td>220.42</td>\n",
       "      <td>8.54</td>\n",
       "    </tr>\n",
       "    <tr>\n",
       "      <th>3</th>\n",
       "      <td>3.69</td>\n",
       "      <td>2</td>\n",
       "      <td>15.03.2019</td>\n",
       "      <td>VISCOSIMETER_02</td>\n",
       "      <td>5</td>\n",
       "      <td>10.0</td>\n",
       "      <td>BI655300</td>\n",
       "      <td>IgG2</td>\n",
       "      <td>148830</td>\n",
       "      <td>220.42</td>\n",
       "      <td>8.54</td>\n",
       "    </tr>\n",
       "    <tr>\n",
       "      <th>4</th>\n",
       "      <td>2.89</td>\n",
       "      <td>1</td>\n",
       "      <td>15.03.2019</td>\n",
       "      <td>VISCOSIMETER_02</td>\n",
       "      <td>10</td>\n",
       "      <td>10.0</td>\n",
       "      <td>BI655300</td>\n",
       "      <td>IgG2</td>\n",
       "      <td>148830</td>\n",
       "      <td>220.42</td>\n",
       "      <td>8.54</td>\n",
       "    </tr>\n",
       "  </tbody>\n",
       "</table>\n",
       "</div>"
      ],
      "text/plain": [
       "   viscosity_mPas  replicate  entered_on       instrument  temperature_C  \\\n",
       "0            3.93          1  15.03.2019  VISCOSIMETER_02              2   \n",
       "1            4.28          2  16.03.2019  VISCOSIMETER_02              2   \n",
       "2            3.42          1  15.03.2019  VISCOSIMETER_02              5   \n",
       "3            3.69          2  15.03.2019  VISCOSIMETER_02              5   \n",
       "4            2.89          1  15.03.2019  VISCOSIMETER_02             10   \n",
       "\n",
       "   product_concentration_mg_mL   product protein_format  molecular_weight_kDa  \\\n",
       "0                         10.0  BI655300           IgG2                148830   \n",
       "1                         10.0  BI655300           IgG2                148830   \n",
       "2                         10.0  BI655300           IgG2                148830   \n",
       "3                         10.0  BI655300           IgG2                148830   \n",
       "4                         10.0  BI655300           IgG2                148830   \n",
       "\n",
       "   extinction_coefficient_L_molcm  isoelectric_point  \n",
       "0                          220.42               8.54  \n",
       "1                          220.42               8.54  \n",
       "2                          220.42               8.54  \n",
       "3                          220.42               8.54  \n",
       "4                          220.42               8.54  "
      ]
     },
     "execution_count": 1230,
     "metadata": {},
     "output_type": "execute_result"
    }
   ],
   "source": [
    "df_all.head()"
   ]
  },
  {
   "cell_type": "code",
   "execution_count": 1231,
   "metadata": {},
   "outputs": [
    {
     "name": "stdout",
     "output_type": "stream",
     "text": [
      "<class 'pandas.core.frame.DataFrame'>\n",
      "RangeIndex: 502 entries, 0 to 501\n",
      "Data columns (total 11 columns):\n",
      " #   Column                          Non-Null Count  Dtype  \n",
      "---  ------                          --------------  -----  \n",
      " 0   viscosity_mPas                  502 non-null    float64\n",
      " 1   replicate                       502 non-null    int64  \n",
      " 2   entered_on                      502 non-null    object \n",
      " 3   instrument                      502 non-null    object \n",
      " 4   temperature_C                   502 non-null    int64  \n",
      " 5   product_concentration_mg_mL     502 non-null    float64\n",
      " 6   product                         502 non-null    object \n",
      " 7   protein_format                  502 non-null    object \n",
      " 8   molecular_weight_kDa            502 non-null    int64  \n",
      " 9   extinction_coefficient_L_molcm  502 non-null    float64\n",
      " 10  isoelectric_point               502 non-null    float64\n",
      "dtypes: float64(4), int64(3), object(4)\n",
      "memory usage: 43.3+ KB\n"
     ]
    }
   ],
   "source": [
    "df_all.info()"
   ]
  },
  {
   "cell_type": "code",
   "execution_count": 1232,
   "metadata": {},
   "outputs": [
    {
     "name": "stdout",
     "output_type": "stream",
     "text": [
      "viscosity_mPas                    0\n",
      "replicate                         0\n",
      "entered_on                        0\n",
      "instrument                        0\n",
      "temperature_C                     0\n",
      "product_concentration_mg_mL       0\n",
      "product                           0\n",
      "protein_format                    0\n",
      "molecular_weight_kDa              0\n",
      "extinction_coefficient_L_molcm    0\n",
      "isoelectric_point                 0\n",
      "dtype: int64\n"
     ]
    }
   ],
   "source": [
    "#Search for empty data fields\n",
    "print(df_all.isnull().sum())"
   ]
  },
  {
   "cell_type": "markdown",
   "metadata": {},
   "source": [
    "### Data corrections\n",
    "\n",
    "According to the literature there are three explanatory variables, which have an impact on the viscosity of the solution. According to the Arrhenius equation, a higher temperature generally decreases viscosity, because molecular movement increases, reducing intermolecular interactions [6]. Also the product concentration might have an impact on the viscosity, because molecules in solution interact more frequently, leading to increased resistance to flow [7] Additionally larger and more complex proteins, such as aggregates or conjugated proteins, tend to increase solution viscosity due to their size and interaction with other molecules in the solution [8], which indicates that the moleculare weight of the product might have an impact on the measured viscosity. According to literature the relationship of all three explanatory variables and the target variable is exponentell. In order to use the linear regression the Log Transformation is used. Therefore the target variable 'viscosity_mpas' is normalized by calculating the base-10 logarithm of the variable (log_viscosity)."
   ]
  },
  {
   "cell_type": "code",
   "execution_count": 1233,
   "metadata": {},
   "outputs": [],
   "source": [
    "# change data type in order to make pandas functions more efficient\n",
    "df_all['protein_format'] = pd.Categorical(df_all['protein_format'])"
   ]
  },
  {
   "cell_type": "code",
   "execution_count": 1234,
   "metadata": {},
   "outputs": [],
   "source": [
    "# Make sure column names are lower case and eliminate spaces\n",
    "df_all.columns = df_all.columns.str.lower()"
   ]
  },
  {
   "cell_type": "code",
   "execution_count": 1235,
   "metadata": {},
   "outputs": [],
   "source": [
    "df_all['viscosity_mean'] = (\n",
    "    df_all.groupby(['temperature_c', 'product_concentration_mg_ml', 'product'])['viscosity_mpas']\n",
    "    .transform('mean')\n",
    ")"
   ]
  },
  {
   "cell_type": "code",
   "execution_count": 1236,
   "metadata": {},
   "outputs": [],
   "source": [
    "# Log-transformation of the target variable (without unit)\n",
    "df_all['log_viscosity'] = np.log(df_all['viscosity_mean'])"
   ]
  },
  {
   "cell_type": "code",
   "execution_count": 1237,
   "metadata": {},
   "outputs": [],
   "source": [
    "# For a better overview data set is reduced to the most interesting variables we want to examine\n",
    "df = df_all.loc[0:502,['viscosity_mpas','protein_format','log_viscosity','temperature_c','product_concentration_mg_ml','molecular_weight_kda','extinction_coefficient_l_molcm','isoelectric_point']]"
   ]
  },
  {
   "cell_type": "code",
   "execution_count": 1238,
   "metadata": {},
   "outputs": [
    {
     "data": {
      "text/html": [
       "<div>\n",
       "<style scoped>\n",
       "    .dataframe tbody tr th:only-of-type {\n",
       "        vertical-align: middle;\n",
       "    }\n",
       "\n",
       "    .dataframe tbody tr th {\n",
       "        vertical-align: top;\n",
       "    }\n",
       "\n",
       "    .dataframe thead th {\n",
       "        text-align: right;\n",
       "    }\n",
       "</style>\n",
       "<table border=\"1\" class=\"dataframe\">\n",
       "  <thead>\n",
       "    <tr style=\"text-align: right;\">\n",
       "      <th></th>\n",
       "      <th>viscosity_mpas</th>\n",
       "      <th>protein_format</th>\n",
       "      <th>log_viscosity</th>\n",
       "      <th>temperature_c</th>\n",
       "      <th>product_concentration_mg_ml</th>\n",
       "      <th>molecular_weight_kda</th>\n",
       "      <th>extinction_coefficient_l_molcm</th>\n",
       "      <th>isoelectric_point</th>\n",
       "    </tr>\n",
       "  </thead>\n",
       "  <tbody>\n",
       "    <tr>\n",
       "      <th>0</th>\n",
       "      <td>3.93</td>\n",
       "      <td>IgG2</td>\n",
       "      <td>1.412206</td>\n",
       "      <td>2</td>\n",
       "      <td>10.0</td>\n",
       "      <td>148830</td>\n",
       "      <td>220.42</td>\n",
       "      <td>8.54</td>\n",
       "    </tr>\n",
       "    <tr>\n",
       "      <th>1</th>\n",
       "      <td>4.28</td>\n",
       "      <td>IgG2</td>\n",
       "      <td>1.412206</td>\n",
       "      <td>2</td>\n",
       "      <td>10.0</td>\n",
       "      <td>148830</td>\n",
       "      <td>220.42</td>\n",
       "      <td>8.54</td>\n",
       "    </tr>\n",
       "    <tr>\n",
       "      <th>2</th>\n",
       "      <td>3.42</td>\n",
       "      <td>IgG2</td>\n",
       "      <td>1.268355</td>\n",
       "      <td>5</td>\n",
       "      <td>10.0</td>\n",
       "      <td>148830</td>\n",
       "      <td>220.42</td>\n",
       "      <td>8.54</td>\n",
       "    </tr>\n",
       "    <tr>\n",
       "      <th>3</th>\n",
       "      <td>3.69</td>\n",
       "      <td>IgG2</td>\n",
       "      <td>1.268355</td>\n",
       "      <td>5</td>\n",
       "      <td>10.0</td>\n",
       "      <td>148830</td>\n",
       "      <td>220.42</td>\n",
       "      <td>8.54</td>\n",
       "    </tr>\n",
       "    <tr>\n",
       "      <th>4</th>\n",
       "      <td>2.89</td>\n",
       "      <td>IgG2</td>\n",
       "      <td>1.101940</td>\n",
       "      <td>10</td>\n",
       "      <td>10.0</td>\n",
       "      <td>148830</td>\n",
       "      <td>220.42</td>\n",
       "      <td>8.54</td>\n",
       "    </tr>\n",
       "    <tr>\n",
       "      <th>...</th>\n",
       "      <td>...</td>\n",
       "      <td>...</td>\n",
       "      <td>...</td>\n",
       "      <td>...</td>\n",
       "      <td>...</td>\n",
       "      <td>...</td>\n",
       "      <td>...</td>\n",
       "      <td>...</td>\n",
       "    </tr>\n",
       "    <tr>\n",
       "      <th>497</th>\n",
       "      <td>5.22</td>\n",
       "      <td>DoppelMab</td>\n",
       "      <td>1.672413</td>\n",
       "      <td>30</td>\n",
       "      <td>62.5</td>\n",
       "      <td>206428</td>\n",
       "      <td>355.71</td>\n",
       "      <td>8.34</td>\n",
       "    </tr>\n",
       "    <tr>\n",
       "      <th>498</th>\n",
       "      <td>4.76</td>\n",
       "      <td>DoppelMab</td>\n",
       "      <td>1.535791</td>\n",
       "      <td>35</td>\n",
       "      <td>62.5</td>\n",
       "      <td>206428</td>\n",
       "      <td>355.71</td>\n",
       "      <td>8.34</td>\n",
       "    </tr>\n",
       "    <tr>\n",
       "      <th>499</th>\n",
       "      <td>4.53</td>\n",
       "      <td>DoppelMab</td>\n",
       "      <td>1.535791</td>\n",
       "      <td>35</td>\n",
       "      <td>62.5</td>\n",
       "      <td>206428</td>\n",
       "      <td>355.71</td>\n",
       "      <td>8.34</td>\n",
       "    </tr>\n",
       "    <tr>\n",
       "      <th>500</th>\n",
       "      <td>4.25</td>\n",
       "      <td>DoppelMab</td>\n",
       "      <td>1.418277</td>\n",
       "      <td>40</td>\n",
       "      <td>62.5</td>\n",
       "      <td>206428</td>\n",
       "      <td>355.71</td>\n",
       "      <td>8.34</td>\n",
       "    </tr>\n",
       "    <tr>\n",
       "      <th>501</th>\n",
       "      <td>4.01</td>\n",
       "      <td>DoppelMab</td>\n",
       "      <td>1.418277</td>\n",
       "      <td>40</td>\n",
       "      <td>62.5</td>\n",
       "      <td>206428</td>\n",
       "      <td>355.71</td>\n",
       "      <td>8.34</td>\n",
       "    </tr>\n",
       "  </tbody>\n",
       "</table>\n",
       "<p>502 rows × 8 columns</p>\n",
       "</div>"
      ],
      "text/plain": [
       "     viscosity_mpas protein_format  log_viscosity  temperature_c  \\\n",
       "0              3.93           IgG2       1.412206              2   \n",
       "1              4.28           IgG2       1.412206              2   \n",
       "2              3.42           IgG2       1.268355              5   \n",
       "3              3.69           IgG2       1.268355              5   \n",
       "4              2.89           IgG2       1.101940             10   \n",
       "..              ...            ...            ...            ...   \n",
       "497            5.22      DoppelMab       1.672413             30   \n",
       "498            4.76      DoppelMab       1.535791             35   \n",
       "499            4.53      DoppelMab       1.535791             35   \n",
       "500            4.25      DoppelMab       1.418277             40   \n",
       "501            4.01      DoppelMab       1.418277             40   \n",
       "\n",
       "     product_concentration_mg_ml  molecular_weight_kda  \\\n",
       "0                           10.0                148830   \n",
       "1                           10.0                148830   \n",
       "2                           10.0                148830   \n",
       "3                           10.0                148830   \n",
       "4                           10.0                148830   \n",
       "..                           ...                   ...   \n",
       "497                         62.5                206428   \n",
       "498                         62.5                206428   \n",
       "499                         62.5                206428   \n",
       "500                         62.5                206428   \n",
       "501                         62.5                206428   \n",
       "\n",
       "     extinction_coefficient_l_molcm  isoelectric_point  \n",
       "0                            220.42               8.54  \n",
       "1                            220.42               8.54  \n",
       "2                            220.42               8.54  \n",
       "3                            220.42               8.54  \n",
       "4                            220.42               8.54  \n",
       "..                              ...                ...  \n",
       "497                          355.71               8.34  \n",
       "498                          355.71               8.34  \n",
       "499                          355.71               8.34  \n",
       "500                          355.71               8.34  \n",
       "501                          355.71               8.34  \n",
       "\n",
       "[502 rows x 8 columns]"
      ]
     },
     "execution_count": 1238,
     "metadata": {},
     "output_type": "execute_result"
    }
   ],
   "source": [
    "df"
   ]
  },
  {
   "cell_type": "markdown",
   "metadata": {},
   "source": [
    "### Descriptive statistics"
   ]
  },
  {
   "cell_type": "code",
   "execution_count": 1239,
   "metadata": {},
   "outputs": [
    {
     "data": {
      "text/html": [
       "<div>\n",
       "<style scoped>\n",
       "    .dataframe tbody tr th:only-of-type {\n",
       "        vertical-align: middle;\n",
       "    }\n",
       "\n",
       "    .dataframe tbody tr th {\n",
       "        vertical-align: top;\n",
       "    }\n",
       "\n",
       "    .dataframe thead th {\n",
       "        text-align: right;\n",
       "    }\n",
       "</style>\n",
       "<table border=\"1\" class=\"dataframe\">\n",
       "  <thead>\n",
       "    <tr style=\"text-align: right;\">\n",
       "      <th></th>\n",
       "      <th>count</th>\n",
       "      <th>mean</th>\n",
       "      <th>std</th>\n",
       "      <th>min</th>\n",
       "      <th>25%</th>\n",
       "      <th>50%</th>\n",
       "      <th>75%</th>\n",
       "      <th>max</th>\n",
       "    </tr>\n",
       "  </thead>\n",
       "  <tbody>\n",
       "    <tr>\n",
       "      <th>viscosity_mpas</th>\n",
       "      <td>502.0</td>\n",
       "      <td>3.894861</td>\n",
       "      <td>2.990443</td>\n",
       "      <td>0.540000</td>\n",
       "      <td>2.200000</td>\n",
       "      <td>3.165000</td>\n",
       "      <td>4.54750</td>\n",
       "      <td>27.870000</td>\n",
       "    </tr>\n",
       "    <tr>\n",
       "      <th>log_viscosity</th>\n",
       "      <td>502.0</td>\n",
       "      <td>1.182789</td>\n",
       "      <td>0.562044</td>\n",
       "      <td>-0.046044</td>\n",
       "      <td>0.813693</td>\n",
       "      <td>1.148988</td>\n",
       "      <td>1.51924</td>\n",
       "      <td>3.186559</td>\n",
       "    </tr>\n",
       "    <tr>\n",
       "      <th>temperature_c</th>\n",
       "      <td>502.0</td>\n",
       "      <td>20.203187</td>\n",
       "      <td>12.610650</td>\n",
       "      <td>2.000000</td>\n",
       "      <td>10.000000</td>\n",
       "      <td>20.000000</td>\n",
       "      <td>30.00000</td>\n",
       "      <td>40.000000</td>\n",
       "    </tr>\n",
       "    <tr>\n",
       "      <th>product_concentration_mg_ml</th>\n",
       "      <td>502.0</td>\n",
       "      <td>36.354582</td>\n",
       "      <td>26.275976</td>\n",
       "      <td>10.000000</td>\n",
       "      <td>10.000000</td>\n",
       "      <td>62.500000</td>\n",
       "      <td>62.50000</td>\n",
       "      <td>62.500000</td>\n",
       "    </tr>\n",
       "    <tr>\n",
       "      <th>molecular_weight_kda</th>\n",
       "      <td>502.0</td>\n",
       "      <td>161211.103586</td>\n",
       "      <td>22382.413980</td>\n",
       "      <td>146286.000000</td>\n",
       "      <td>148783.000000</td>\n",
       "      <td>149601.000000</td>\n",
       "      <td>155089.00000</td>\n",
       "      <td>206428.000000</td>\n",
       "    </tr>\n",
       "    <tr>\n",
       "      <th>extinction_coefficient_l_molcm</th>\n",
       "      <td>502.0</td>\n",
       "      <td>241.135538</td>\n",
       "      <td>50.327715</td>\n",
       "      <td>201.400000</td>\n",
       "      <td>207.360000</td>\n",
       "      <td>220.420000</td>\n",
       "      <td>236.92000</td>\n",
       "      <td>355.710000</td>\n",
       "    </tr>\n",
       "    <tr>\n",
       "      <th>isoelectric_point</th>\n",
       "      <td>502.0</td>\n",
       "      <td>8.094382</td>\n",
       "      <td>0.580659</td>\n",
       "      <td>6.970000</td>\n",
       "      <td>7.750000</td>\n",
       "      <td>8.270000</td>\n",
       "      <td>8.42000</td>\n",
       "      <td>9.360000</td>\n",
       "    </tr>\n",
       "  </tbody>\n",
       "</table>\n",
       "</div>"
      ],
      "text/plain": [
       "                                count           mean           std  \\\n",
       "viscosity_mpas                  502.0       3.894861      2.990443   \n",
       "log_viscosity                   502.0       1.182789      0.562044   \n",
       "temperature_c                   502.0      20.203187     12.610650   \n",
       "product_concentration_mg_ml     502.0      36.354582     26.275976   \n",
       "molecular_weight_kda            502.0  161211.103586  22382.413980   \n",
       "extinction_coefficient_l_molcm  502.0     241.135538     50.327715   \n",
       "isoelectric_point               502.0       8.094382      0.580659   \n",
       "\n",
       "                                          min            25%            50%  \\\n",
       "viscosity_mpas                       0.540000       2.200000       3.165000   \n",
       "log_viscosity                       -0.046044       0.813693       1.148988   \n",
       "temperature_c                        2.000000      10.000000      20.000000   \n",
       "product_concentration_mg_ml         10.000000      10.000000      62.500000   \n",
       "molecular_weight_kda            146286.000000  148783.000000  149601.000000   \n",
       "extinction_coefficient_l_molcm     201.400000     207.360000     220.420000   \n",
       "isoelectric_point                    6.970000       7.750000       8.270000   \n",
       "\n",
       "                                         75%            max  \n",
       "viscosity_mpas                       4.54750      27.870000  \n",
       "log_viscosity                        1.51924       3.186559  \n",
       "temperature_c                       30.00000      40.000000  \n",
       "product_concentration_mg_ml         62.50000      62.500000  \n",
       "molecular_weight_kda            155089.00000  206428.000000  \n",
       "extinction_coefficient_l_molcm     236.92000     355.710000  \n",
       "isoelectric_point                    8.42000       9.360000  "
      ]
     },
     "execution_count": 1239,
     "metadata": {},
     "output_type": "execute_result"
    }
   ],
   "source": [
    "df.describe().T"
   ]
  },
  {
   "cell_type": "markdown",
   "metadata": {},
   "source": [
    "### Exploratory data analysis\n",
    "\n",
    "In order to visualize the relationship between the explanatory variables and the response variable, charts were created with the training data. According to literature a linear correlation of all three parameters (temperature, product concentration, molecular weight) and the logarithm of the viscosity is expected. Although all three predictor variables take continuous numerical values, the dataset contains only a specific number of defined values for the independent variables. There exist only nine values of the temperature (2°C, 5°C, 10°C, 15°C, 20°C, 25°C, 30°C, 35°C, 40°C), two values of the product concentration (10 mg/mL, 62.5 mg/mL) and 14 values of the molecular weight. Therefore box plots were chosen to visualize the distribution of the response variable within these values of the predictor variables."
   ]
  },
  {
   "cell_type": "code",
   "execution_count": 1240,
   "metadata": {},
   "outputs": [
    {
     "data": {
      "image/png": "[encoded data removed]",
      "text/plain": [
       "<Figure size 1100x400 with 2 Axes>"
      ]
     },
     "metadata": {},
     "output_type": "display_data"
    }
   ],
   "source": [
    "fig, axes = plt.subplots(1, 2, figsize=(11, 4))  \n",
    "\n",
    "sns.boxplot(data=df, x='temperature_c', y='viscosity_mpas', ax=axes[0])\n",
    "axes[0].set_title(\"Without logarithmic transformation\")\n",
    "\n",
    "sns.boxplot(data=df, x='temperature_c', y='log_viscosity', ax=axes[1])\n",
    "axes[1].set_title(\"With logarithmic transformation\")\n",
    "\n",
    "plt.show()"
   ]
  },
  {
   "cell_type": "markdown",
   "metadata": {},
   "source": [
    "In the left box plot, the relationship between the measured viscosity in mPas and the temperature in °C is shown without log transformation of the response variable. A slightly negative trend is evident from the individual data points. As temperature increases, the measured viscosity decreases, indicating a negative association between the two variables. The high number of outliers above the whiskers and the longer upper whiskers indicate a right-skewed disctibution. The pattern of the data points suggests an exponential relationship between the two variables. These findings are consistent with the literature, which states that the viscosity of a fluid decreases exponentially as temperature rises [6].\n",
    "\n",
    "In order to get a more symmetric distribution, reduce the impact of outliers and get a linear relationship a logarithmic transformation was done, which is shown in the right box plot. In this chart the relationship beween the base-10 logarithm of the viscosity (log_viscosity) and the temperature is shown. Although there are still outliers in the graph above the boxes, the distribution of the response variable appears to be more symmetric. The lengths of the lower and upper whiskers in the box plots have become more balanced and the chart suggests a moderate linear correlation between the two variables. "
   ]
  },
  {
   "cell_type": "code",
   "execution_count": 1241,
   "metadata": {},
   "outputs": [
    {
     "data": {
      "image/png": "[encoded data removed]",
      "text/plain": [
       "<Figure size 1100x400 with 2 Axes>"
      ]
     },
     "metadata": {},
     "output_type": "display_data"
    }
   ],
   "source": [
    "fig, axes = plt.subplots(1, 2, figsize=(11, 4))  \n",
    "\n",
    "sns.boxplot(data=df, x='product_concentration_mg_ml', y='viscosity_mpas', ax=axes[0])\n",
    "axes[0].set_title(\"Without logarithmic transformation\")\n",
    "\n",
    "sns.boxplot(data=df, x='product_concentration_mg_ml', y='log_viscosity', ax=axes[1])\n",
    "axes[1].set_title(\"With logarithmic transformation\")\n",
    "\n",
    "plt.show()"
   ]
  },
  {
   "cell_type": "markdown",
   "metadata": {},
   "source": [
    "The left graph illustrates the relationship between measured viscosity (in mPas) and product concentration (in mg/mL). The presence of numerous outliers and the longer upper whiskers indicate a right-skewed distribution, similar to the graphs above.\n",
    "\n",
    "The right graph shows the relationship between the base-10 logarithm of viscosity (log_viscosity) and product concentration (in mg/mL). Although only two concentration levels (10 mg/mL and 62.5 mg/mL) were analyzed, a clear positive correlation between the logarithm of viscosity and product concentration is observed. The median positions within the boxes suggest that the distribution of the response variable is more symmetric compared to the left graph (without normalization). This increased symmetry indicates that the relationship between product concentration and logarithmically transformed viscosity is linear, whereas the relationship with the untransformed viscosity follows an exponential pattern. These findings are consistent with the literature, which reports that the viscosity of protein solutions increases exponentially with rising protein concentration [7]."
   ]
  },
  {
   "cell_type": "code",
   "execution_count": 1242,
   "metadata": {},
   "outputs": [
    {
     "data": {
      "image/png": "[encoded data removed]",
      "text/plain": [
       "<Figure size 1100x400 with 2 Axes>"
      ]
     },
     "metadata": {},
     "output_type": "display_data"
    }
   ],
   "source": [
    "fig, axes = plt.subplots(1, 2, figsize=(11, 4))  \n",
    "\n",
    "sns.scatterplot(data=df, x='molecular_weight_kda', y='viscosity_mpas', ax=axes[0])\n",
    "axes[0].set_title(\"Without logarithmic transformation\")\n",
    "\n",
    "sns.scatterplot(data=df, x='molecular_weight_kda', y='log_viscosity', ax=axes[1])\n",
    "axes[1].set_title(\"With logarithmic transformation\")\n",
    "\n",
    "plt.show()"
   ]
  },
  {
   "cell_type": "markdown",
   "metadata": {},
   "source": [
    "The left graph illustrates the relationship between measured viscosity (in mPas) and the molecular weight (in mg/mL). To achieve a continuous distribution of the data points along the x-axis, a scatter plot was chosen for visualization instead of a box plot. Nevertheless a right-skewed distribution especially at higher molecular weight is observed.\n",
    "\n",
    "In the right graph the distriubution seems to be more symmatrical. In this graph the relationship between the logarithm of the measured viscosity (in mPas) and the molecular weight (in kDa) of the product is shown. Despite the dataset containing 14 different molecular weights, the predictor variable is not evenly distributed along the x-axis. The graph reveals that the molecular weights can be grouped into two main clusters: a smaller cluster between 140,000 kDa and 160,000 kDa, and a larger cluster between 200,000 kDa and 210,000 kDa. The logarithmically transformed viscosity of the heavier molecules appears to be higher than that of the smaller molecules, suggesting a positive association between molecular weight and logarithmically transformed viscosity. "
   ]
  },
  {
   "cell_type": "markdown",
   "metadata": {},
   "source": [
    "Besides the numerical predictors there is also a categorical variable, which might have an impact on the response variable. The protein format is the type of protein, which was examined during the measurements. This attribute consists of four different categories: IgG2, IgG4, Knob/Hole, DoppelMab. Before including this variable in the model development, the distribution of the data within the data set is determined:"
   ]
  },
  {
   "cell_type": "code",
   "execution_count": 1243,
   "metadata": {},
   "outputs": [
    {
     "data": {
      "text/plain": [
       "protein_format\n",
       "IgG2         250\n",
       "DoppelMab    108\n",
       "IgG4          72\n",
       "Knob/Hole     72\n",
       "Name: count, dtype: int64"
      ]
     },
     "execution_count": 1243,
     "metadata": {},
     "output_type": "execute_result"
    }
   ],
   "source": [
    "counts = df['protein_format'].value_counts()\n",
    "counts"
   ]
  },
  {
   "cell_type": "markdown",
   "metadata": {},
   "source": [
    "The variable protein_format contain a good distribution of data, which might be helpful to improve the model's accuracy. In the following chart the relationship between the protein format and the response variable will be visualized. To show the distribution of the data within the four categories boxplots were chosen."
   ]
  },
  {
   "cell_type": "code",
   "execution_count": 1244,
   "metadata": {},
   "outputs": [
    {
     "data": {
      "image/png": "[encoded data removed]",
      "text/plain": [
       "<Figure size 1100x400 with 2 Axes>"
      ]
     },
     "metadata": {},
     "output_type": "display_data"
    }
   ],
   "source": [
    "fig, axes = plt.subplots(1, 2, figsize=(11, 4))  \n",
    "\n",
    "sns.boxplot(data=df, x='protein_format', y='viscosity_mpas', ax=axes[0])\n",
    "axes[0].set_title(\"Without logarithmic transformation\")\n",
    "\n",
    "sns.boxplot(data=df, x='protein_format', y='log_viscosity', ax=axes[1])\n",
    "axes[1].set_title(\"With logarithmic transformation\")\n",
    "\n",
    "plt.show()"
   ]
  },
  {
   "cell_type": "markdown",
   "metadata": {},
   "source": [
    "In the left graph the distribution of the viscosity values in mPas within the four categories of the protein format variable were shown. Like in the graphs with the numerical variables above a right skewed distribution is visible. The distribution in the right box plot (logarithmically transformed viscosity) seems to be more symmetrically"
   ]
  },
  {
   "cell_type": "markdown",
   "metadata": {},
   "source": [
    "These variables can be transformed to numerical variables using the function pd.get_dummies:"
   ]
  },
  {
   "cell_type": "code",
   "execution_count": 1245,
   "metadata": {},
   "outputs": [],
   "source": [
    "#get dummy numerical variables for categoric predictor\n",
    "df = pd.get_dummies(df, columns=['protein_format'], drop_first= True)\n",
    "#new columns were convert into integer data types\n",
    "df['protein_format_IgG2'] = df['protein_format_IgG2'].astype(int)\n",
    "df['protein_format_IgG4'] = df['protein_format_IgG4'].astype(int)\n",
    "df['protein_format_Knob/Hole'] = df['protein_format_Knob/Hole'].astype(int)"
   ]
  },
  {
   "cell_type": "markdown",
   "metadata": {},
   "source": [
    "## Methodology"
   ]
  },
  {
   "cell_type": "markdown",
   "metadata": {},
   "source": [
    "### Logarithmic Transformation\n",
    "\n",
    "The chart below is a correlation matrix, which is a tabular representation of the pairwise correlation coefficients between the response variables (viscosity_mpas), the logarithmic transformed response variable and all predictor variables. The correlation matrix indicates the strength and direction of the linear relationship between two variables, which will be helpful to discuss possible variable transformations."
   ]
  },
  {
   "cell_type": "code",
   "execution_count": 1246,
   "metadata": {},
   "outputs": [
    {
     "data": {
      "text/html": [
       "<style type=\"text/css\">\n",
       "#T_f78f1_row0_col0, #T_f78f1_row1_col1 {\n",
       "  background-color: #08306b;\n",
       "  color: #f1f1f1;\n",
       "}\n",
       "#T_f78f1_row0_col1, #T_f78f1_row1_col0 {\n",
       "  background-color: #09529d;\n",
       "  color: #f1f1f1;\n",
       "}\n",
       "#T_f78f1_row2_col0 {\n",
       "  background-color: #6dafd7;\n",
       "  color: #f1f1f1;\n",
       "}\n",
       "#T_f78f1_row2_col1 {\n",
       "  background-color: #3c8cc3;\n",
       "  color: #f1f1f1;\n",
       "}\n",
       "#T_f78f1_row3_col0 {\n",
       "  background-color: #8abfdd;\n",
       "  color: #000000;\n",
       "}\n",
       "#T_f78f1_row3_col1 {\n",
       "  background-color: #5fa6d1;\n",
       "  color: #f1f1f1;\n",
       "}\n",
       "#T_f78f1_row4_col0 {\n",
       "  background-color: #a5cde3;\n",
       "  color: #000000;\n",
       "}\n",
       "#T_f78f1_row4_col1 {\n",
       "  background-color: #b2d2e8;\n",
       "  color: #000000;\n",
       "}\n",
       "#T_f78f1_row5_col0 {\n",
       "  background-color: #a9cfe5;\n",
       "  color: #000000;\n",
       "}\n",
       "#T_f78f1_row5_col1 {\n",
       "  background-color: #b9d6ea;\n",
       "  color: #000000;\n",
       "}\n",
       "#T_f78f1_row6_col0 {\n",
       "  background-color: #d9e8f5;\n",
       "  color: #000000;\n",
       "}\n",
       "#T_f78f1_row6_col1, #T_f78f1_row7_col1 {\n",
       "  background-color: #d1e2f3;\n",
       "  color: #000000;\n",
       "}\n",
       "#T_f78f1_row7_col0 {\n",
       "  background-color: #d0e1f2;\n",
       "  color: #000000;\n",
       "}\n",
       "#T_f78f1_row8_col0 {\n",
       "  background-color: #f3f8fe;\n",
       "  color: #000000;\n",
       "}\n",
       "#T_f78f1_row8_col1 {\n",
       "  background-color: #f7fbff;\n",
       "  color: #000000;\n",
       "}\n",
       "#T_f78f1_row9_col0, #T_f78f1_row9_col1 {\n",
       "  background-color: #e7f1fa;\n",
       "  color: #000000;\n",
       "}\n",
       "</style>\n",
       "<table id=\"T_f78f1\">\n",
       "  <thead>\n",
       "    <tr>\n",
       "      <th class=\"blank level0\" >&nbsp;</th>\n",
       "      <th id=\"T_f78f1_level0_col0\" class=\"col_heading level0 col0\" >viscosity_mpas</th>\n",
       "      <th id=\"T_f78f1_level0_col1\" class=\"col_heading level0 col1\" >log_viscosity</th>\n",
       "    </tr>\n",
       "  </thead>\n",
       "  <tbody>\n",
       "    <tr>\n",
       "      <th id=\"T_f78f1_level0_row0\" class=\"row_heading level0 row0\" >viscosity_mpas</th>\n",
       "      <td id=\"T_f78f1_row0_col0\" class=\"data row0 col0\" >1.000000</td>\n",
       "      <td id=\"T_f78f1_row0_col1\" class=\"data row0 col1\" >0.870000</td>\n",
       "    </tr>\n",
       "    <tr>\n",
       "      <th id=\"T_f78f1_level0_row1\" class=\"row_heading level0 row1\" >log_viscosity</th>\n",
       "      <td id=\"T_f78f1_row1_col0\" class=\"data row1 col0\" >0.870000</td>\n",
       "      <td id=\"T_f78f1_row1_col1\" class=\"data row1 col1\" >1.000000</td>\n",
       "    </tr>\n",
       "    <tr>\n",
       "      <th id=\"T_f78f1_level0_row2\" class=\"row_heading level0 row2\" >temperature_c</th>\n",
       "      <td id=\"T_f78f1_row2_col0\" class=\"data row2 col0\" >-0.500000</td>\n",
       "      <td id=\"T_f78f1_row2_col1\" class=\"data row2 col1\" >-0.650000</td>\n",
       "    </tr>\n",
       "    <tr>\n",
       "      <th id=\"T_f78f1_level0_row3\" class=\"row_heading level0 row3\" >product_concentration_mg_ml</th>\n",
       "      <td id=\"T_f78f1_row3_col0\" class=\"data row3 col0\" >0.430000</td>\n",
       "      <td id=\"T_f78f1_row3_col1\" class=\"data row3 col1\" >0.540000</td>\n",
       "    </tr>\n",
       "    <tr>\n",
       "      <th id=\"T_f78f1_level0_row4\" class=\"row_heading level0 row4\" >molecular_weight_kda</th>\n",
       "      <td id=\"T_f78f1_row4_col0\" class=\"data row4 col0\" >0.360000</td>\n",
       "      <td id=\"T_f78f1_row4_col1\" class=\"data row4 col1\" >0.320000</td>\n",
       "    </tr>\n",
       "    <tr>\n",
       "      <th id=\"T_f78f1_level0_row5\" class=\"row_heading level0 row5\" >extinction_coefficient_l_molcm</th>\n",
       "      <td id=\"T_f78f1_row5_col0\" class=\"data row5 col0\" >0.350000</td>\n",
       "      <td id=\"T_f78f1_row5_col1\" class=\"data row5 col1\" >0.300000</td>\n",
       "    </tr>\n",
       "    <tr>\n",
       "      <th id=\"T_f78f1_level0_row6\" class=\"row_heading level0 row6\" >isoelectric_point</th>\n",
       "      <td id=\"T_f78f1_row6_col0\" class=\"data row6 col0\" >-0.160000</td>\n",
       "      <td id=\"T_f78f1_row6_col1\" class=\"data row6 col1\" >-0.200000</td>\n",
       "    </tr>\n",
       "    <tr>\n",
       "      <th id=\"T_f78f1_level0_row7\" class=\"row_heading level0 row7\" >protein_format_IgG2</th>\n",
       "      <td id=\"T_f78f1_row7_col0\" class=\"data row7 col0\" >-0.210000</td>\n",
       "      <td id=\"T_f78f1_row7_col1\" class=\"data row7 col1\" >-0.200000</td>\n",
       "    </tr>\n",
       "    <tr>\n",
       "      <th id=\"T_f78f1_level0_row8\" class=\"row_heading level0 row8\" >protein_format_IgG4</th>\n",
       "      <td id=\"T_f78f1_row8_col0\" class=\"data row8 col0\" >-0.030000</td>\n",
       "      <td id=\"T_f78f1_row8_col1\" class=\"data row8 col1\" >0.010000</td>\n",
       "    </tr>\n",
       "    <tr>\n",
       "      <th id=\"T_f78f1_level0_row9\" class=\"row_heading level0 row9\" >protein_format_Knob/Hole</th>\n",
       "      <td id=\"T_f78f1_row9_col0\" class=\"data row9 col0\" >-0.090000</td>\n",
       "      <td id=\"T_f78f1_row9_col1\" class=\"data row9 col1\" >-0.090000</td>\n",
       "    </tr>\n",
       "  </tbody>\n",
       "</table>\n"
      ],
      "text/plain": [
       "<pandas.io.formats.style.Styler at 0x131596c00>"
      ]
     },
     "execution_count": 1246,
     "metadata": {},
     "output_type": "execute_result"
    }
   ],
   "source": [
    "corr = df.corr(method='pearson').round(2)\n",
    "corr_blues_transformation = corr[['viscosity_mpas','log_viscosity']].style.background_gradient(cmap='Blues', axis=None, gmap=corr.abs())\n",
    "corr_blues_transformation"
   ]
  },
  {
   "cell_type": "markdown",
   "metadata": {},
   "source": [
    "\n",
    "Like shown before in the exploratory data analysis the relationship between some of the predictors like the temperature and logarithmically transformed viscosity is linear, whereas the relationship with the untransformed viscosity follows an exponential pattern. The correlation matrix above confirms these findings, showing that the linear relationship between temperature and the logarithmically transformed viscosity (-0.63) is stronger than with the untransformed response variable (-0.5).\n",
    "\n",
    "A similar improvement is observed for product_concentration_mg_ml, where the correlation coefficient increases by 0.09, from 0.43 to 0.52. This makes product concentration the second most strongly associated variable with the response variable. Additionally, there is a moderate positive correlation between molecular_weight_kda and the response variable (0.36). However, this decreases by 0.05, to 0.31, when the response variable is log-transformed.\n",
    "\n",
    "Although the linear relationship with molecular weight appears slightly weaker after the transformation, the exploratory analysis revealed a right-skewed distribution of the predictor without logarithmic transformation and a more symmetric distribution with the logarithmically transformed outcome variable. This justifies the use of the logarithmically transformed response variable (log_viscosity) for modeling process in order to improve model fit and satisfy assumptions.\n",
    "\n"
   ]
  },
  {
   "cell_type": "markdown",
   "metadata": {},
   "source": [
    "### Model selection\n",
    "\n",
    "Based on the exploratory data analysis, a linear relationship was identified between the predictor variables and the logarithmically transformed response variable log_viscosity. Given this assumption and the continuous nature of the response variable, a linear regression model has been chosen for model development. This model is selected as a baseline due to its simplicity and interpretability, allowing for a clear understanding of the relationships in the data before exploring more complex modeling approaches."
   ]
  },
  {
   "cell_type": "markdown",
   "metadata": {},
   "source": [
    "### Multicollinearity"
   ]
  },
  {
   "cell_type": "markdown",
   "metadata": {},
   "source": [
    "The chart below is a correlation matrix, which is a tabular representation of the pairwise correlation coefficients between the logarithmic transformed target variable (viscosity_log) and all  predictor variables in the dataset. The correlation matrix indicates the strength and direction of the linear relationship between two variables, which will be helpful to identify multicollinearity."
   ]
  },
  {
   "cell_type": "code",
   "execution_count": 1247,
   "metadata": {},
   "outputs": [
    {
     "data": {
      "text/html": [
       "<style type=\"text/css\">\n",
       "#T_51773_row0_col0 {\n",
       "  background-color: #09529d;\n",
       "  color: #f1f1f1;\n",
       "}\n",
       "#T_51773_row0_col1 {\n",
       "  background-color: #6aaed6;\n",
       "  color: #f1f1f1;\n",
       "}\n",
       "#T_51773_row0_col2 {\n",
       "  background-color: #87bddc;\n",
       "  color: #000000;\n",
       "}\n",
       "#T_51773_row0_col3 {\n",
       "  background-color: #a3cce3;\n",
       "  color: #000000;\n",
       "}\n",
       "#T_51773_row0_col4 {\n",
       "  background-color: #a6cee4;\n",
       "  color: #000000;\n",
       "}\n",
       "#T_51773_row0_col5 {\n",
       "  background-color: #d8e7f5;\n",
       "  color: #000000;\n",
       "}\n",
       "#T_51773_row0_col6 {\n",
       "  background-color: #cee0f2;\n",
       "  color: #000000;\n",
       "}\n",
       "#T_51773_row0_col7 {\n",
       "  background-color: #f2f7fd;\n",
       "  color: #000000;\n",
       "}\n",
       "#T_51773_row0_col8, #T_51773_row1_col8, #T_51773_row9_col0 {\n",
       "  background-color: #e5eff9;\n",
       "  color: #000000;\n",
       "}\n",
       "#T_51773_row1_col0, #T_51773_row2_col1, #T_51773_row3_col2, #T_51773_row4_col3, #T_51773_row5_col4, #T_51773_row6_col5, #T_51773_row7_col6, #T_51773_row8_col7, #T_51773_row9_col8 {\n",
       "  background-color: #08306b;\n",
       "  color: #f1f1f1;\n",
       "}\n",
       "#T_51773_row1_col1, #T_51773_row2_col0 {\n",
       "  background-color: #3b8bc2;\n",
       "  color: #f1f1f1;\n",
       "}\n",
       "#T_51773_row1_col2, #T_51773_row3_col0 {\n",
       "  background-color: #5da5d1;\n",
       "  color: #f1f1f1;\n",
       "}\n",
       "#T_51773_row1_col3, #T_51773_row4_col0, #T_51773_row4_col5, #T_51773_row6_col3 {\n",
       "  background-color: #b0d2e7;\n",
       "  color: #000000;\n",
       "}\n",
       "#T_51773_row1_col4, #T_51773_row5_col0 {\n",
       "  background-color: #b7d4ea;\n",
       "  color: #000000;\n",
       "}\n",
       "#T_51773_row1_col5, #T_51773_row1_col6, #T_51773_row6_col0, #T_51773_row7_col0 {\n",
       "  background-color: #d0e1f2;\n",
       "  color: #000000;\n",
       "}\n",
       "#T_51773_row1_col7, #T_51773_row8_col0 {\n",
       "  background-color: #f5fafe;\n",
       "  color: #000000;\n",
       "}\n",
       "#T_51773_row2_col2, #T_51773_row2_col3, #T_51773_row2_col4, #T_51773_row2_col5, #T_51773_row2_col6, #T_51773_row2_col7, #T_51773_row2_col8, #T_51773_row3_col1, #T_51773_row3_col3, #T_51773_row3_col4, #T_51773_row3_col5, #T_51773_row3_col6, #T_51773_row3_col7, #T_51773_row3_col8, #T_51773_row4_col1, #T_51773_row4_col2, #T_51773_row5_col1, #T_51773_row5_col2, #T_51773_row6_col1, #T_51773_row6_col2, #T_51773_row7_col1, #T_51773_row7_col2, #T_51773_row8_col1, #T_51773_row8_col2, #T_51773_row9_col1, #T_51773_row9_col2 {\n",
       "  background-color: #f7fbff;\n",
       "  color: #000000;\n",
       "}\n",
       "#T_51773_row4_col4, #T_51773_row5_col3 {\n",
       "  background-color: #083573;\n",
       "  color: #f1f1f1;\n",
       "}\n",
       "#T_51773_row4_col6, #T_51773_row7_col3 {\n",
       "  background-color: #549fcd;\n",
       "  color: #f1f1f1;\n",
       "}\n",
       "#T_51773_row4_col7, #T_51773_row8_col3 {\n",
       "  background-color: #c8dcf0;\n",
       "  color: #000000;\n",
       "}\n",
       "#T_51773_row4_col8, #T_51773_row9_col3 {\n",
       "  background-color: #dfecf7;\n",
       "  color: #000000;\n",
       "}\n",
       "#T_51773_row5_col5, #T_51773_row6_col4 {\n",
       "  background-color: #d2e3f3;\n",
       "  color: #000000;\n",
       "}\n",
       "#T_51773_row5_col6, #T_51773_row7_col4 {\n",
       "  background-color: #4d99ca;\n",
       "  color: #f1f1f1;\n",
       "}\n",
       "#T_51773_row5_col7, #T_51773_row8_col4 {\n",
       "  background-color: #c6dbef;\n",
       "  color: #000000;\n",
       "}\n",
       "#T_51773_row5_col8, #T_51773_row9_col4 {\n",
       "  background-color: #eff6fc;\n",
       "  color: #000000;\n",
       "}\n",
       "#T_51773_row6_col6, #T_51773_row7_col5 {\n",
       "  background-color: #bdd7ec;\n",
       "  color: #000000;\n",
       "}\n",
       "#T_51773_row6_col7, #T_51773_row8_col5 {\n",
       "  background-color: #74b3d8;\n",
       "  color: #000000;\n",
       "}\n",
       "#T_51773_row6_col8, #T_51773_row9_col5 {\n",
       "  background-color: #68acd5;\n",
       "  color: #f1f1f1;\n",
       "}\n",
       "#T_51773_row7_col7, #T_51773_row7_col8, #T_51773_row8_col6, #T_51773_row9_col6 {\n",
       "  background-color: #91c3de;\n",
       "  color: #000000;\n",
       "}\n",
       "#T_51773_row8_col8, #T_51773_row9_col7 {\n",
       "  background-color: #d6e5f4;\n",
       "  color: #000000;\n",
       "}\n",
       "</style>\n",
       "<table id=\"T_51773\">\n",
       "  <thead>\n",
       "    <tr>\n",
       "      <th class=\"blank level0\" >&nbsp;</th>\n",
       "      <th id=\"T_51773_level0_col0\" class=\"col_heading level0 col0\" >log_viscosity</th>\n",
       "      <th id=\"T_51773_level0_col1\" class=\"col_heading level0 col1\" >temperature_c</th>\n",
       "      <th id=\"T_51773_level0_col2\" class=\"col_heading level0 col2\" >product_concentration_mg_ml</th>\n",
       "      <th id=\"T_51773_level0_col3\" class=\"col_heading level0 col3\" >molecular_weight_kda</th>\n",
       "      <th id=\"T_51773_level0_col4\" class=\"col_heading level0 col4\" >extinction_coefficient_l_molcm</th>\n",
       "      <th id=\"T_51773_level0_col5\" class=\"col_heading level0 col5\" >isoelectric_point</th>\n",
       "      <th id=\"T_51773_level0_col6\" class=\"col_heading level0 col6\" >protein_format_IgG2</th>\n",
       "      <th id=\"T_51773_level0_col7\" class=\"col_heading level0 col7\" >protein_format_IgG4</th>\n",
       "      <th id=\"T_51773_level0_col8\" class=\"col_heading level0 col8\" >protein_format_Knob/Hole</th>\n",
       "    </tr>\n",
       "  </thead>\n",
       "  <tbody>\n",
       "    <tr>\n",
       "      <th id=\"T_51773_level0_row0\" class=\"row_heading level0 row0\" >viscosity_mpas</th>\n",
       "      <td id=\"T_51773_row0_col0\" class=\"data row0 col0\" >0.870000</td>\n",
       "      <td id=\"T_51773_row0_col1\" class=\"data row0 col1\" >-0.500000</td>\n",
       "      <td id=\"T_51773_row0_col2\" class=\"data row0 col2\" >0.430000</td>\n",
       "      <td id=\"T_51773_row0_col3\" class=\"data row0 col3\" >0.360000</td>\n",
       "      <td id=\"T_51773_row0_col4\" class=\"data row0 col4\" >0.350000</td>\n",
       "      <td id=\"T_51773_row0_col5\" class=\"data row0 col5\" >-0.160000</td>\n",
       "      <td id=\"T_51773_row0_col6\" class=\"data row0 col6\" >-0.210000</td>\n",
       "      <td id=\"T_51773_row0_col7\" class=\"data row0 col7\" >-0.030000</td>\n",
       "      <td id=\"T_51773_row0_col8\" class=\"data row0 col8\" >-0.090000</td>\n",
       "    </tr>\n",
       "    <tr>\n",
       "      <th id=\"T_51773_level0_row1\" class=\"row_heading level0 row1\" >log_viscosity</th>\n",
       "      <td id=\"T_51773_row1_col0\" class=\"data row1 col0\" >1.000000</td>\n",
       "      <td id=\"T_51773_row1_col1\" class=\"data row1 col1\" >-0.650000</td>\n",
       "      <td id=\"T_51773_row1_col2\" class=\"data row1 col2\" >0.540000</td>\n",
       "      <td id=\"T_51773_row1_col3\" class=\"data row1 col3\" >0.320000</td>\n",
       "      <td id=\"T_51773_row1_col4\" class=\"data row1 col4\" >0.300000</td>\n",
       "      <td id=\"T_51773_row1_col5\" class=\"data row1 col5\" >-0.200000</td>\n",
       "      <td id=\"T_51773_row1_col6\" class=\"data row1 col6\" >-0.200000</td>\n",
       "      <td id=\"T_51773_row1_col7\" class=\"data row1 col7\" >0.010000</td>\n",
       "      <td id=\"T_51773_row1_col8\" class=\"data row1 col8\" >-0.090000</td>\n",
       "    </tr>\n",
       "    <tr>\n",
       "      <th id=\"T_51773_level0_row2\" class=\"row_heading level0 row2\" >temperature_c</th>\n",
       "      <td id=\"T_51773_row2_col0\" class=\"data row2 col0\" >-0.650000</td>\n",
       "      <td id=\"T_51773_row2_col1\" class=\"data row2 col1\" >1.000000</td>\n",
       "      <td id=\"T_51773_row2_col2\" class=\"data row2 col2\" >0.000000</td>\n",
       "      <td id=\"T_51773_row2_col3\" class=\"data row2 col3\" >0.000000</td>\n",
       "      <td id=\"T_51773_row2_col4\" class=\"data row2 col4\" >0.000000</td>\n",
       "      <td id=\"T_51773_row2_col5\" class=\"data row2 col5\" >0.000000</td>\n",
       "      <td id=\"T_51773_row2_col6\" class=\"data row2 col6\" >-0.000000</td>\n",
       "      <td id=\"T_51773_row2_col7\" class=\"data row2 col7\" >0.000000</td>\n",
       "      <td id=\"T_51773_row2_col8\" class=\"data row2 col8\" >0.000000</td>\n",
       "    </tr>\n",
       "    <tr>\n",
       "      <th id=\"T_51773_level0_row3\" class=\"row_heading level0 row3\" >product_concentration_mg_ml</th>\n",
       "      <td id=\"T_51773_row3_col0\" class=\"data row3 col0\" >0.540000</td>\n",
       "      <td id=\"T_51773_row3_col1\" class=\"data row3 col1\" >0.000000</td>\n",
       "      <td id=\"T_51773_row3_col2\" class=\"data row3 col2\" >1.000000</td>\n",
       "      <td id=\"T_51773_row3_col3\" class=\"data row3 col3\" >-0.000000</td>\n",
       "      <td id=\"T_51773_row3_col4\" class=\"data row3 col4\" >-0.000000</td>\n",
       "      <td id=\"T_51773_row3_col5\" class=\"data row3 col5\" >-0.000000</td>\n",
       "      <td id=\"T_51773_row3_col6\" class=\"data row3 col6\" >0.000000</td>\n",
       "      <td id=\"T_51773_row3_col7\" class=\"data row3 col7\" >-0.000000</td>\n",
       "      <td id=\"T_51773_row3_col8\" class=\"data row3 col8\" >-0.000000</td>\n",
       "    </tr>\n",
       "    <tr>\n",
       "      <th id=\"T_51773_level0_row4\" class=\"row_heading level0 row4\" >molecular_weight_kda</th>\n",
       "      <td id=\"T_51773_row4_col0\" class=\"data row4 col0\" >0.320000</td>\n",
       "      <td id=\"T_51773_row4_col1\" class=\"data row4 col1\" >0.000000</td>\n",
       "      <td id=\"T_51773_row4_col2\" class=\"data row4 col2\" >-0.000000</td>\n",
       "      <td id=\"T_51773_row4_col3\" class=\"data row4 col3\" >1.000000</td>\n",
       "      <td id=\"T_51773_row4_col4\" class=\"data row4 col4\" >0.980000</td>\n",
       "      <td id=\"T_51773_row4_col5\" class=\"data row4 col5\" >-0.320000</td>\n",
       "      <td id=\"T_51773_row4_col6\" class=\"data row4 col6\" >-0.570000</td>\n",
       "      <td id=\"T_51773_row4_col7\" class=\"data row4 col7\" >-0.240000</td>\n",
       "      <td id=\"T_51773_row4_col8\" class=\"data row4 col8\" >-0.120000</td>\n",
       "    </tr>\n",
       "    <tr>\n",
       "      <th id=\"T_51773_level0_row5\" class=\"row_heading level0 row5\" >extinction_coefficient_l_molcm</th>\n",
       "      <td id=\"T_51773_row5_col0\" class=\"data row5 col0\" >0.300000</td>\n",
       "      <td id=\"T_51773_row5_col1\" class=\"data row5 col1\" >0.000000</td>\n",
       "      <td id=\"T_51773_row5_col2\" class=\"data row5 col2\" >-0.000000</td>\n",
       "      <td id=\"T_51773_row5_col3\" class=\"data row5 col3\" >0.980000</td>\n",
       "      <td id=\"T_51773_row5_col4\" class=\"data row5 col4\" >1.000000</td>\n",
       "      <td id=\"T_51773_row5_col5\" class=\"data row5 col5\" >-0.190000</td>\n",
       "      <td id=\"T_51773_row5_col6\" class=\"data row5 col6\" >-0.590000</td>\n",
       "      <td id=\"T_51773_row5_col7\" class=\"data row5 col7\" >-0.250000</td>\n",
       "      <td id=\"T_51773_row5_col8\" class=\"data row5 col8\" >-0.040000</td>\n",
       "    </tr>\n",
       "    <tr>\n",
       "      <th id=\"T_51773_level0_row6\" class=\"row_heading level0 row6\" >isoelectric_point</th>\n",
       "      <td id=\"T_51773_row6_col0\" class=\"data row6 col0\" >-0.200000</td>\n",
       "      <td id=\"T_51773_row6_col1\" class=\"data row6 col1\" >0.000000</td>\n",
       "      <td id=\"T_51773_row6_col2\" class=\"data row6 col2\" >-0.000000</td>\n",
       "      <td id=\"T_51773_row6_col3\" class=\"data row6 col3\" >-0.320000</td>\n",
       "      <td id=\"T_51773_row6_col4\" class=\"data row6 col4\" >-0.190000</td>\n",
       "      <td id=\"T_51773_row6_col5\" class=\"data row6 col5\" >1.000000</td>\n",
       "      <td id=\"T_51773_row6_col6\" class=\"data row6 col6\" >0.280000</td>\n",
       "      <td id=\"T_51773_row6_col7\" class=\"data row6 col7\" >-0.480000</td>\n",
       "      <td id=\"T_51773_row6_col8\" class=\"data row6 col8\" >0.510000</td>\n",
       "    </tr>\n",
       "    <tr>\n",
       "      <th id=\"T_51773_level0_row7\" class=\"row_heading level0 row7\" >protein_format_IgG2</th>\n",
       "      <td id=\"T_51773_row7_col0\" class=\"data row7 col0\" >-0.200000</td>\n",
       "      <td id=\"T_51773_row7_col1\" class=\"data row7 col1\" >-0.000000</td>\n",
       "      <td id=\"T_51773_row7_col2\" class=\"data row7 col2\" >0.000000</td>\n",
       "      <td id=\"T_51773_row7_col3\" class=\"data row7 col3\" >-0.570000</td>\n",
       "      <td id=\"T_51773_row7_col4\" class=\"data row7 col4\" >-0.590000</td>\n",
       "      <td id=\"T_51773_row7_col5\" class=\"data row7 col5\" >0.280000</td>\n",
       "      <td id=\"T_51773_row7_col6\" class=\"data row7 col6\" >1.000000</td>\n",
       "      <td id=\"T_51773_row7_col7\" class=\"data row7 col7\" >-0.410000</td>\n",
       "      <td id=\"T_51773_row7_col8\" class=\"data row7 col8\" >-0.410000</td>\n",
       "    </tr>\n",
       "    <tr>\n",
       "      <th id=\"T_51773_level0_row8\" class=\"row_heading level0 row8\" >protein_format_IgG4</th>\n",
       "      <td id=\"T_51773_row8_col0\" class=\"data row8 col0\" >0.010000</td>\n",
       "      <td id=\"T_51773_row8_col1\" class=\"data row8 col1\" >0.000000</td>\n",
       "      <td id=\"T_51773_row8_col2\" class=\"data row8 col2\" >-0.000000</td>\n",
       "      <td id=\"T_51773_row8_col3\" class=\"data row8 col3\" >-0.240000</td>\n",
       "      <td id=\"T_51773_row8_col4\" class=\"data row8 col4\" >-0.250000</td>\n",
       "      <td id=\"T_51773_row8_col5\" class=\"data row8 col5\" >-0.480000</td>\n",
       "      <td id=\"T_51773_row8_col6\" class=\"data row8 col6\" >-0.410000</td>\n",
       "      <td id=\"T_51773_row8_col7\" class=\"data row8 col7\" >1.000000</td>\n",
       "      <td id=\"T_51773_row8_col8\" class=\"data row8 col8\" >-0.170000</td>\n",
       "    </tr>\n",
       "    <tr>\n",
       "      <th id=\"T_51773_level0_row9\" class=\"row_heading level0 row9\" >protein_format_Knob/Hole</th>\n",
       "      <td id=\"T_51773_row9_col0\" class=\"data row9 col0\" >-0.090000</td>\n",
       "      <td id=\"T_51773_row9_col1\" class=\"data row9 col1\" >0.000000</td>\n",
       "      <td id=\"T_51773_row9_col2\" class=\"data row9 col2\" >-0.000000</td>\n",
       "      <td id=\"T_51773_row9_col3\" class=\"data row9 col3\" >-0.120000</td>\n",
       "      <td id=\"T_51773_row9_col4\" class=\"data row9 col4\" >-0.040000</td>\n",
       "      <td id=\"T_51773_row9_col5\" class=\"data row9 col5\" >0.510000</td>\n",
       "      <td id=\"T_51773_row9_col6\" class=\"data row9 col6\" >-0.410000</td>\n",
       "      <td id=\"T_51773_row9_col7\" class=\"data row9 col7\" >-0.170000</td>\n",
       "      <td id=\"T_51773_row9_col8\" class=\"data row9 col8\" >1.000000</td>\n",
       "    </tr>\n",
       "  </tbody>\n",
       "</table>\n"
      ],
      "text/plain": [
       "<pandas.io.formats.style.Styler at 0x12b706540>"
      ]
     },
     "execution_count": 1247,
     "metadata": {},
     "output_type": "execute_result"
    }
   ],
   "source": [
    "corr_blues_all = corr.drop(columns=['viscosity_mpas']).style.background_gradient(cmap='Blues', axis=None, gmap=corr.abs())\n",
    "corr_blues_all"
   ]
  },
  {
   "cell_type": "markdown",
   "metadata": {},
   "source": [
    "The correlation matrix above reveals significant relationships among several predictor variables. For example, the correlation coefficient between molecular_weight_kda and extinction_coefficient_l_molcm is 0.98, indicating strong collinearity and a very high positive association. Similarly, the newly introduced predictor variable protein_format_IgG2 also shows a correlation with molecular_weight_kda. From a biochemical perspective, this is expected, as one of the primary differences between protein formats is their molecular weight.\n",
    "\n",
    "In contrast, no multicollinearity is observed between the temperature and any other predictor variable. The same is true for the product concentration (product_concentration_mg_ml). However, care must be taken when handling the other predictor variables during model development. A stepwise selection approach, where collinear predictor variables are added or removed one at a time, could help identify the best combination of features to optimize the model’s predictive performance while minimizing redundancy."
   ]
  },
  {
   "cell_type": "code",
   "execution_count": 1248,
   "metadata": {},
   "outputs": [],
   "source": [
    "# select features\n",
    "X = df.drop(columns=['viscosity_mpas','log_viscosity'])\n",
    "# create response\n",
    "y = df['log_viscosity']"
   ]
  },
  {
   "cell_type": "markdown",
   "metadata": {},
   "source": [
    "### Train-Test Split\n",
    "\n",
    "Before the stepwise selection of the candidate predictors the data set was split into training and test sets. This is a crucial step in linear regression model development (and in machine learning in general). The purpose is to ensure that the model is evaluated on unseen data, which helps assess its ability to generalize beyond the data it was trained on. Normally the train-test split is done before exploratory data analysis Performing in order to prevent data leakage by ensuring that insights gained during EDA do not influence the test set, preserving its role as unseen data for unbiased model evaluation.\n",
    "\n",
    "However in this work the exploratory data analysis wasa conducted before splitting the data in order to streamline the preprocessing and analysis process without switching between subsets, which reduces complexity of the work and maximizes data insights."
   ]
  },
  {
   "cell_type": "code",
   "execution_count": 1249,
   "metadata": {},
   "outputs": [],
   "source": [
    "# use a test size of 0,2 and random state 42\n",
    "X_train, X_test, y_train, y_test = train_test_split(X, y, test_size=0.2, random_state=42)\n",
    "\n",
    "# use your training data to make a pandas dataframe\n",
    "df_train = pd.DataFrame(X_train.copy())\n",
    "\n",
    "# add your training labels to the data\n",
    "df_train = df_train.join(pd.DataFrame(y_train))"
   ]
  },
  {
   "cell_type": "markdown",
   "metadata": {},
   "source": [
    "### Feature Scaling\n",
    "\n",
    "As shown in the descriptive statistics in the introduction, the numeric attributes in the dataframe differ significantly in scale. For instance, the temperature predictor ranges from 2°C to 40°C, while the molecular weight spans from 146286.00 kDa to 206428.00 kDa. In models with regularization such as Ridge or Lasso regression a feature scaling like standardization is useful in order to improve the numerical stability to ensure similar magnitudes of all predictors, which enhances the predictive power of the model. Since this study uses a linear regression model without regularization, the underlying relationship between the predictors and the response variable remains unchanged. Scaling would only affect the magnitude of the coefficients. While this could help compare the relative impact of predictors on model prediction, the absolute influence of each predictor on the response variable is more relevant for our research question."
   ]
  },
  {
   "cell_type": "markdown",
   "metadata": {},
   "source": [
    "### Feature Selection\n",
    "\n",
    "As seen in the correlation matrix above the predictors temperature and product concentration have the biggest influence on the response variable without any collinearity with other variables. Besides these two predictors all other explanatory variables, which could have an impact on the model are included in the selection process.\n",
    "\n",
    "In order to to identify the most relevant predictors for the model a forward selection is made. It begins with an empty model and iteratively adds one feature at a time, selecting the one that improves the model's performance the most. Adjusted R² is used as a selection criterion. It begins with an empty model and iteratively adds one feature at a time, selecting the one that increases the adjusted R-sq of the model the most.  At each step, the selected features are retained, and the process repeats until no remaining features improve the adjusted R-sq of the model. \n",
    "\n",
    "Adjusted R-squared measures the proportion of variance explained by the model, adjusted for the number of predictors. Unlike R-squared, it accounts for model complexity, preventing overfitting by penalizing the addition of less-informative predictors."
   ]
  },
  {
   "cell_type": "code",
   "execution_count": 1250,
   "metadata": {},
   "outputs": [],
   "source": [
    "def adjusted_r2(model, X, y):\n",
    "    # Calculates the adjusted R²-value\n",
    "    n = len(y)\n",
    "    p = X.shape[1]\n",
    "    r2 = model.score(X, y)\n",
    "    return 1 - (1 - r2) * (n - 1) / (n - p - 1)\n",
    "\n",
    "def forward_selection(X, y):\n",
    "    # Run through forward selection based on the adjusted R² \n",
    "    selected_features = []\n",
    "    remaining_features = list(X.columns)\n",
    "    best_adjusted_r2 = -np.inf\n",
    "    final_model = None\n",
    "    \n",
    "    results = []  # List to store results for the DataFrame\n",
    "    \n",
    "    step = 0\n",
    "    while remaining_features:\n",
    "        adjusted_r2_scores = {}\n",
    "        for feature in remaining_features:\n",
    "            current_features = selected_features + [feature]\n",
    "            X_subset = X[current_features]\n",
    "            model = LinearRegression()\n",
    "            model.fit(X_subset, y)\n",
    "            adj_r2 = adjusted_r2(model, X_subset, y)\n",
    "            adjusted_r2_scores[feature] = adj_r2\n",
    "        \n",
    "        # Add best feature\n",
    "        best_feature = max(adjusted_r2_scores, key=adjusted_r2_scores.get)\n",
    "        if adjusted_r2_scores[best_feature] > best_adjusted_r2:\n",
    "            best_adjusted_r2 = adjusted_r2_scores[best_feature]\n",
    "            selected_features.append(best_feature)\n",
    "            remaining_features.remove(best_feature)\n",
    "            final_model = LinearRegression().fit(X[selected_features], y)\n",
    "            step += 1\n",
    "            \n",
    "            # Add to results list\n",
    "            results.append({'Feature': best_feature, 'Adjusted R²': best_adjusted_r2})\n",
    "            \n",
    "        else:\n",
    "            break\n",
    "    \n",
    "    # Convert results to DataFrame\n",
    "    results_df = pd.DataFrame(results)\n",
    "    return selected_features, best_adjusted_r2, final_model, results_df\n"
   ]
  },
  {
   "cell_type": "markdown",
   "metadata": {},
   "source": [
    "### Model Evaluation with Cross Validation\n",
    "\n",
    "In order to evaluate the generalization ability of the regression model, a cross-validation is performed by testing it on unseen data. It helps identify overfitting or underfitting by splitting the dataset into multiple folds, ensuring the model is trained and tested on different subsets of the data. In this work the dataset is splitted into five folds. This process provides a more reliable estimate of the model's performance compared to a single train-test split, ensuring robustness and better predictive accuracy. For every fold the average magnitude of prediction errors is quantified with the root mean squared error (RMSE). In this work the RMSE is preferred over MSE because it is in the same unit as the target (mPas) variable, making it more interpretable and directly comparable to the original data."
   ]
  },
  {
   "cell_type": "markdown",
   "metadata": {},
   "source": [
    "## Results"
   ]
  },
  {
   "cell_type": "markdown",
   "metadata": {},
   "source": [
    "### Selected predictors"
   ]
  },
  {
   "cell_type": "code",
   "execution_count": 1251,
   "metadata": {},
   "outputs": [
    {
     "data": {
      "text/html": [
       "<div>\n",
       "<style scoped>\n",
       "    .dataframe tbody tr th:only-of-type {\n",
       "        vertical-align: middle;\n",
       "    }\n",
       "\n",
       "    .dataframe tbody tr th {\n",
       "        vertical-align: top;\n",
       "    }\n",
       "\n",
       "    .dataframe thead th {\n",
       "        text-align: right;\n",
       "    }\n",
       "</style>\n",
       "<table border=\"1\" class=\"dataframe\">\n",
       "  <thead>\n",
       "    <tr style=\"text-align: right;\">\n",
       "      <th></th>\n",
       "      <th>Feature</th>\n",
       "      <th>Adjusted R²</th>\n",
       "    </tr>\n",
       "  </thead>\n",
       "  <tbody>\n",
       "    <tr>\n",
       "      <th>1</th>\n",
       "      <td>temperature_c</td>\n",
       "      <td>0.422911</td>\n",
       "    </tr>\n",
       "    <tr>\n",
       "      <th>2</th>\n",
       "      <td>product_concentration_mg_ml</td>\n",
       "      <td>0.701966</td>\n",
       "    </tr>\n",
       "    <tr>\n",
       "      <th>3</th>\n",
       "      <td>molecular_weight_kda</td>\n",
       "      <td>0.809469</td>\n",
       "    </tr>\n",
       "    <tr>\n",
       "      <th>4</th>\n",
       "      <td>isoelectric_point</td>\n",
       "      <td>0.819556</td>\n",
       "    </tr>\n",
       "    <tr>\n",
       "      <th>5</th>\n",
       "      <td>protein_format_IgG4</td>\n",
       "      <td>0.820035</td>\n",
       "    </tr>\n",
       "  </tbody>\n",
       "</table>\n",
       "</div>"
      ],
      "text/plain": [
       "                       Feature  Adjusted R²\n",
       "1                temperature_c     0.422911\n",
       "2  product_concentration_mg_ml     0.701966\n",
       "3         molecular_weight_kda     0.809469\n",
       "4            isoelectric_point     0.819556\n",
       "5          protein_format_IgG4     0.820035"
      ]
     },
     "execution_count": 1251,
     "metadata": {},
     "output_type": "execute_result"
    }
   ],
   "source": [
    "# Application on train data:\n",
    "selected_features, best_adj_r2, final_model, results_df = forward_selection(X_train, y_train)\n",
    "\n",
    "results_df.rename_axis(\"Step\")\n",
    "results_df.index += 1\n",
    "results_df"
   ]
  },
  {
   "cell_type": "markdown",
   "metadata": {},
   "source": [
    "### Regression formula of the model"
   ]
  },
  {
   "cell_type": "markdown",
   "metadata": {},
   "source": [
    "In order to evaluate the final model the regression formula is printed. It contains the regression coefficients of all predictors and the intercept of the regression model. \n",
    "Because standardized predictors were used for the model, the coefficients represent the effect of a one standard deviation change in the predictor on the target variable, regardless of the original units. This allows for a direct comparison of the relative importance of the predictors, but does not provide absolute statements about the target variable in the original scale."
   ]
  },
  {
   "cell_type": "code",
   "execution_count": 1252,
   "metadata": {},
   "outputs": [
    {
     "name": "stdout",
     "output_type": "stream",
     "text": [
      "Final regression formula : log_viscosity = -0.029449446 * temperature_c + 0.011481378 * product_concentration_mg_ml + 0.000007713 * molecular_weight_kda + -0.082691408 * isoelectric_point + 0.063440362 * protein_format_IgG4 + 0.77\n"
     ]
    }
   ],
   "source": [
    "coefficients = final_model.coef_\n",
    "intercept = final_model.intercept_\n",
    "\n",
    "model_formula = \"log_viscosity = \" + \" + \".join([f\"{coef:.9f} * {col}\" for coef, col in zip(coefficients, selected_features)]) + f\" + {intercept:.2f}\"\n",
    "print(\"Final regression formula :\", model_formula)"
   ]
  },
  {
   "cell_type": "markdown",
   "metadata": {},
   "source": [
    "The given regression formula represents the relationship between the transformed target variable (log_viscosity) and the predictors in the final model. Since the predictors are not standardized, the coefficients cannot be directly compared in terms of their contribution to the model's predictive power. Instead, we focus on determining the actual influence of each predictor on the response variable.\n",
    "\n",
    "A regression coefficient of -0.030 for temperature suggests that for every 1°C increase in temperature, the transformed viscosity value decreases by 0.030. As shown by the correlation matrix and the adjusted R-squared in the forward selection of the predictors in previous chapters, temperature has the strongest effect on measured viscosity.\n",
    "\n",
    "The second most significant predictor, according to the adjusted R-squared in the forward selection of predictors, is product concentration, with a regression coefficient of 0.011. This means that for every 1 mg/mL increase in concentration, the log-transformed target variable increases by 0.011, confirming their positive linear relationship.\n",
    "\n",
    "A regression coefficient of 0.070 for the predictor protein_format_igG4 indicates that if the examined protein is an IgG4 antibody, the transformed measured viscosity will be 0.070 higher compared to any other protein format.\n",
    "\n",
    "The intercept of 0.84 represents the predicted value of the transformed target variable when all predictors are zero.\n"
   ]
  },
  {
   "cell_type": "markdown",
   "metadata": {},
   "source": [
    "### Assessing the Predictive Performance of the Model"
   ]
  },
  {
   "cell_type": "markdown",
   "metadata": {},
   "source": [
    "In the following, the model's predictions are generated for the test data using the selected features. The predicted values are initially in the transformed logarithmic scale and are retransformed back to the original viscosity scale using the exponential function. "
   ]
  },
  {
   "cell_type": "code",
   "execution_count": 1253,
   "metadata": {},
   "outputs": [
    {
     "data": {
      "image/png": "[encoded data removed]",
      "text/plain": [
       "<Figure size 600x400 with 1 Axes>"
      ]
     },
     "metadata": {},
     "output_type": "display_data"
    }
   ],
   "source": [
    "# Vorhersagen des Modells\n",
    "X_test_subset = X_test[selected_features]\n",
    "y_pred_log = final_model.predict(X_test_subset)\n",
    "\n",
    "#Retransformation of the prediction\n",
    "y_test_original = np.exp(y_test)\n",
    "y_pred = np.exp(y_pred_log)\n",
    "\n",
    "# Scatterplot\n",
    "plt.figure(figsize=(6, 4))\n",
    "plt.scatter(y_test_original, y_pred, alpha=0.6, color='blue')\n",
    "plt.plot([min(y_test_original), max(y_test_original)], [min(y_test_original), max(y_test_original)], color='red', linestyle='--')  \n",
    "plt.xlabel(\"actual viscosity [mPas]\")\n",
    "plt.ylabel(\"predicted viscosity [mPas]\")\n",
    "plt.title(\"actual vs. predicted viscostiy values with retransformation\")\n",
    "plt.grid()\n",
    "plt.show()\n"
   ]
  },
  {
   "cell_type": "markdown",
   "metadata": {},
   "source": [
    "In the scatter plot above the actual measured viscosity values are compared with the predicted ones, where the blue points represent the predictions and the red dashed line indicates perfect prediction (where actual equals predicted). The plot helps to visualize how well the model's predictions align with the observed values.\n",
    "\n",
    "In the lower scale range between 0 and 10 mPas, it can be observed that all predicted viscosity values (blue points) are positioned within a range of less than 2 mPas around the red line. This indicates that within the given test data, the predicted values are approximately equal to the actual measured values. In this range, the predictive power of the regression model appears to be very strong for the underlying test data. However, outside of this range, two blue data points at measured viscosities of approximately 16 mPas and 20 mPas are clearly ca. 7 mPas respectively ca. 10 mPas below the red line. Therefore, the predicted viscosity values from the model are significantly lower than the actual measured values."
   ]
  },
  {
   "cell_type": "markdown",
   "metadata": {},
   "source": [
    "### Model Validation"
   ]
  },
  {
   "cell_type": "markdown",
   "metadata": {},
   "source": [
    "In the following a 5-fold cross-validation is performed to evaluate the predictive performance of a linear regression model. The target variable is in a logarithmic scale, and the features are standardized using StandardScaler before training the model. For each fold, the model is trained on the scaled training data and predictions are made on the scaled test data, followed by a retransformation of the predicted values from the logarithmic scale to the original scale. For every fold the root mean squared error (RMSE) is then calculated."
   ]
  },
  {
   "cell_type": "code",
   "execution_count": 1254,
   "metadata": {},
   "outputs": [
    {
     "data": {
      "text/html": [
       "<style type=\"text/css\">\n",
       "#T_f9cf2_row0_col0 {\n",
       "  background-color: #7fb9da;\n",
       "  color: #000000;\n",
       "}\n",
       "#T_f9cf2_row1_col0 {\n",
       "  background-color: #1c6bb0;\n",
       "  color: #f1f1f1;\n",
       "}\n",
       "#T_f9cf2_row2_col0 {\n",
       "  background-color: #f7fbff;\n",
       "  color: #000000;\n",
       "}\n",
       "#T_f9cf2_row3_col0 {\n",
       "  background-color: #77b5d9;\n",
       "  color: #000000;\n",
       "}\n",
       "#T_f9cf2_row4_col0 {\n",
       "  background-color: #08306b;\n",
       "  color: #f1f1f1;\n",
       "}\n",
       "</style>\n",
       "<table id=\"T_f9cf2\">\n",
       "  <thead>\n",
       "    <tr>\n",
       "      <th class=\"blank level0\" >&nbsp;</th>\n",
       "      <th id=\"T_f9cf2_level0_col0\" class=\"col_heading level0 col0\" >RMSE</th>\n",
       "    </tr>\n",
       "  </thead>\n",
       "  <tbody>\n",
       "    <tr>\n",
       "      <th id=\"T_f9cf2_level0_row0\" class=\"row_heading level0 row0\" >1</th>\n",
       "      <td id=\"T_f9cf2_row0_col0\" class=\"data row0 col0\" >1.403598</td>\n",
       "    </tr>\n",
       "    <tr>\n",
       "      <th id=\"T_f9cf2_level0_row1\" class=\"row_heading level0 row1\" >2</th>\n",
       "      <td id=\"T_f9cf2_row1_col0\" class=\"data row1 col0\" >1.744624</td>\n",
       "    </tr>\n",
       "    <tr>\n",
       "      <th id=\"T_f9cf2_level0_row2\" class=\"row_heading level0 row2\" >3</th>\n",
       "      <td id=\"T_f9cf2_row2_col0\" class=\"data row2 col0\" >0.921143</td>\n",
       "    </tr>\n",
       "    <tr>\n",
       "      <th id=\"T_f9cf2_level0_row3\" class=\"row_heading level0 row3\" >4</th>\n",
       "      <td id=\"T_f9cf2_row3_col0\" class=\"data row3 col0\" >1.423001</td>\n",
       "    </tr>\n",
       "    <tr>\n",
       "      <th id=\"T_f9cf2_level0_row4\" class=\"row_heading level0 row4\" >5</th>\n",
       "      <td id=\"T_f9cf2_row4_col0\" class=\"data row4 col0\" >1.988043</td>\n",
       "    </tr>\n",
       "  </tbody>\n",
       "</table>\n"
      ],
      "text/plain": [
       "<pandas.io.formats.style.Styler at 0x131596420>"
      ]
     },
     "execution_count": 1254,
     "metadata": {},
     "output_type": "execute_result"
    }
   ],
   "source": [
    "# Initialization\n",
    "y_log = y\n",
    "X = df[selected_features]\n",
    "\n",
    "kf = KFold(n_splits=5, shuffle=True, random_state=42)  # Set up 5-fold cross-validation\n",
    "scaler = StandardScaler()  # Standardize the features\n",
    "model = LinearRegression()  # Define the linear regression model\n",
    "\n",
    "# Store results\n",
    "results = []  # List to store RMSE values\n",
    "\n",
    "for fold, (train_index, test_index) in enumerate(kf.split(X), start=1):\n",
    "    \n",
    "    # Split into training and testing data\n",
    "    X_train, X_test = X.iloc[train_index], X.iloc[test_index]\n",
    "    y_train, y_test = y_log.iloc[train_index], y_log.iloc[test_index]\n",
    "    \n",
    "    # Train the model\n",
    "    model.fit(X_train, y_train)\n",
    "    \n",
    "    # Make predictions (logarithmic scale)\n",
    "    y_pred_log = model.predict(X_test)\n",
    "    \n",
    "    # Retransform the predictions back to original scale\n",
    "    y_pred = np.exp(y_pred_log)\n",
    "    \n",
    "    # Calculate RMSE\n",
    "    rmse = np.sqrt(mean_squared_error(np.exp(y_test), y_pred))\n",
    "    \n",
    "    # Save results in the list\n",
    "    results.append({\"RMSE\": rmse})\n",
    "\n",
    "# Write results into a DataFrame\n",
    "results_df = pd.DataFrame(results)\n",
    "\n",
    "# Reset index to match the number of folds\n",
    "results_df.index += 1\n",
    "\n",
    "# Print the DataFrame with a nice background gradient\n",
    "results_df.style.background_gradient(cmap='Blues')\n"
   ]
  },
  {
   "cell_type": "code",
   "execution_count": 1255,
   "metadata": {},
   "outputs": [
    {
     "data": {
      "text/html": [
       "<div>\n",
       "<style scoped>\n",
       "    .dataframe tbody tr th:only-of-type {\n",
       "        vertical-align: middle;\n",
       "    }\n",
       "\n",
       "    .dataframe tbody tr th {\n",
       "        vertical-align: top;\n",
       "    }\n",
       "\n",
       "    .dataframe thead th {\n",
       "        text-align: right;\n",
       "    }\n",
       "</style>\n",
       "<table border=\"1\" class=\"dataframe\">\n",
       "  <thead>\n",
       "    <tr style=\"text-align: right;\">\n",
       "      <th></th>\n",
       "      <th>count</th>\n",
       "      <th>mean</th>\n",
       "      <th>std</th>\n",
       "      <th>min</th>\n",
       "      <th>25%</th>\n",
       "      <th>50%</th>\n",
       "      <th>75%</th>\n",
       "      <th>max</th>\n",
       "    </tr>\n",
       "  </thead>\n",
       "  <tbody>\n",
       "    <tr>\n",
       "      <th>RMSE</th>\n",
       "      <td>5.0</td>\n",
       "      <td>1.496081</td>\n",
       "      <td>0.402569</td>\n",
       "      <td>0.921143</td>\n",
       "      <td>1.403598</td>\n",
       "      <td>1.423001</td>\n",
       "      <td>1.744624</td>\n",
       "      <td>1.988043</td>\n",
       "    </tr>\n",
       "  </tbody>\n",
       "</table>\n",
       "</div>"
      ],
      "text/plain": [
       "      count      mean       std       min       25%       50%       75%  \\\n",
       "RMSE    5.0  1.496081  0.402569  0.921143  1.403598  1.423001  1.744624   \n",
       "\n",
       "           max  \n",
       "RMSE  1.988043  "
      ]
     },
     "execution_count": 1255,
     "metadata": {},
     "output_type": "execute_result"
    }
   ],
   "source": [
    "# calculate statistics\n",
    "results_df.describe().T"
   ]
  },
  {
   "cell_type": "markdown",
   "metadata": {},
   "source": [
    "The five RMSE values from the 5-fold cross-validation range from 0.94 to 2.08, showing some variation in the model's performance across different data subsets. The lowest RMSE of 0.94 indicates strong prediction accuracy on that fold, while the highest RMSE of 2.08 suggests the model struggled more with that particular subset. The average RMSE across all folds is 1.60, which gives a general idea of the model’s overall predictive power. Despite the variation, most of the RMSE values fall within a similar range, suggesting a relatively consistent performance across the folds. The higher RMSE in one fold could be due to specific patterns or outliers in the test data, warranting further investigation."
   ]
  },
  {
   "cell_type": "markdown",
   "metadata": {},
   "source": [
    "## Discussion + Conclusion\n",
    "\n",
    "The model demonstrates a relatively low error of an RMSE of 1,60 (in the same units as the target variable), suggesting reasonable prediction accuracy. \n",
    "\n",
    "With the target variable ranging from approximately 0.54 to 27.87, an average error of 1.44 is relatively small. Notably, in some cases, the difference between technical replicates (measurements under identical conditions) exceeds the model's average error, highlighting its potential utility.\n",
    "\n",
    "To enhance the model further, additional model types could be tested in order to improve the prediction power of the model.\n",
    "\n",
    "Was würde ich der PDB empfehlen. Modell verwenden warum warum nicht. wie gut?\n"
   ]
  },
  {
   "cell_type": "code",
   "execution_count": 1256,
   "metadata": {},
   "outputs": [
    {
     "data": {
      "image/png": "[encoded data removed]",
      "text/plain": [
       "<Figure size 800x600 with 1 Axes>"
      ]
     },
     "metadata": {},
     "output_type": "display_data"
    }
   ],
   "source": [
    "df_all['viscosity_range'] = (\n",
    "    df_all.groupby(['temperature_c', 'product_concentration_mg_ml', 'product'])['viscosity_mpas']\n",
    "    .transform(lambda x: x.max() - x.min())\n",
    ")\n",
    "\n",
    "df_all['viscosity_mean'] = (\n",
    "    df_all.groupby(['temperature_c', 'product_concentration_mg_ml', 'product'])['viscosity_mpas']\n",
    "    .transform('mean')\n",
    ")\n",
    "\n",
    "plt.figure(figsize=(8, 6))\n",
    "sns.scatterplot(x='viscosity_mean', y='viscosity_range', data=df_all)\n",
    "plt.title('Scatterplot of X vs Y')\n",
    "plt.xlabel('Durchschnittlicher Messwert')\n",
    "plt.ylabel('Min_Max')\n",
    "plt.show()"
   ]
  },
  {
   "cell_type": "code",
   "execution_count": 1257,
   "metadata": {},
   "outputs": [
    {
     "data": {
      "image/png": "[encoded data removed]",
      "text/plain": [
       "<Figure size 800x600 with 1 Axes>"
      ]
     },
     "metadata": {},
     "output_type": "display_data"
    }
   ],
   "source": [
    "plt.figure(figsize=(8, 6))\n",
    "sns.boxplot(y='viscosity_range', data=df_all)\n",
    "plt.title('Boxplot by Group')\n",
    "plt.xlabel('Group')\n",
    "plt.ylabel('Values')\n",
    "plt.show()"
   ]
  },
  {
   "cell_type": "code",
   "execution_count": 1258,
   "metadata": {},
   "outputs": [
    {
     "data": {
      "text/plain": [
       "count    502.000000\n",
       "mean       0.641594\n",
       "std        1.003416\n",
       "min        0.000000\n",
       "25%        0.052500\n",
       "50%        0.240000\n",
       "75%        0.937500\n",
       "max        7.620000\n",
       "Name: viscosity_range, dtype: float64"
      ]
     },
     "execution_count": 1258,
     "metadata": {},
     "output_type": "execute_result"
    }
   ],
   "source": [
    "df_all['viscosity_range'].describe().T"
   ]
  },
  {
   "cell_type": "markdown",
   "metadata": {},
   "source": [
    "## Bibiography\n",
    "\n",
    "[1] Karin S Coyne, Mary Kay Margolis, Tessa Kennedy-Martin, Timothy M Baker, Ronald Klein, Matthew D Paul, Dennis A Revicki, The impact of diabetic retinopathy: perspectives from patient focus groups, Family Practice, Volume 21, Issue 4, August 2004, Pages 447–453.\n",
    "\n",
    "[2] Donald S. Fong, Frederick L. Rerres, Lloyd P. Aiello, Ronald Klein, Diabetic Retinopathy, Diabetes Care, Volume 27, Number 10, October 2004\n",
    "\n",
    "[3] Produkt Portfolio Boehringer Ingelheim, 2023, https://unternehmensbericht.boehringer-ingelheim.de/2023/download/BOE_GB23_Produktportfolio_DE_safe.pdf\n",
    "\n",
    "[4] Parenky AC, Wadhwa S, Chen HH, Bhalla AS, Graham KS, Shameem M. Container Closure and Delivery Considerations for Intravitreal Drug Administration. AAPS PharmSciTech. 2021 Mar 11;22(3):100. doi: 10.1208/s12249-021-01949-4. PMID: 33709236; PMCID: PMC7952281.\n",
    "\n",
    "[5] European Directorate for the Quality of Medicines & HealthCare. European Pharmacopoeia. 10th ed., Council of Europe, 2020. www.edqm.eu/en/european-pharmacopoeia-pharmacopoeia-europe.\n",
    "\n",
    "[6] Arrhenius S. The Viscosity of Solutions. Biochem J. 1917 Aug;11(2):112-33. doi: 10.1042/bj0110112. PMID: 16742728; PMCID: PMC1258811.\n",
    "\n",
    "[7] Wozniak, Spencer, and Michael Feig. \"Diffusion and Viscosity in Mixed Protein Solutions.\" The Journal of Physical Chemistry B, vol. 128, no. 47, 2024\n",
    "\n",
    "[8] Woldeyes, M. A., Josephson, L. L., Leiske, D. L., Galush, W. J., Roberts, C. J., & Furst, E. M. (2018). Viscosities and protein interactions of bispecific antibodies and their monospecific mixtures. Molecular Pharmaceutics, 15(10), 4252-4261."
   ]
  }
 ],
 "metadata": {
  "kernelspec": {
   "display_name": "analytics",
   "language": "python",
   "name": "python3"
  },
  "language_info": {
   "codemirror_mode": {
    "name": "ipython",
    "version": 3
   },
   "file_extension": ".py",
   "mimetype": "text/x-python",
   "name": "python",
   "nbconvert_exporter": "python",
   "pygments_lexer": "ipython3",
   "version": "3.12.7"
  },
  "orig_nbformat": 4
 },
 "nbformat": 4,
 "nbformat_minor": 2
}
