{
 "cells": [
  {
   "cell_type": "markdown",
   "metadata": {},
   "source": [
    "# Report"
   ]
  },
  {
   "cell_type": "markdown",
   "metadata": {},
   "source": [
    "## Introduction and Data"
   ]
  },
  {
   "cell_type": "markdown",
   "metadata": {},
   "source": [
    "Diabetic retinopathy is a serious illness, which is expected to affect > 200 million people by the year 2025 [1]. It is an eye desease resulting in blindness for over 10000 people with diabetes per year [2]. In order to help these patients Boehringer Ingelheim is investing in Research and Development of biopharmaceuticals and is screening for new active ingredients, which has the potential to slow or even stop the progression of this desease [3]. A unique characteristic of these medications is the intravitreal application, which means that the drug product is injected directly into the vitreous humor, the gel-like substance inside the eye (see picture below).\n",
    "\n",
    "<img src=\"../references/images/IntravitrealApplication.png\" alt=\"Beispielbild\" width=\"400\">\n",
    "\n",
    "\n",
    "*Picture: Illustration of the ocular anatomy and intravitreal injection for the treatment of ocular diseases [4]*\n",
    "\n",
    "\n",
    "\n",
    "One major challenge of developing drug products, which are applied intravitreal, is the requirement for the low viscosity of the drug product solution. Viscosity is the measure of how easily a fluid flows; thicker liquids like honey have high viscosity, while thinner ones like water have low viscosity. It reflects the internal resistance of a liquid's molecules to movement or flow. A high viscosity of the drug product solution in the syringe results in a higher injection force necessary to apply the medication into the eye. The European Pharmacopoeia (EP) provides specific guidelines regarding the viscosity of intravitreal applied biopharmaceuticals to ensure safe and effective injection [5]. \n",
    "\n",
    "For this reason the viscosity is a very important measure and is determined several times during the early development stage for every new product. Viscosity is tested under different experiment conditions like temperature and product concentration. In order to reduce development time to the commercial launch of a new drug product and reduce costs for laboratory equipment and personnel, the long term motivation of this work is to predict the viscosity of every new agent without any experiments in the laboratory."
   ]
  },
  {
   "cell_type": "markdown",
   "metadata": {},
   "source": [
    "### Motivation\n",
    "\n",
    "The aim of this study is to evaluate the influence of various predictors on the measured viscosity by developing a linear regression model. The first objective is to determine which predictor has the greatest impact on viscosity and identify any predictors that do not contribute to the model's predictive power. Additionally, the study seeks to quantify the magnitude of influence each selected predictor has on the measured viscosity. Finally, an important question to address is whether the developed model is suitable for predicting viscosity values based on the selected predictors, providing an early estimation of viscosity without requiring laboratory measurements."
   ]
  },
  {
   "cell_type": "markdown",
   "metadata": {},
   "source": [
    "### Data description\n",
    "\n",
    "The data set, which will be explored in this work consists of viscosity data, whereas each observation of the data set corresponds to one measurement value. The data was collected as part of a characterization study for various biopharmaceutical products. These products consist of different types of proteins (IgG2, IgG4, Knob/Hole, DoppelMab), which have different characteristics like molecular weight, isoelectic point or extinction coefficient. In order to determine the effect of product concentration on the viscosity, each product was measured at two different concentrations (10 mg/mL, 62.5 mg/mL).  Furthermore, viscosity was measured at different temperatures (2°C - 40°C) to assess the impact of temperature variations. The data set consists of the following variables:\n",
    "\n",
    "\n",
    "\n",
    "| Name  |   Description\t| Role   \t| Type   \t|  Format \t|\n",
    "|-------|---------------|-----------|-----------|-----------|\n",
    "| viscosity_mPas  \t| Measured viscosity, of the sample in mPas \t        | response  \t    | numeric  \t    | float  \t|\n",
    "| replicate  \t| Number of replicate. Within each measurement, two individual measurements were conducted as technical replicates   \t        | ID \t    | numeric  \t    | int  \t|\n",
    "| entered_on  \t| The date on which the measurement was conducted\t        | predictor  \t    |numeric  \t    | date  \t|\n",
    "| instrument  \t| Instrument, which was used to measure the viscosity   \t        | predictor  \t    | nominal  \t    | category  \t|\n",
    "| temperature_c \t| The temperature at which the measurement was conducted  \t        | predictor  \t    | numeric  \t    | float  \t|\n",
    "| product_concentration_mg_mL  \t| Concentration of the product in the aqueous solution in mg/mL   \t        | predictor  \t    | numeric  \t    | float  \t|\n",
    "| product  \t| Internal product name as a unique code  \t        | ID  \t    | nominal  \t    | category  \t|\n",
    "| protein_format  \t| Protein format of the investigated product \t        | predictor  \t    | nominal  \t    | category  \t|\n",
    "| molecular_weight_kda  \t| Molecular weight of the investigated product in kDa. A measure of the size of the protein   \t        | predictor  \t    | numeric  \t    | float  \t|\n",
    "| extinction_coefficient_l_molcm  \t| Extinction coefficient of the investigated product in L·mol⁻¹·cm⁻¹. A measure of the light absorption ability of the molecule \t        | predictor  \t    | numeric  \t    | float  \t|\n",
    "| isoelectric_point  \t| Isoelectric point of the investigated product. A measure of the charge of the molecule\t        | predictor  \t    | numeric  \t    | float  \t|\n"
   ]
  },
  {
   "cell_type": "markdown",
   "metadata": {},
   "source": [
    "### Data collection\n",
    "\n",
    "The underlying measurements were conducted by laboratory personnel within the formulation development department at Boehringer Ingelheim. The measurement values were documented in the internal Laboratory Information Management System (LIMS) along with additional detailed experimental and contextual information, which also contain all explanatory data like the product characteristics etc. The data is stored in an Oracle SQL database and was extracted using targeted SQL queries. \n",
    "\n",
    "Since the data used contain confidential information of Boehringer Ingelheim, they have been modified to protect sensitive details. Some variables have been anonymized or altered in their structure without compromising the relevance of the data for the analysis."
   ]
  },
  {
   "cell_type": "markdown",
   "metadata": {},
   "source": [
    "### Setup"
   ]
  },
  {
   "cell_type": "code",
   "execution_count": 1758,
   "metadata": {},
   "outputs": [],
   "source": [
    "import os\n",
    "from pathlib import Path\n",
    "import seaborn as sns  \n",
    "import matplotlib.pyplot as plt\n",
    "import pandas as pd\n",
    "import numpy as np\n",
    "from sklearn.model_selection import train_test_split\n",
    "from sklearn.linear_model import LinearRegression\n",
    "from sklearn.model_selection import cross_val_score, KFold\n",
    "from sklearn.preprocessing import StandardScaler\n",
    "from sklearn.metrics import mean_squared_error\n",
    "import statsmodels.api as sm\n"
   ]
  },
  {
   "cell_type": "markdown",
   "metadata": {},
   "source": [
    "### import Data"
   ]
  },
  {
   "cell_type": "code",
   "execution_count": 1759,
   "metadata": {},
   "outputs": [],
   "source": [
    "# Import data from the csv-file \"viscosity_data.csv\"\n",
    "df_all = pd.read_csv(\"../data/raw/viscosity_data.csv\", sep=\";\")"
   ]
  },
  {
   "cell_type": "markdown",
   "metadata": {},
   "source": [
    "### Data structure"
   ]
  },
  {
   "cell_type": "code",
   "execution_count": 1760,
   "metadata": {},
   "outputs": [
    {
     "data": {
      "text/html": [
       "<div>\n",
       "<style scoped>\n",
       "    .dataframe tbody tr th:only-of-type {\n",
       "        vertical-align: middle;\n",
       "    }\n",
       "\n",
       "    .dataframe tbody tr th {\n",
       "        vertical-align: top;\n",
       "    }\n",
       "\n",
       "    .dataframe thead th {\n",
       "        text-align: right;\n",
       "    }\n",
       "</style>\n",
       "<table border=\"1\" class=\"dataframe\">\n",
       "  <thead>\n",
       "    <tr style=\"text-align: right;\">\n",
       "      <th></th>\n",
       "      <th>viscosity_mPas</th>\n",
       "      <th>replicate</th>\n",
       "      <th>entered_on</th>\n",
       "      <th>instrument</th>\n",
       "      <th>temperature_C</th>\n",
       "      <th>product_concentration_mg_mL</th>\n",
       "      <th>product</th>\n",
       "      <th>protein_format</th>\n",
       "      <th>molecular_weight_kDa</th>\n",
       "      <th>extinction_coefficient_L_molcm</th>\n",
       "      <th>isoelectric_point</th>\n",
       "    </tr>\n",
       "  </thead>\n",
       "  <tbody>\n",
       "    <tr>\n",
       "      <th>0</th>\n",
       "      <td>3.93</td>\n",
       "      <td>1</td>\n",
       "      <td>15.03.2019</td>\n",
       "      <td>VISCOSIMETER_02</td>\n",
       "      <td>2</td>\n",
       "      <td>10.0</td>\n",
       "      <td>BI655300</td>\n",
       "      <td>IgG2</td>\n",
       "      <td>148830</td>\n",
       "      <td>220.42</td>\n",
       "      <td>8.54</td>\n",
       "    </tr>\n",
       "    <tr>\n",
       "      <th>1</th>\n",
       "      <td>4.28</td>\n",
       "      <td>2</td>\n",
       "      <td>16.03.2019</td>\n",
       "      <td>VISCOSIMETER_02</td>\n",
       "      <td>2</td>\n",
       "      <td>10.0</td>\n",
       "      <td>BI655300</td>\n",
       "      <td>IgG2</td>\n",
       "      <td>148830</td>\n",
       "      <td>220.42</td>\n",
       "      <td>8.54</td>\n",
       "    </tr>\n",
       "    <tr>\n",
       "      <th>2</th>\n",
       "      <td>3.42</td>\n",
       "      <td>1</td>\n",
       "      <td>15.03.2019</td>\n",
       "      <td>VISCOSIMETER_02</td>\n",
       "      <td>5</td>\n",
       "      <td>10.0</td>\n",
       "      <td>BI655300</td>\n",
       "      <td>IgG2</td>\n",
       "      <td>148830</td>\n",
       "      <td>220.42</td>\n",
       "      <td>8.54</td>\n",
       "    </tr>\n",
       "    <tr>\n",
       "      <th>3</th>\n",
       "      <td>3.69</td>\n",
       "      <td>2</td>\n",
       "      <td>15.03.2019</td>\n",
       "      <td>VISCOSIMETER_02</td>\n",
       "      <td>5</td>\n",
       "      <td>10.0</td>\n",
       "      <td>BI655300</td>\n",
       "      <td>IgG2</td>\n",
       "      <td>148830</td>\n",
       "      <td>220.42</td>\n",
       "      <td>8.54</td>\n",
       "    </tr>\n",
       "    <tr>\n",
       "      <th>4</th>\n",
       "      <td>2.89</td>\n",
       "      <td>1</td>\n",
       "      <td>15.03.2019</td>\n",
       "      <td>VISCOSIMETER_02</td>\n",
       "      <td>10</td>\n",
       "      <td>10.0</td>\n",
       "      <td>BI655300</td>\n",
       "      <td>IgG2</td>\n",
       "      <td>148830</td>\n",
       "      <td>220.42</td>\n",
       "      <td>8.54</td>\n",
       "    </tr>\n",
       "  </tbody>\n",
       "</table>\n",
       "</div>"
      ],
      "text/plain": [
       "   viscosity_mPas  replicate  entered_on       instrument  temperature_C  \\\n",
       "0            3.93          1  15.03.2019  VISCOSIMETER_02              2   \n",
       "1            4.28          2  16.03.2019  VISCOSIMETER_02              2   \n",
       "2            3.42          1  15.03.2019  VISCOSIMETER_02              5   \n",
       "3            3.69          2  15.03.2019  VISCOSIMETER_02              5   \n",
       "4            2.89          1  15.03.2019  VISCOSIMETER_02             10   \n",
       "\n",
       "   product_concentration_mg_mL   product protein_format  molecular_weight_kDa  \\\n",
       "0                         10.0  BI655300           IgG2                148830   \n",
       "1                         10.0  BI655300           IgG2                148830   \n",
       "2                         10.0  BI655300           IgG2                148830   \n",
       "3                         10.0  BI655300           IgG2                148830   \n",
       "4                         10.0  BI655300           IgG2                148830   \n",
       "\n",
       "   extinction_coefficient_L_molcm  isoelectric_point  \n",
       "0                          220.42               8.54  \n",
       "1                          220.42               8.54  \n",
       "2                          220.42               8.54  \n",
       "3                          220.42               8.54  \n",
       "4                          220.42               8.54  "
      ]
     },
     "execution_count": 1760,
     "metadata": {},
     "output_type": "execute_result"
    }
   ],
   "source": [
    "df_all.head()"
   ]
  },
  {
   "cell_type": "code",
   "execution_count": 1761,
   "metadata": {},
   "outputs": [
    {
     "name": "stdout",
     "output_type": "stream",
     "text": [
      "<class 'pandas.core.frame.DataFrame'>\n",
      "RangeIndex: 502 entries, 0 to 501\n",
      "Data columns (total 11 columns):\n",
      " #   Column                          Non-Null Count  Dtype  \n",
      "---  ------                          --------------  -----  \n",
      " 0   viscosity_mPas                  502 non-null    float64\n",
      " 1   replicate                       502 non-null    int64  \n",
      " 2   entered_on                      502 non-null    object \n",
      " 3   instrument                      502 non-null    object \n",
      " 4   temperature_C                   502 non-null    int64  \n",
      " 5   product_concentration_mg_mL     502 non-null    float64\n",
      " 6   product                         502 non-null    object \n",
      " 7   protein_format                  502 non-null    object \n",
      " 8   molecular_weight_kDa            502 non-null    int64  \n",
      " 9   extinction_coefficient_L_molcm  502 non-null    float64\n",
      " 10  isoelectric_point               502 non-null    float64\n",
      "dtypes: float64(4), int64(3), object(4)\n",
      "memory usage: 43.3+ KB\n"
     ]
    }
   ],
   "source": [
    "df_all.info()"
   ]
  },
  {
   "cell_type": "code",
   "execution_count": 1762,
   "metadata": {},
   "outputs": [
    {
     "name": "stdout",
     "output_type": "stream",
     "text": [
      "viscosity_mPas                    0\n",
      "replicate                         0\n",
      "entered_on                        0\n",
      "instrument                        0\n",
      "temperature_C                     0\n",
      "product_concentration_mg_mL       0\n",
      "product                           0\n",
      "protein_format                    0\n",
      "molecular_weight_kDa              0\n",
      "extinction_coefficient_L_molcm    0\n",
      "isoelectric_point                 0\n",
      "dtype: int64\n"
     ]
    }
   ],
   "source": [
    "#Search for empty data fields\n",
    "print(df_all.isnull().sum())"
   ]
  },
  {
   "cell_type": "markdown",
   "metadata": {},
   "source": [
    "### Data corrections\n",
    "\n",
    "According to the literature there are three explanatory variables, which have an impact on the viscosity of the solution. According to the Arrhenius equation, a higher temperature generally decreases viscosity, because molecular movement increases, reducing intermolecular interactions [6]. Also the product concentration might have an impact on the viscosity, because molecules in solution interact more frequently, leading to increased resistance to flow [7] Additionally larger and more complex proteins, such as aggregates or conjugated proteins, tend to increase solution viscosity due to their size and interaction with other molecules in the solution [8], which indicates that the moleculare weight of the product might have an impact on the measured viscosity. According to literature the relationship of all three explanatory variables and the target variable is exponentell. In order to use the linear regression the Log Transformation is used. Therefore the target variable 'viscosity_mpas' is normalized by calculating the base-10 logarithm of the variable (log_viscosity)."
   ]
  },
  {
   "cell_type": "code",
   "execution_count": 1763,
   "metadata": {},
   "outputs": [],
   "source": [
    "# Make sure column names are lower case and eliminate spaces\n",
    "df_all.columns = df_all.columns.str.lower()"
   ]
  },
  {
   "cell_type": "code",
   "execution_count": 1764,
   "metadata": {},
   "outputs": [],
   "source": [
    "# Both replikates within a measurement were aggregated and data set is reduced to the most interesting variables we want to examine\n",
    "df_aggregated = (\n",
    "    df_all.groupby(['temperature_c','product_concentration_mg_ml','molecular_weight_kda','extinction_coefficient_l_molcm','isoelectric_point','protein_format'], as_index=False)\n",
    "    .agg({'viscosity_mpas': 'mean'})\n",
    ")"
   ]
  },
  {
   "cell_type": "code",
   "execution_count": 1765,
   "metadata": {},
   "outputs": [],
   "source": [
    "# Log-transformation of the target variable (without unit)\n",
    "df_aggregated['log_viscosity'] = np.log(df_aggregated['viscosity_mpas'])"
   ]
  },
  {
   "cell_type": "code",
   "execution_count": 1766,
   "metadata": {},
   "outputs": [
    {
     "data": {
      "text/html": [
       "<div>\n",
       "<style scoped>\n",
       "    .dataframe tbody tr th:only-of-type {\n",
       "        vertical-align: middle;\n",
       "    }\n",
       "\n",
       "    .dataframe tbody tr th {\n",
       "        vertical-align: top;\n",
       "    }\n",
       "\n",
       "    .dataframe thead th {\n",
       "        text-align: right;\n",
       "    }\n",
       "</style>\n",
       "<table border=\"1\" class=\"dataframe\">\n",
       "  <thead>\n",
       "    <tr style=\"text-align: right;\">\n",
       "      <th></th>\n",
       "      <th>temperature_c</th>\n",
       "      <th>product_concentration_mg_ml</th>\n",
       "      <th>molecular_weight_kda</th>\n",
       "      <th>extinction_coefficient_l_molcm</th>\n",
       "      <th>isoelectric_point</th>\n",
       "      <th>protein_format</th>\n",
       "      <th>viscosity_mpas</th>\n",
       "      <th>log_viscosity</th>\n",
       "    </tr>\n",
       "  </thead>\n",
       "  <tbody>\n",
       "    <tr>\n",
       "      <th>0</th>\n",
       "      <td>2</td>\n",
       "      <td>10.0</td>\n",
       "      <td>146286</td>\n",
       "      <td>207.36</td>\n",
       "      <td>8.42</td>\n",
       "      <td>IgG2</td>\n",
       "      <td>3.100</td>\n",
       "      <td>1.131402</td>\n",
       "    </tr>\n",
       "    <tr>\n",
       "      <th>1</th>\n",
       "      <td>2</td>\n",
       "      <td>10.0</td>\n",
       "      <td>146933</td>\n",
       "      <td>207.36</td>\n",
       "      <td>8.42</td>\n",
       "      <td>IgG2</td>\n",
       "      <td>4.570</td>\n",
       "      <td>1.519513</td>\n",
       "    </tr>\n",
       "    <tr>\n",
       "      <th>2</th>\n",
       "      <td>2</td>\n",
       "      <td>10.0</td>\n",
       "      <td>147321</td>\n",
       "      <td>204.38</td>\n",
       "      <td>7.21</td>\n",
       "      <td>IgG4</td>\n",
       "      <td>3.895</td>\n",
       "      <td>1.359694</td>\n",
       "    </tr>\n",
       "    <tr>\n",
       "      <th>3</th>\n",
       "      <td>2</td>\n",
       "      <td>10.0</td>\n",
       "      <td>148783</td>\n",
       "      <td>224.32</td>\n",
       "      <td>8.40</td>\n",
       "      <td>IgG2</td>\n",
       "      <td>3.895</td>\n",
       "      <td>1.359694</td>\n",
       "    </tr>\n",
       "    <tr>\n",
       "      <th>4</th>\n",
       "      <td>2</td>\n",
       "      <td>10.0</td>\n",
       "      <td>148830</td>\n",
       "      <td>220.42</td>\n",
       "      <td>8.54</td>\n",
       "      <td>IgG2</td>\n",
       "      <td>4.105</td>\n",
       "      <td>1.412206</td>\n",
       "    </tr>\n",
       "    <tr>\n",
       "      <th>...</th>\n",
       "      <td>...</td>\n",
       "      <td>...</td>\n",
       "      <td>...</td>\n",
       "      <td>...</td>\n",
       "      <td>...</td>\n",
       "      <td>...</td>\n",
       "      <td>...</td>\n",
       "      <td>...</td>\n",
       "    </tr>\n",
       "    <tr>\n",
       "      <th>246</th>\n",
       "      <td>40</td>\n",
       "      <td>62.5</td>\n",
       "      <td>154343</td>\n",
       "      <td>236.92</td>\n",
       "      <td>8.27</td>\n",
       "      <td>Knob/Hole</td>\n",
       "      <td>2.660</td>\n",
       "      <td>0.978326</td>\n",
       "    </tr>\n",
       "    <tr>\n",
       "      <th>247</th>\n",
       "      <td>40</td>\n",
       "      <td>62.5</td>\n",
       "      <td>155089</td>\n",
       "      <td>234.40</td>\n",
       "      <td>9.36</td>\n",
       "      <td>Knob/Hole</td>\n",
       "      <td>2.295</td>\n",
       "      <td>0.830733</td>\n",
       "    </tr>\n",
       "    <tr>\n",
       "      <th>248</th>\n",
       "      <td>40</td>\n",
       "      <td>62.5</td>\n",
       "      <td>200209</td>\n",
       "      <td>325.66</td>\n",
       "      <td>7.75</td>\n",
       "      <td>DoppelMab</td>\n",
       "      <td>3.620</td>\n",
       "      <td>1.286474</td>\n",
       "    </tr>\n",
       "    <tr>\n",
       "      <th>249</th>\n",
       "      <td>40</td>\n",
       "      <td>62.5</td>\n",
       "      <td>204222</td>\n",
       "      <td>320.62</td>\n",
       "      <td>6.97</td>\n",
       "      <td>DoppelMab</td>\n",
       "      <td>2.915</td>\n",
       "      <td>1.069870</td>\n",
       "    </tr>\n",
       "    <tr>\n",
       "      <th>250</th>\n",
       "      <td>40</td>\n",
       "      <td>62.5</td>\n",
       "      <td>206428</td>\n",
       "      <td>355.71</td>\n",
       "      <td>8.34</td>\n",
       "      <td>DoppelMab</td>\n",
       "      <td>4.130</td>\n",
       "      <td>1.418277</td>\n",
       "    </tr>\n",
       "  </tbody>\n",
       "</table>\n",
       "<p>251 rows × 8 columns</p>\n",
       "</div>"
      ],
      "text/plain": [
       "     temperature_c  product_concentration_mg_ml  molecular_weight_kda  \\\n",
       "0                2                         10.0                146286   \n",
       "1                2                         10.0                146933   \n",
       "2                2                         10.0                147321   \n",
       "3                2                         10.0                148783   \n",
       "4                2                         10.0                148830   \n",
       "..             ...                          ...                   ...   \n",
       "246             40                         62.5                154343   \n",
       "247             40                         62.5                155089   \n",
       "248             40                         62.5                200209   \n",
       "249             40                         62.5                204222   \n",
       "250             40                         62.5                206428   \n",
       "\n",
       "     extinction_coefficient_l_molcm  isoelectric_point protein_format  \\\n",
       "0                            207.36               8.42           IgG2   \n",
       "1                            207.36               8.42           IgG2   \n",
       "2                            204.38               7.21           IgG4   \n",
       "3                            224.32               8.40           IgG2   \n",
       "4                            220.42               8.54           IgG2   \n",
       "..                              ...                ...            ...   \n",
       "246                          236.92               8.27      Knob/Hole   \n",
       "247                          234.40               9.36      Knob/Hole   \n",
       "248                          325.66               7.75      DoppelMab   \n",
       "249                          320.62               6.97      DoppelMab   \n",
       "250                          355.71               8.34      DoppelMab   \n",
       "\n",
       "     viscosity_mpas  log_viscosity  \n",
       "0             3.100       1.131402  \n",
       "1             4.570       1.519513  \n",
       "2             3.895       1.359694  \n",
       "3             3.895       1.359694  \n",
       "4             4.105       1.412206  \n",
       "..              ...            ...  \n",
       "246           2.660       0.978326  \n",
       "247           2.295       0.830733  \n",
       "248           3.620       1.286474  \n",
       "249           2.915       1.069870  \n",
       "250           4.130       1.418277  \n",
       "\n",
       "[251 rows x 8 columns]"
      ]
     },
     "execution_count": 1766,
     "metadata": {},
     "output_type": "execute_result"
    }
   ],
   "source": [
    "df_aggregated"
   ]
  },
  {
   "cell_type": "markdown",
   "metadata": {},
   "source": [
    "### Descriptive statistics"
   ]
  },
  {
   "cell_type": "code",
   "execution_count": 1767,
   "metadata": {},
   "outputs": [
    {
     "data": {
      "text/html": [
       "<div>\n",
       "<style scoped>\n",
       "    .dataframe tbody tr th:only-of-type {\n",
       "        vertical-align: middle;\n",
       "    }\n",
       "\n",
       "    .dataframe tbody tr th {\n",
       "        vertical-align: top;\n",
       "    }\n",
       "\n",
       "    .dataframe thead th {\n",
       "        text-align: right;\n",
       "    }\n",
       "</style>\n",
       "<table border=\"1\" class=\"dataframe\">\n",
       "  <thead>\n",
       "    <tr style=\"text-align: right;\">\n",
       "      <th></th>\n",
       "      <th>count</th>\n",
       "      <th>mean</th>\n",
       "      <th>std</th>\n",
       "      <th>min</th>\n",
       "      <th>25%</th>\n",
       "      <th>50%</th>\n",
       "      <th>75%</th>\n",
       "      <th>max</th>\n",
       "    </tr>\n",
       "  </thead>\n",
       "  <tbody>\n",
       "    <tr>\n",
       "      <th>temperature_c</th>\n",
       "      <td>251.0</td>\n",
       "      <td>20.203187</td>\n",
       "      <td>12.623254</td>\n",
       "      <td>2.000000</td>\n",
       "      <td>10.000000</td>\n",
       "      <td>20.000000</td>\n",
       "      <td>30.000000</td>\n",
       "      <td>40.000000</td>\n",
       "    </tr>\n",
       "    <tr>\n",
       "      <th>product_concentration_mg_ml</th>\n",
       "      <td>251.0</td>\n",
       "      <td>36.354582</td>\n",
       "      <td>26.302239</td>\n",
       "      <td>10.000000</td>\n",
       "      <td>10.000000</td>\n",
       "      <td>62.500000</td>\n",
       "      <td>62.500000</td>\n",
       "      <td>62.500000</td>\n",
       "    </tr>\n",
       "    <tr>\n",
       "      <th>molecular_weight_kda</th>\n",
       "      <td>251.0</td>\n",
       "      <td>161211.103586</td>\n",
       "      <td>22404.785214</td>\n",
       "      <td>146286.000000</td>\n",
       "      <td>148783.000000</td>\n",
       "      <td>149601.000000</td>\n",
       "      <td>155089.000000</td>\n",
       "      <td>206428.000000</td>\n",
       "    </tr>\n",
       "    <tr>\n",
       "      <th>extinction_coefficient_l_molcm</th>\n",
       "      <td>251.0</td>\n",
       "      <td>241.135538</td>\n",
       "      <td>50.378017</td>\n",
       "      <td>201.400000</td>\n",
       "      <td>207.360000</td>\n",
       "      <td>220.420000</td>\n",
       "      <td>236.920000</td>\n",
       "      <td>355.710000</td>\n",
       "    </tr>\n",
       "    <tr>\n",
       "      <th>isoelectric_point</th>\n",
       "      <td>251.0</td>\n",
       "      <td>8.094382</td>\n",
       "      <td>0.581239</td>\n",
       "      <td>6.970000</td>\n",
       "      <td>7.750000</td>\n",
       "      <td>8.270000</td>\n",
       "      <td>8.420000</td>\n",
       "      <td>9.360000</td>\n",
       "    </tr>\n",
       "    <tr>\n",
       "      <th>viscosity_mpas</th>\n",
       "      <td>251.0</td>\n",
       "      <td>3.894861</td>\n",
       "      <td>2.933445</td>\n",
       "      <td>0.955000</td>\n",
       "      <td>2.262500</td>\n",
       "      <td>3.155000</td>\n",
       "      <td>4.567500</td>\n",
       "      <td>24.205000</td>\n",
       "    </tr>\n",
       "    <tr>\n",
       "      <th>log_viscosity</th>\n",
       "      <td>251.0</td>\n",
       "      <td>1.182789</td>\n",
       "      <td>0.562606</td>\n",
       "      <td>-0.046044</td>\n",
       "      <td>0.816455</td>\n",
       "      <td>1.148988</td>\n",
       "      <td>1.518966</td>\n",
       "      <td>3.186559</td>\n",
       "    </tr>\n",
       "  </tbody>\n",
       "</table>\n",
       "</div>"
      ],
      "text/plain": [
       "                                count           mean           std  \\\n",
       "temperature_c                   251.0      20.203187     12.623254   \n",
       "product_concentration_mg_ml     251.0      36.354582     26.302239   \n",
       "molecular_weight_kda            251.0  161211.103586  22404.785214   \n",
       "extinction_coefficient_l_molcm  251.0     241.135538     50.378017   \n",
       "isoelectric_point               251.0       8.094382      0.581239   \n",
       "viscosity_mpas                  251.0       3.894861      2.933445   \n",
       "log_viscosity                   251.0       1.182789      0.562606   \n",
       "\n",
       "                                          min            25%            50%  \\\n",
       "temperature_c                        2.000000      10.000000      20.000000   \n",
       "product_concentration_mg_ml         10.000000      10.000000      62.500000   \n",
       "molecular_weight_kda            146286.000000  148783.000000  149601.000000   \n",
       "extinction_coefficient_l_molcm     201.400000     207.360000     220.420000   \n",
       "isoelectric_point                    6.970000       7.750000       8.270000   \n",
       "viscosity_mpas                       0.955000       2.262500       3.155000   \n",
       "log_viscosity                       -0.046044       0.816455       1.148988   \n",
       "\n",
       "                                          75%            max  \n",
       "temperature_c                       30.000000      40.000000  \n",
       "product_concentration_mg_ml         62.500000      62.500000  \n",
       "molecular_weight_kda            155089.000000  206428.000000  \n",
       "extinction_coefficient_l_molcm     236.920000     355.710000  \n",
       "isoelectric_point                    8.420000       9.360000  \n",
       "viscosity_mpas                       4.567500      24.205000  \n",
       "log_viscosity                        1.518966       3.186559  "
      ]
     },
     "execution_count": 1767,
     "metadata": {},
     "output_type": "execute_result"
    }
   ],
   "source": [
    "df_aggregated.describe().T"
   ]
  },
  {
   "cell_type": "markdown",
   "metadata": {},
   "source": [
    "### Exploratory data analysis\n",
    "\n",
    "In order to visualize the relationship between the explanatory variables and the response variable, charts were created with the training data. According to literature a linear correlation of all three parameters (temperature, product concentration, molecular weight) and the logarithm of the viscosity is expected. Although all three predictor variables take continuous numerical values, the dataset contains only a specific number of defined values for the independent variables. There exist only nine values of the temperature (2°C, 5°C, 10°C, 15°C, 20°C, 25°C, 30°C, 35°C, 40°C), two values of the product concentration (10 mg/mL, 62.5 mg/mL) and 14 values of the molecular weight. Therefore box plots were chosen to visualize the distribution of the response variable within these values of the predictor variables."
   ]
  },
  {
   "cell_type": "code",
   "execution_count": 1768,
   "metadata": {},
   "outputs": [
    {
     "data": {
      "image/png": "[encoded data removed]",
      "text/plain": [
       "<Figure size 1100x400 with 2 Axes>"
      ]
     },
     "metadata": {},
     "output_type": "display_data"
    }
   ],
   "source": [
    "fig, axes = plt.subplots(1, 2, figsize=(11, 4))  \n",
    "\n",
    "sns.boxplot(data=df_aggregated, x='temperature_c', y='viscosity_mpas', ax=axes[0])\n",
    "axes[0].set_title(\"Without logarithmic transformation\")\n",
    "\n",
    "sns.boxplot(data=df_aggregated, x='temperature_c', y='log_viscosity', ax=axes[1])\n",
    "axes[1].set_title(\"With logarithmic transformation\")\n",
    "\n",
    "plt.show()"
   ]
  },
  {
   "cell_type": "markdown",
   "metadata": {},
   "source": [
    "In the left box plot, the relationship between the measured viscosity in mPas and the temperature in °C is shown without log transformation of the response variable. A slightly negative trend is evident from the individual data points. As temperature increases, the measured viscosity decreases, indicating a negative association between the two variables. The high number of outliers above the whiskers and the longer upper whiskers indicate a right-skewed disctibution. The pattern of the data points suggests an exponential relationship between the two variables. These findings are consistent with the literature, which states that the viscosity of a fluid decreases exponentially as temperature rises [6].\n",
    "\n",
    "In order to get a more symmetric distribution, reduce the impact of outliers and get a linear relationship a logarithmic transformation was done, which is shown in the right box plot. In this chart the relationship beween the base-10 logarithm of the viscosity (log_viscosity) and the temperature is shown. Although there are still outliers in the graph above the boxes, the distribution of the response variable appears to be more symmetric. The lengths of the lower and upper whiskers in the box plots have become more balanced and the chart suggests a moderate linear correlation between the two variables. "
   ]
  },
  {
   "cell_type": "code",
   "execution_count": 1769,
   "metadata": {},
   "outputs": [
    {
     "data": {
      "image/png": "[encoded data removed]",
      "text/plain": [
       "<Figure size 1100x400 with 2 Axes>"
      ]
     },
     "metadata": {},
     "output_type": "display_data"
    }
   ],
   "source": [
    "fig, axes = plt.subplots(1, 2, figsize=(11, 4))  \n",
    "\n",
    "sns.boxplot(data=df_aggregated, x='product_concentration_mg_ml', y='viscosity_mpas', ax=axes[0])\n",
    "axes[0].set_title(\"Without logarithmic transformation\")\n",
    "\n",
    "sns.boxplot(data=df_aggregated, x='product_concentration_mg_ml', y='log_viscosity', ax=axes[1])\n",
    "axes[1].set_title(\"With logarithmic transformation\")\n",
    "\n",
    "plt.show()"
   ]
  },
  {
   "cell_type": "markdown",
   "metadata": {},
   "source": [
    "The left graph illustrates the relationship between measured viscosity (in mPas) and product concentration (in mg/mL). The presence of numerous outliers and the longer upper whiskers indicate a right-skewed distribution, similar to the graphs above.\n",
    "\n",
    "The right graph shows the relationship between the base-10 logarithm of viscosity (log_viscosity) and product concentration (in mg/mL). Although only two concentration levels (10 mg/mL and 62.5 mg/mL) were analyzed, a clear positive correlation between the logarithm of viscosity and product concentration is observed. The median positions within the boxes suggest that the distribution of the response variable is more symmetric compared to the left graph (without normalization). This increased symmetry indicates that the relationship between product concentration and logarithmically transformed viscosity is linear, whereas the relationship with the untransformed viscosity follows an exponential pattern. These findings are consistent with the literature, which reports that the viscosity of protein solutions increases exponentially with rising protein concentration [7]."
   ]
  },
  {
   "cell_type": "code",
   "execution_count": 1770,
   "metadata": {},
   "outputs": [
    {
     "data": {
      "image/png": "[encoded data removed]",
      "text/plain": [
       "<Figure size 1100x400 with 2 Axes>"
      ]
     },
     "metadata": {},
     "output_type": "display_data"
    }
   ],
   "source": [
    "fig, axes = plt.subplots(1, 2, figsize=(11, 4))  \n",
    "\n",
    "sns.scatterplot(data=df_aggregated, x='molecular_weight_kda', y='viscosity_mpas', ax=axes[0])\n",
    "axes[0].set_title(\"Without logarithmic transformation\")\n",
    "\n",
    "sns.scatterplot(data=df_aggregated, x='molecular_weight_kda', y='log_viscosity', ax=axes[1])\n",
    "axes[1].set_title(\"With logarithmic transformation\")\n",
    "\n",
    "plt.show()"
   ]
  },
  {
   "cell_type": "markdown",
   "metadata": {},
   "source": [
    "The left graph illustrates the relationship between measured viscosity (in mPas) and the molecular weight (in mg/mL). To achieve a continuous distribution of the data points along the x-axis, a scatter plot was chosen for visualization instead of a box plot. Nevertheless a right-skewed distribution especially at higher molecular weight is observed.\n",
    "\n",
    "In the right graph the distriubution seems to be more symmatrical. In this graph the relationship between the logarithm of the measured viscosity (in mPas) and the molecular weight (in kDa) of the product is shown. Despite the dataset containing 14 different molecular weights, the predictor variable is not evenly distributed along the x-axis. The graph reveals that the molecular weights can be grouped into two main clusters: a smaller cluster between 140,000 kDa and 160,000 kDa, and a larger cluster between 200,000 kDa and 210,000 kDa. The logarithmically transformed viscosity of the heavier molecules appears to be higher than that of the smaller molecules, suggesting a positive association between molecular weight and logarithmically transformed viscosity. "
   ]
  },
  {
   "cell_type": "markdown",
   "metadata": {},
   "source": [
    "Besides the numerical predictors there is also a categorical variable, which might have an impact on the response variable. The protein format is the type of protein, which was examined during the measurements. This attribute consists of four different categories: IgG2, IgG4, Knob/Hole, DoppelMab. Before including this variable in the model development, the distribution of the data within the data set is determined:"
   ]
  },
  {
   "cell_type": "code",
   "execution_count": 1771,
   "metadata": {},
   "outputs": [
    {
     "data": {
      "text/plain": [
       "protein_format\n",
       "IgG2         125\n",
       "DoppelMab     54\n",
       "IgG4          36\n",
       "Knob/Hole     36\n",
       "Name: count, dtype: int64"
      ]
     },
     "execution_count": 1771,
     "metadata": {},
     "output_type": "execute_result"
    }
   ],
   "source": [
    "counts = df_aggregated['protein_format'].value_counts()\n",
    "counts"
   ]
  },
  {
   "cell_type": "markdown",
   "metadata": {},
   "source": [
    "The variable protein_format contain a good distribution of data, which might be helpful to improve the model's accuracy. In the following chart the relationship between the protein format and the response variable will be visualized. To show the distribution of the data within the four categories boxplots were chosen."
   ]
  },
  {
   "cell_type": "code",
   "execution_count": 1772,
   "metadata": {},
   "outputs": [
    {
     "data": {
      "image/png": "[encoded data removed]",
      "text/plain": [
       "<Figure size 1100x400 with 2 Axes>"
      ]
     },
     "metadata": {},
     "output_type": "display_data"
    }
   ],
   "source": [
    "fig, axes = plt.subplots(1, 2, figsize=(11, 4))  \n",
    "\n",
    "sns.boxplot(data=df_aggregated, x='protein_format', y='viscosity_mpas', ax=axes[0])\n",
    "axes[0].set_title(\"Without logarithmic transformation\")\n",
    "\n",
    "sns.boxplot(data=df_aggregated, x='protein_format', y='log_viscosity', ax=axes[1])\n",
    "axes[1].set_title(\"With logarithmic transformation\")\n",
    "\n",
    "plt.show()"
   ]
  },
  {
   "cell_type": "markdown",
   "metadata": {},
   "source": [
    "In the left graph the distribution of the viscosity values in mPas within the four categories of the protein format variable were shown. Like in the graphs with the numerical variables above a right skewed distribution is visible. The distribution in the right box plot (logarithmically transformed viscosity) seems to be more symmetrically"
   ]
  },
  {
   "cell_type": "markdown",
   "metadata": {},
   "source": [
    "These variables can be transformed to numerical variables using the function pd.get_dummies:"
   ]
  },
  {
   "cell_type": "code",
   "execution_count": 1773,
   "metadata": {},
   "outputs": [],
   "source": [
    "#get dummy numerical variables for categoric predictor\n",
    "df_aggregated = pd.get_dummies(df_aggregated, columns=['protein_format'], drop_first= True)\n",
    "#new columns were convert into integer data types\n",
    "df_aggregated['protein_format_IgG2'] = df['protein_format_IgG2'].astype(int)\n",
    "df_aggregated['protein_format_IgG4'] = df['protein_format_IgG4'].astype(int)\n",
    "df_aggregated['protein_format_Knob/Hole'] = df['protein_format_Knob/Hole'].astype(int)"
   ]
  },
  {
   "cell_type": "markdown",
   "metadata": {},
   "source": [
    "## Methodology"
   ]
  },
  {
   "cell_type": "markdown",
   "metadata": {},
   "source": [
    "### Logarithmic Transformation\n",
    "\n",
    "The chart below is a correlation matrix, which is a tabular representation of the pairwise correlation coefficients between the response variables (viscosity_mpas), the logarithmic transformed response variable and all predictor variables. The correlation matrix indicates the strength and direction of the linear relationship between two variables, which will be helpful to discuss possible variable transformations."
   ]
  },
  {
   "cell_type": "code",
   "execution_count": 1774,
   "metadata": {},
   "outputs": [
    {
     "data": {
      "text/html": [
       "<style type=\"text/css\">\n",
       "#T_77064_row0_col0 {\n",
       "  background-color: #69add5;\n",
       "  color: #f1f1f1;\n",
       "}\n",
       "#T_77064_row0_col1 {\n",
       "  background-color: #3c8cc3;\n",
       "  color: #f1f1f1;\n",
       "}\n",
       "#T_77064_row1_col0 {\n",
       "  background-color: #85bcdc;\n",
       "  color: #000000;\n",
       "}\n",
       "#T_77064_row1_col1 {\n",
       "  background-color: #5fa6d1;\n",
       "  color: #f1f1f1;\n",
       "}\n",
       "#T_77064_row2_col0 {\n",
       "  background-color: #a1cbe2;\n",
       "  color: #000000;\n",
       "}\n",
       "#T_77064_row2_col1 {\n",
       "  background-color: #b2d2e8;\n",
       "  color: #000000;\n",
       "}\n",
       "#T_77064_row3_col0 {\n",
       "  background-color: #a5cde3;\n",
       "  color: #000000;\n",
       "}\n",
       "#T_77064_row3_col1 {\n",
       "  background-color: #b9d6ea;\n",
       "  color: #000000;\n",
       "}\n",
       "#T_77064_row4_col0 {\n",
       "  background-color: #d7e6f5;\n",
       "  color: #000000;\n",
       "}\n",
       "#T_77064_row4_col1, #T_77064_row7_col1 {\n",
       "  background-color: #d1e2f3;\n",
       "  color: #000000;\n",
       "}\n",
       "#T_77064_row5_col0, #T_77064_row6_col1 {\n",
       "  background-color: #08306b;\n",
       "  color: #f1f1f1;\n",
       "}\n",
       "#T_77064_row5_col1, #T_77064_row6_col0 {\n",
       "  background-color: #084d96;\n",
       "  color: #f1f1f1;\n",
       "}\n",
       "#T_77064_row7_col0 {\n",
       "  background-color: #cde0f1;\n",
       "  color: #000000;\n",
       "}\n",
       "#T_77064_row8_col0 {\n",
       "  background-color: #f3f8fe;\n",
       "  color: #000000;\n",
       "}\n",
       "#T_77064_row8_col1 {\n",
       "  background-color: #f7fbff;\n",
       "  color: #000000;\n",
       "}\n",
       "#T_77064_row9_col0, #T_77064_row9_col1 {\n",
       "  background-color: #e7f1fa;\n",
       "  color: #000000;\n",
       "}\n",
       "</style>\n",
       "<table id=\"T_77064\">\n",
       "  <thead>\n",
       "    <tr>\n",
       "      <th class=\"blank level0\" >&nbsp;</th>\n",
       "      <th id=\"T_77064_level0_col0\" class=\"col_heading level0 col0\" >viscosity_mpas</th>\n",
       "      <th id=\"T_77064_level0_col1\" class=\"col_heading level0 col1\" >log_viscosity</th>\n",
       "    </tr>\n",
       "  </thead>\n",
       "  <tbody>\n",
       "    <tr>\n",
       "      <th id=\"T_77064_level0_row0\" class=\"row_heading level0 row0\" >temperature_c</th>\n",
       "      <td id=\"T_77064_row0_col0\" class=\"data row0 col0\" >-0.510000</td>\n",
       "      <td id=\"T_77064_row0_col1\" class=\"data row0 col1\" >-0.650000</td>\n",
       "    </tr>\n",
       "    <tr>\n",
       "      <th id=\"T_77064_level0_row1\" class=\"row_heading level0 row1\" >product_concentration_mg_ml</th>\n",
       "      <td id=\"T_77064_row1_col0\" class=\"data row1 col0\" >0.440000</td>\n",
       "      <td id=\"T_77064_row1_col1\" class=\"data row1 col1\" >0.540000</td>\n",
       "    </tr>\n",
       "    <tr>\n",
       "      <th id=\"T_77064_level0_row2\" class=\"row_heading level0 row2\" >molecular_weight_kda</th>\n",
       "      <td id=\"T_77064_row2_col0\" class=\"data row2 col0\" >0.370000</td>\n",
       "      <td id=\"T_77064_row2_col1\" class=\"data row2 col1\" >0.320000</td>\n",
       "    </tr>\n",
       "    <tr>\n",
       "      <th id=\"T_77064_level0_row3\" class=\"row_heading level0 row3\" >extinction_coefficient_l_molcm</th>\n",
       "      <td id=\"T_77064_row3_col0\" class=\"data row3 col0\" >0.360000</td>\n",
       "      <td id=\"T_77064_row3_col1\" class=\"data row3 col1\" >0.300000</td>\n",
       "    </tr>\n",
       "    <tr>\n",
       "      <th id=\"T_77064_level0_row4\" class=\"row_heading level0 row4\" >isoelectric_point</th>\n",
       "      <td id=\"T_77064_row4_col0\" class=\"data row4 col0\" >-0.170000</td>\n",
       "      <td id=\"T_77064_row4_col1\" class=\"data row4 col1\" >-0.200000</td>\n",
       "    </tr>\n",
       "    <tr>\n",
       "      <th id=\"T_77064_level0_row5\" class=\"row_heading level0 row5\" >viscosity_mpas</th>\n",
       "      <td id=\"T_77064_row5_col0\" class=\"data row5 col0\" >1.000000</td>\n",
       "      <td id=\"T_77064_row5_col1\" class=\"data row5 col1\" >0.890000</td>\n",
       "    </tr>\n",
       "    <tr>\n",
       "      <th id=\"T_77064_level0_row6\" class=\"row_heading level0 row6\" >log_viscosity</th>\n",
       "      <td id=\"T_77064_row6_col0\" class=\"data row6 col0\" >0.890000</td>\n",
       "      <td id=\"T_77064_row6_col1\" class=\"data row6 col1\" >1.000000</td>\n",
       "    </tr>\n",
       "    <tr>\n",
       "      <th id=\"T_77064_level0_row7\" class=\"row_heading level0 row7\" >protein_format_IgG2</th>\n",
       "      <td id=\"T_77064_row7_col0\" class=\"data row7 col0\" >-0.220000</td>\n",
       "      <td id=\"T_77064_row7_col1\" class=\"data row7 col1\" >-0.200000</td>\n",
       "    </tr>\n",
       "    <tr>\n",
       "      <th id=\"T_77064_level0_row8\" class=\"row_heading level0 row8\" >protein_format_IgG4</th>\n",
       "      <td id=\"T_77064_row8_col0\" class=\"data row8 col0\" >-0.030000</td>\n",
       "      <td id=\"T_77064_row8_col1\" class=\"data row8 col1\" >0.010000</td>\n",
       "    </tr>\n",
       "    <tr>\n",
       "      <th id=\"T_77064_level0_row9\" class=\"row_heading level0 row9\" >protein_format_Knob/Hole</th>\n",
       "      <td id=\"T_77064_row9_col0\" class=\"data row9 col0\" >-0.090000</td>\n",
       "      <td id=\"T_77064_row9_col1\" class=\"data row9 col1\" >-0.090000</td>\n",
       "    </tr>\n",
       "  </tbody>\n",
       "</table>\n"
      ],
      "text/plain": [
       "<pandas.io.formats.style.Styler at 0x12df28080>"
      ]
     },
     "execution_count": 1774,
     "metadata": {},
     "output_type": "execute_result"
    }
   ],
   "source": [
    "corr = df_aggregated.corr(method='pearson').round(2)\n",
    "corr_blues_transformation = corr[['viscosity_mpas','log_viscosity']].style.background_gradient(cmap='Blues', axis=None, gmap=corr.abs())\n",
    "corr_blues_transformation"
   ]
  },
  {
   "cell_type": "markdown",
   "metadata": {},
   "source": [
    "\n",
    "Like shown before in the exploratory data analysis the relationship between some of the predictors like the temperature and logarithmically transformed viscosity is linear, whereas the relationship with the untransformed viscosity follows an exponential pattern. The correlation matrix above confirms these findings, showing that the linear relationship between temperature and the logarithmically transformed viscosity (-0.63) is stronger than with the untransformed response variable (-0.5).\n",
    "\n",
    "A similar improvement is observed for product_concentration_mg_ml, where the correlation coefficient increases by 0.09, from 0.43 to 0.52. This makes product concentration the second most strongly associated variable with the response variable. Additionally, there is a moderate positive correlation between molecular_weight_kda and the response variable (0.36). However, this decreases by 0.05, to 0.31, when the response variable is log-transformed.\n",
    "\n",
    "Although the linear relationship with molecular weight appears slightly weaker after the transformation, the exploratory analysis revealed a right-skewed distribution of the predictor without logarithmic transformation and a more symmetric distribution with the logarithmically transformed outcome variable. This justifies the use of the logarithmically transformed response variable (log_viscosity) for modeling process in order to improve model fit and satisfy assumptions.\n",
    "\n"
   ]
  },
  {
   "cell_type": "markdown",
   "metadata": {},
   "source": [
    "### Model selection\n",
    "\n",
    "Based on the exploratory data analysis, a linear relationship was identified between the predictor variables and the logarithmically transformed response variable log_viscosity. Given this assumption and the continuous nature of the response variable, a linear regression model has been chosen for model development. This model is selected as a baseline due to its simplicity and interpretability, allowing for a clear understanding of the relationships in the data before exploring more complex modeling approaches."
   ]
  },
  {
   "cell_type": "markdown",
   "metadata": {},
   "source": [
    "### Multicollinearity"
   ]
  },
  {
   "cell_type": "markdown",
   "metadata": {},
   "source": [
    "The chart below is a correlation matrix, which is a tabular representation of the pairwise correlation coefficients between the logarithmic transformed target variable (viscosity_log) and all  predictor variables in the dataset. The correlation matrix indicates the strength and direction of the linear relationship between two variables, which will be helpful to identify multicollinearity."
   ]
  },
  {
   "cell_type": "code",
   "execution_count": 1775,
   "metadata": {},
   "outputs": [
    {
     "data": {
      "text/html": [
       "<style type=\"text/css\">\n",
       "#T_bc3db_row0_col0, #T_bc3db_row1_col1, #T_bc3db_row2_col2, #T_bc3db_row3_col3, #T_bc3db_row4_col4, #T_bc3db_row6_col5, #T_bc3db_row7_col6, #T_bc3db_row8_col7, #T_bc3db_row9_col8 {\n",
       "  background-color: #08306b;\n",
       "  color: #f1f1f1;\n",
       "}\n",
       "#T_bc3db_row0_col1, #T_bc3db_row0_col2, #T_bc3db_row0_col3, #T_bc3db_row0_col4, #T_bc3db_row0_col6, #T_bc3db_row0_col7, #T_bc3db_row0_col8, #T_bc3db_row1_col0, #T_bc3db_row1_col2, #T_bc3db_row1_col3, #T_bc3db_row1_col4, #T_bc3db_row1_col6, #T_bc3db_row1_col7, #T_bc3db_row1_col8, #T_bc3db_row2_col0, #T_bc3db_row2_col1, #T_bc3db_row3_col0, #T_bc3db_row3_col1, #T_bc3db_row4_col0, #T_bc3db_row4_col1, #T_bc3db_row7_col0, #T_bc3db_row7_col1, #T_bc3db_row8_col0, #T_bc3db_row8_col1, #T_bc3db_row9_col0, #T_bc3db_row9_col1 {\n",
       "  background-color: #f7fbff;\n",
       "  color: #000000;\n",
       "}\n",
       "#T_bc3db_row0_col5, #T_bc3db_row6_col0 {\n",
       "  background-color: #3b8bc2;\n",
       "  color: #f1f1f1;\n",
       "}\n",
       "#T_bc3db_row1_col5, #T_bc3db_row6_col1 {\n",
       "  background-color: #5da5d1;\n",
       "  color: #f1f1f1;\n",
       "}\n",
       "#T_bc3db_row2_col3, #T_bc3db_row3_col2 {\n",
       "  background-color: #083573;\n",
       "  color: #f1f1f1;\n",
       "}\n",
       "#T_bc3db_row2_col4, #T_bc3db_row2_col5, #T_bc3db_row4_col2, #T_bc3db_row6_col2 {\n",
       "  background-color: #b0d2e7;\n",
       "  color: #000000;\n",
       "}\n",
       "#T_bc3db_row2_col6, #T_bc3db_row7_col2 {\n",
       "  background-color: #549fcd;\n",
       "  color: #f1f1f1;\n",
       "}\n",
       "#T_bc3db_row2_col7, #T_bc3db_row8_col2 {\n",
       "  background-color: #c8dcf0;\n",
       "  color: #000000;\n",
       "}\n",
       "#T_bc3db_row2_col8, #T_bc3db_row9_col2 {\n",
       "  background-color: #dfecf7;\n",
       "  color: #000000;\n",
       "}\n",
       "#T_bc3db_row3_col4, #T_bc3db_row4_col3 {\n",
       "  background-color: #d2e3f3;\n",
       "  color: #000000;\n",
       "}\n",
       "#T_bc3db_row3_col5, #T_bc3db_row6_col3 {\n",
       "  background-color: #b7d4ea;\n",
       "  color: #000000;\n",
       "}\n",
       "#T_bc3db_row3_col6, #T_bc3db_row7_col3 {\n",
       "  background-color: #4d99ca;\n",
       "  color: #f1f1f1;\n",
       "}\n",
       "#T_bc3db_row3_col7, #T_bc3db_row8_col3 {\n",
       "  background-color: #c6dbef;\n",
       "  color: #000000;\n",
       "}\n",
       "#T_bc3db_row3_col8, #T_bc3db_row9_col3 {\n",
       "  background-color: #eff6fc;\n",
       "  color: #000000;\n",
       "}\n",
       "#T_bc3db_row4_col5, #T_bc3db_row6_col4, #T_bc3db_row6_col6, #T_bc3db_row7_col5 {\n",
       "  background-color: #d0e1f2;\n",
       "  color: #000000;\n",
       "}\n",
       "#T_bc3db_row4_col6, #T_bc3db_row7_col4 {\n",
       "  background-color: #bdd7ec;\n",
       "  color: #000000;\n",
       "}\n",
       "#T_bc3db_row4_col7, #T_bc3db_row8_col4 {\n",
       "  background-color: #74b3d8;\n",
       "  color: #000000;\n",
       "}\n",
       "#T_bc3db_row4_col8, #T_bc3db_row5_col0, #T_bc3db_row9_col4 {\n",
       "  background-color: #68acd5;\n",
       "  color: #f1f1f1;\n",
       "}\n",
       "#T_bc3db_row5_col1 {\n",
       "  background-color: #84bcdb;\n",
       "  color: #000000;\n",
       "}\n",
       "#T_bc3db_row5_col2 {\n",
       "  background-color: #a0cbe2;\n",
       "  color: #000000;\n",
       "}\n",
       "#T_bc3db_row5_col3 {\n",
       "  background-color: #a3cce3;\n",
       "  color: #000000;\n",
       "}\n",
       "#T_bc3db_row5_col4, #T_bc3db_row8_col8, #T_bc3db_row9_col7 {\n",
       "  background-color: #d6e5f4;\n",
       "  color: #000000;\n",
       "}\n",
       "#T_bc3db_row5_col5 {\n",
       "  background-color: #084d96;\n",
       "  color: #f1f1f1;\n",
       "}\n",
       "#T_bc3db_row5_col6 {\n",
       "  background-color: #ccdff1;\n",
       "  color: #000000;\n",
       "}\n",
       "#T_bc3db_row5_col7 {\n",
       "  background-color: #f2f7fd;\n",
       "  color: #000000;\n",
       "}\n",
       "#T_bc3db_row5_col8, #T_bc3db_row6_col8, #T_bc3db_row9_col5 {\n",
       "  background-color: #e5eff9;\n",
       "  color: #000000;\n",
       "}\n",
       "#T_bc3db_row6_col7, #T_bc3db_row8_col5 {\n",
       "  background-color: #f5fafe;\n",
       "  color: #000000;\n",
       "}\n",
       "#T_bc3db_row7_col7, #T_bc3db_row7_col8, #T_bc3db_row8_col6, #T_bc3db_row9_col6 {\n",
       "  background-color: #91c3de;\n",
       "  color: #000000;\n",
       "}\n",
       "</style>\n",
       "<table id=\"T_bc3db\">\n",
       "  <thead>\n",
       "    <tr>\n",
       "      <th class=\"blank level0\" >&nbsp;</th>\n",
       "      <th id=\"T_bc3db_level0_col0\" class=\"col_heading level0 col0\" >temperature_c</th>\n",
       "      <th id=\"T_bc3db_level0_col1\" class=\"col_heading level0 col1\" >product_concentration_mg_ml</th>\n",
       "      <th id=\"T_bc3db_level0_col2\" class=\"col_heading level0 col2\" >molecular_weight_kda</th>\n",
       "      <th id=\"T_bc3db_level0_col3\" class=\"col_heading level0 col3\" >extinction_coefficient_l_molcm</th>\n",
       "      <th id=\"T_bc3db_level0_col4\" class=\"col_heading level0 col4\" >isoelectric_point</th>\n",
       "      <th id=\"T_bc3db_level0_col5\" class=\"col_heading level0 col5\" >log_viscosity</th>\n",
       "      <th id=\"T_bc3db_level0_col6\" class=\"col_heading level0 col6\" >protein_format_IgG2</th>\n",
       "      <th id=\"T_bc3db_level0_col7\" class=\"col_heading level0 col7\" >protein_format_IgG4</th>\n",
       "      <th id=\"T_bc3db_level0_col8\" class=\"col_heading level0 col8\" >protein_format_Knob/Hole</th>\n",
       "    </tr>\n",
       "  </thead>\n",
       "  <tbody>\n",
       "    <tr>\n",
       "      <th id=\"T_bc3db_level0_row0\" class=\"row_heading level0 row0\" >temperature_c</th>\n",
       "      <td id=\"T_bc3db_row0_col0\" class=\"data row0 col0\" >1.000000</td>\n",
       "      <td id=\"T_bc3db_row0_col1\" class=\"data row0 col1\" >0.000000</td>\n",
       "      <td id=\"T_bc3db_row0_col2\" class=\"data row0 col2\" >0.000000</td>\n",
       "      <td id=\"T_bc3db_row0_col3\" class=\"data row0 col3\" >0.000000</td>\n",
       "      <td id=\"T_bc3db_row0_col4\" class=\"data row0 col4\" >0.000000</td>\n",
       "      <td id=\"T_bc3db_row0_col5\" class=\"data row0 col5\" >-0.650000</td>\n",
       "      <td id=\"T_bc3db_row0_col6\" class=\"data row0 col6\" >-0.000000</td>\n",
       "      <td id=\"T_bc3db_row0_col7\" class=\"data row0 col7\" >0.000000</td>\n",
       "      <td id=\"T_bc3db_row0_col8\" class=\"data row0 col8\" >0.000000</td>\n",
       "    </tr>\n",
       "    <tr>\n",
       "      <th id=\"T_bc3db_level0_row1\" class=\"row_heading level0 row1\" >product_concentration_mg_ml</th>\n",
       "      <td id=\"T_bc3db_row1_col0\" class=\"data row1 col0\" >0.000000</td>\n",
       "      <td id=\"T_bc3db_row1_col1\" class=\"data row1 col1\" >1.000000</td>\n",
       "      <td id=\"T_bc3db_row1_col2\" class=\"data row1 col2\" >-0.000000</td>\n",
       "      <td id=\"T_bc3db_row1_col3\" class=\"data row1 col3\" >-0.000000</td>\n",
       "      <td id=\"T_bc3db_row1_col4\" class=\"data row1 col4\" >-0.000000</td>\n",
       "      <td id=\"T_bc3db_row1_col5\" class=\"data row1 col5\" >0.540000</td>\n",
       "      <td id=\"T_bc3db_row1_col6\" class=\"data row1 col6\" >0.000000</td>\n",
       "      <td id=\"T_bc3db_row1_col7\" class=\"data row1 col7\" >-0.000000</td>\n",
       "      <td id=\"T_bc3db_row1_col8\" class=\"data row1 col8\" >-0.000000</td>\n",
       "    </tr>\n",
       "    <tr>\n",
       "      <th id=\"T_bc3db_level0_row2\" class=\"row_heading level0 row2\" >molecular_weight_kda</th>\n",
       "      <td id=\"T_bc3db_row2_col0\" class=\"data row2 col0\" >0.000000</td>\n",
       "      <td id=\"T_bc3db_row2_col1\" class=\"data row2 col1\" >-0.000000</td>\n",
       "      <td id=\"T_bc3db_row2_col2\" class=\"data row2 col2\" >1.000000</td>\n",
       "      <td id=\"T_bc3db_row2_col3\" class=\"data row2 col3\" >0.980000</td>\n",
       "      <td id=\"T_bc3db_row2_col4\" class=\"data row2 col4\" >-0.320000</td>\n",
       "      <td id=\"T_bc3db_row2_col5\" class=\"data row2 col5\" >0.320000</td>\n",
       "      <td id=\"T_bc3db_row2_col6\" class=\"data row2 col6\" >-0.570000</td>\n",
       "      <td id=\"T_bc3db_row2_col7\" class=\"data row2 col7\" >-0.240000</td>\n",
       "      <td id=\"T_bc3db_row2_col8\" class=\"data row2 col8\" >-0.120000</td>\n",
       "    </tr>\n",
       "    <tr>\n",
       "      <th id=\"T_bc3db_level0_row3\" class=\"row_heading level0 row3\" >extinction_coefficient_l_molcm</th>\n",
       "      <td id=\"T_bc3db_row3_col0\" class=\"data row3 col0\" >0.000000</td>\n",
       "      <td id=\"T_bc3db_row3_col1\" class=\"data row3 col1\" >-0.000000</td>\n",
       "      <td id=\"T_bc3db_row3_col2\" class=\"data row3 col2\" >0.980000</td>\n",
       "      <td id=\"T_bc3db_row3_col3\" class=\"data row3 col3\" >1.000000</td>\n",
       "      <td id=\"T_bc3db_row3_col4\" class=\"data row3 col4\" >-0.190000</td>\n",
       "      <td id=\"T_bc3db_row3_col5\" class=\"data row3 col5\" >0.300000</td>\n",
       "      <td id=\"T_bc3db_row3_col6\" class=\"data row3 col6\" >-0.590000</td>\n",
       "      <td id=\"T_bc3db_row3_col7\" class=\"data row3 col7\" >-0.250000</td>\n",
       "      <td id=\"T_bc3db_row3_col8\" class=\"data row3 col8\" >-0.040000</td>\n",
       "    </tr>\n",
       "    <tr>\n",
       "      <th id=\"T_bc3db_level0_row4\" class=\"row_heading level0 row4\" >isoelectric_point</th>\n",
       "      <td id=\"T_bc3db_row4_col0\" class=\"data row4 col0\" >0.000000</td>\n",
       "      <td id=\"T_bc3db_row4_col1\" class=\"data row4 col1\" >-0.000000</td>\n",
       "      <td id=\"T_bc3db_row4_col2\" class=\"data row4 col2\" >-0.320000</td>\n",
       "      <td id=\"T_bc3db_row4_col3\" class=\"data row4 col3\" >-0.190000</td>\n",
       "      <td id=\"T_bc3db_row4_col4\" class=\"data row4 col4\" >1.000000</td>\n",
       "      <td id=\"T_bc3db_row4_col5\" class=\"data row4 col5\" >-0.200000</td>\n",
       "      <td id=\"T_bc3db_row4_col6\" class=\"data row4 col6\" >0.280000</td>\n",
       "      <td id=\"T_bc3db_row4_col7\" class=\"data row4 col7\" >-0.480000</td>\n",
       "      <td id=\"T_bc3db_row4_col8\" class=\"data row4 col8\" >0.510000</td>\n",
       "    </tr>\n",
       "    <tr>\n",
       "      <th id=\"T_bc3db_level0_row5\" class=\"row_heading level0 row5\" >viscosity_mpas</th>\n",
       "      <td id=\"T_bc3db_row5_col0\" class=\"data row5 col0\" >-0.510000</td>\n",
       "      <td id=\"T_bc3db_row5_col1\" class=\"data row5 col1\" >0.440000</td>\n",
       "      <td id=\"T_bc3db_row5_col2\" class=\"data row5 col2\" >0.370000</td>\n",
       "      <td id=\"T_bc3db_row5_col3\" class=\"data row5 col3\" >0.360000</td>\n",
       "      <td id=\"T_bc3db_row5_col4\" class=\"data row5 col4\" >-0.170000</td>\n",
       "      <td id=\"T_bc3db_row5_col5\" class=\"data row5 col5\" >0.890000</td>\n",
       "      <td id=\"T_bc3db_row5_col6\" class=\"data row5 col6\" >-0.220000</td>\n",
       "      <td id=\"T_bc3db_row5_col7\" class=\"data row5 col7\" >-0.030000</td>\n",
       "      <td id=\"T_bc3db_row5_col8\" class=\"data row5 col8\" >-0.090000</td>\n",
       "    </tr>\n",
       "    <tr>\n",
       "      <th id=\"T_bc3db_level0_row6\" class=\"row_heading level0 row6\" >log_viscosity</th>\n",
       "      <td id=\"T_bc3db_row6_col0\" class=\"data row6 col0\" >-0.650000</td>\n",
       "      <td id=\"T_bc3db_row6_col1\" class=\"data row6 col1\" >0.540000</td>\n",
       "      <td id=\"T_bc3db_row6_col2\" class=\"data row6 col2\" >0.320000</td>\n",
       "      <td id=\"T_bc3db_row6_col3\" class=\"data row6 col3\" >0.300000</td>\n",
       "      <td id=\"T_bc3db_row6_col4\" class=\"data row6 col4\" >-0.200000</td>\n",
       "      <td id=\"T_bc3db_row6_col5\" class=\"data row6 col5\" >1.000000</td>\n",
       "      <td id=\"T_bc3db_row6_col6\" class=\"data row6 col6\" >-0.200000</td>\n",
       "      <td id=\"T_bc3db_row6_col7\" class=\"data row6 col7\" >0.010000</td>\n",
       "      <td id=\"T_bc3db_row6_col8\" class=\"data row6 col8\" >-0.090000</td>\n",
       "    </tr>\n",
       "    <tr>\n",
       "      <th id=\"T_bc3db_level0_row7\" class=\"row_heading level0 row7\" >protein_format_IgG2</th>\n",
       "      <td id=\"T_bc3db_row7_col0\" class=\"data row7 col0\" >-0.000000</td>\n",
       "      <td id=\"T_bc3db_row7_col1\" class=\"data row7 col1\" >0.000000</td>\n",
       "      <td id=\"T_bc3db_row7_col2\" class=\"data row7 col2\" >-0.570000</td>\n",
       "      <td id=\"T_bc3db_row7_col3\" class=\"data row7 col3\" >-0.590000</td>\n",
       "      <td id=\"T_bc3db_row7_col4\" class=\"data row7 col4\" >0.280000</td>\n",
       "      <td id=\"T_bc3db_row7_col5\" class=\"data row7 col5\" >-0.200000</td>\n",
       "      <td id=\"T_bc3db_row7_col6\" class=\"data row7 col6\" >1.000000</td>\n",
       "      <td id=\"T_bc3db_row7_col7\" class=\"data row7 col7\" >-0.410000</td>\n",
       "      <td id=\"T_bc3db_row7_col8\" class=\"data row7 col8\" >-0.410000</td>\n",
       "    </tr>\n",
       "    <tr>\n",
       "      <th id=\"T_bc3db_level0_row8\" class=\"row_heading level0 row8\" >protein_format_IgG4</th>\n",
       "      <td id=\"T_bc3db_row8_col0\" class=\"data row8 col0\" >0.000000</td>\n",
       "      <td id=\"T_bc3db_row8_col1\" class=\"data row8 col1\" >-0.000000</td>\n",
       "      <td id=\"T_bc3db_row8_col2\" class=\"data row8 col2\" >-0.240000</td>\n",
       "      <td id=\"T_bc3db_row8_col3\" class=\"data row8 col3\" >-0.250000</td>\n",
       "      <td id=\"T_bc3db_row8_col4\" class=\"data row8 col4\" >-0.480000</td>\n",
       "      <td id=\"T_bc3db_row8_col5\" class=\"data row8 col5\" >0.010000</td>\n",
       "      <td id=\"T_bc3db_row8_col6\" class=\"data row8 col6\" >-0.410000</td>\n",
       "      <td id=\"T_bc3db_row8_col7\" class=\"data row8 col7\" >1.000000</td>\n",
       "      <td id=\"T_bc3db_row8_col8\" class=\"data row8 col8\" >-0.170000</td>\n",
       "    </tr>\n",
       "    <tr>\n",
       "      <th id=\"T_bc3db_level0_row9\" class=\"row_heading level0 row9\" >protein_format_Knob/Hole</th>\n",
       "      <td id=\"T_bc3db_row9_col0\" class=\"data row9 col0\" >0.000000</td>\n",
       "      <td id=\"T_bc3db_row9_col1\" class=\"data row9 col1\" >-0.000000</td>\n",
       "      <td id=\"T_bc3db_row9_col2\" class=\"data row9 col2\" >-0.120000</td>\n",
       "      <td id=\"T_bc3db_row9_col3\" class=\"data row9 col3\" >-0.040000</td>\n",
       "      <td id=\"T_bc3db_row9_col4\" class=\"data row9 col4\" >0.510000</td>\n",
       "      <td id=\"T_bc3db_row9_col5\" class=\"data row9 col5\" >-0.090000</td>\n",
       "      <td id=\"T_bc3db_row9_col6\" class=\"data row9 col6\" >-0.410000</td>\n",
       "      <td id=\"T_bc3db_row9_col7\" class=\"data row9 col7\" >-0.170000</td>\n",
       "      <td id=\"T_bc3db_row9_col8\" class=\"data row9 col8\" >1.000000</td>\n",
       "    </tr>\n",
       "  </tbody>\n",
       "</table>\n"
      ],
      "text/plain": [
       "<pandas.io.formats.style.Styler at 0x12a597860>"
      ]
     },
     "execution_count": 1775,
     "metadata": {},
     "output_type": "execute_result"
    }
   ],
   "source": [
    "corr_blues_all = corr.drop(columns=['viscosity_mpas']).style.background_gradient(cmap='Blues', axis=None, gmap=corr.abs())\n",
    "corr_blues_all"
   ]
  },
  {
   "cell_type": "markdown",
   "metadata": {},
   "source": [
    "The correlation matrix above reveals significant relationships among several predictor variables. For example, the correlation coefficient between molecular_weight_kda and extinction_coefficient_l_molcm is 0.98, indicating strong collinearity and a very high positive association. Similarly, the newly introduced predictor variable protein_format_IgG2 also shows a correlation with molecular_weight_kda. From a biochemical perspective, this is expected, as one of the primary differences between protein formats is their molecular weight.\n",
    "\n",
    "In contrast, no multicollinearity is observed between the temperature and any other predictor variable. The same is true for the product concentration (product_concentration_mg_ml). However, care must be taken when handling the other predictor variables during model development. A stepwise selection approach, where collinear predictor variables are added or removed one at a time, could help identify the best combination of features to optimize the model’s predictive performance while minimizing redundancy."
   ]
  },
  {
   "cell_type": "code",
   "execution_count": 1776,
   "metadata": {},
   "outputs": [],
   "source": [
    "# select features\n",
    "X = df_aggregated.drop(columns=['viscosity_mpas','log_viscosity'])\n",
    "# create response\n",
    "y = df_aggregated['log_viscosity']"
   ]
  },
  {
   "cell_type": "markdown",
   "metadata": {},
   "source": [
    "### Train-Test Split\n",
    "\n",
    "Before the stepwise selection of the candidate predictors the data set was split into training and test sets. This is a crucial step in linear regression model development (and in machine learning in general). The purpose is to ensure that the model is evaluated on unseen data, which helps assess its ability to generalize beyond the data it was trained on. Normally the train-test split is done before exploratory data analysis Performing in order to prevent data leakage by ensuring that insights gained during EDA do not influence the test set, preserving its role as unseen data for unbiased model evaluation.\n",
    "\n",
    "However in this work the exploratory data analysis wasa conducted before splitting the data in order to streamline the preprocessing and analysis process without switching between subsets, which reduces complexity of the work and maximizes data insights."
   ]
  },
  {
   "cell_type": "code",
   "execution_count": 1777,
   "metadata": {},
   "outputs": [],
   "source": [
    "# use a test size of 0,2 and random state 42\n",
    "X_train, X_test, y_train, y_test = train_test_split(X, y, test_size=0.2, random_state=42)\n",
    "\n",
    "# use your training data to make a pandas dataframe\n",
    "df_train = pd.DataFrame(X_train.copy())\n",
    "\n",
    "# add your training labels to the data\n",
    "df_train = df_train.join(pd.DataFrame(y_train))"
   ]
  },
  {
   "cell_type": "markdown",
   "metadata": {},
   "source": [
    "### Feature Scaling\n",
    "\n",
    "As shown in the descriptive statistics in the introduction, the numeric attributes in the dataframe differ significantly in scale. For instance, the temperature predictor ranges from 2°C to 40°C, while the molecular weight spans from 146286.00 kDa to 206428.00 kDa. In models with regularization such as Ridge or Lasso regression a feature scaling like standardization is useful in order to improve the numerical stability to ensure similar magnitudes of all predictors, which enhances the predictive power of the model. Since this study uses a linear regression model without regularization, the underlying relationship between the predictors and the response variable remains unchanged. Scaling would only affect the magnitude of the coefficients. While this could help compare the relative impact of predictors on model prediction, the absolute influence of each predictor on the response variable is more relevant for our research question."
   ]
  },
  {
   "cell_type": "markdown",
   "metadata": {},
   "source": [
    "### Feature Selection\n",
    "\n",
    "As seen in the correlation matrix above the predictors temperature and product concentration have the biggest influence on the response variable without any collinearity with other variables. Besides these two predictors all other explanatory variables, which could have an impact on the model are included in the selection process.\n",
    "\n",
    "In order to to identify the most relevant predictors for the model a forward selection is made. It begins with an empty model and iteratively adds one feature at a time, selecting the one that improves the model's performance the most. Adjusted R² is used as a selection criterion. It begins with an empty model and iteratively adds one feature at a time, selecting the one that increases the adjusted R-sq of the model the most.  At each step, the selected features are retained, and the process repeats until no remaining features improve the adjusted R-sq of the model. \n",
    "\n",
    "Adjusted R-squared measures the proportion of variance explained by the model, adjusted for the number of predictors. Unlike R-squared, it accounts for model complexity, preventing overfitting by penalizing the addition of less-informative predictors."
   ]
  },
  {
   "cell_type": "code",
   "execution_count": 1778,
   "metadata": {},
   "outputs": [],
   "source": [
    "def adjusted_r2(model, X, y):\n",
    "    # Calculates the adjusted R²-value\n",
    "    n = len(y)\n",
    "    p = X.shape[1]\n",
    "    r2 = model.score(X, y)\n",
    "    return 1 - (1 - r2) * (n - 1) / (n - p - 1)\n",
    "\n",
    "def forward_selection(X, y):\n",
    "    # Run through forward selection based on the adjusted R² \n",
    "    selected_features = []\n",
    "    remaining_features = list(X.columns)\n",
    "    best_adjusted_r2 = -np.inf\n",
    "    final_model = None\n",
    "    \n",
    "    results = []  # List to store results for the DataFrame\n",
    "    \n",
    "    step = 0\n",
    "    while remaining_features:\n",
    "        adjusted_r2_scores = {}\n",
    "        for feature in remaining_features:\n",
    "            current_features = selected_features + [feature]\n",
    "            X_subset = X[current_features]\n",
    "            model = LinearRegression()\n",
    "            model.fit(X_subset, y)\n",
    "            adj_r2 = adjusted_r2(model, X_subset, y)\n",
    "            adjusted_r2_scores[feature] = adj_r2\n",
    "        \n",
    "        # Add best feature\n",
    "        best_feature = max(adjusted_r2_scores, key=adjusted_r2_scores.get)\n",
    "        if adjusted_r2_scores[best_feature] > best_adjusted_r2:\n",
    "            best_adjusted_r2 = adjusted_r2_scores[best_feature]\n",
    "            selected_features.append(best_feature)\n",
    "            remaining_features.remove(best_feature)\n",
    "            final_model = LinearRegression().fit(X[selected_features], y)\n",
    "            step += 1\n",
    "            \n",
    "            # Add to results list\n",
    "            results.append({'Feature': best_feature, 'Adjusted R²': best_adjusted_r2})\n",
    "            \n",
    "        else:\n",
    "            break\n",
    "    \n",
    "    # Convert results to DataFrame\n",
    "    results_df = pd.DataFrame(results)\n",
    "    return selected_features, best_adjusted_r2, final_model, results_df\n"
   ]
  },
  {
   "cell_type": "markdown",
   "metadata": {},
   "source": [
    "### Model Evaluation with Cross Validation\n",
    "\n",
    "In order to evaluate the generalization ability of the regression model, a cross-validation is performed by testing it on unseen data. It helps identify overfitting or underfitting by splitting the dataset into multiple folds, ensuring the model is trained and tested on different subsets of the data. In this work the dataset is splitted into five folds. This process provides a more reliable estimate of the model's performance compared to a single train-test split, ensuring robustness and better predictive accuracy. For every fold the average magnitude of prediction errors is quantified with the root mean squared error (RMSE). In this work the RMSE is preferred over MSE because it is in the same unit as the target (mPas) variable, making it more interpretable and directly comparable to the original data."
   ]
  },
  {
   "cell_type": "markdown",
   "metadata": {},
   "source": [
    "## Results"
   ]
  },
  {
   "cell_type": "markdown",
   "metadata": {},
   "source": [
    "### Selected predictors"
   ]
  },
  {
   "cell_type": "code",
   "execution_count": 1779,
   "metadata": {},
   "outputs": [
    {
     "data": {
      "text/html": [
       "<div>\n",
       "<style scoped>\n",
       "    .dataframe tbody tr th:only-of-type {\n",
       "        vertical-align: middle;\n",
       "    }\n",
       "\n",
       "    .dataframe tbody tr th {\n",
       "        vertical-align: top;\n",
       "    }\n",
       "\n",
       "    .dataframe thead th {\n",
       "        text-align: right;\n",
       "    }\n",
       "</style>\n",
       "<table border=\"1\" class=\"dataframe\">\n",
       "  <thead>\n",
       "    <tr style=\"text-align: right;\">\n",
       "      <th></th>\n",
       "      <th>Feature</th>\n",
       "      <th>Adjusted R²</th>\n",
       "    </tr>\n",
       "  </thead>\n",
       "  <tbody>\n",
       "    <tr>\n",
       "      <th>1</th>\n",
       "      <td>temperature_c</td>\n",
       "      <td>0.411965</td>\n",
       "    </tr>\n",
       "    <tr>\n",
       "      <th>2</th>\n",
       "      <td>product_concentration_mg_ml</td>\n",
       "      <td>0.704952</td>\n",
       "    </tr>\n",
       "    <tr>\n",
       "      <th>3</th>\n",
       "      <td>molecular_weight_kda</td>\n",
       "      <td>0.801658</td>\n",
       "    </tr>\n",
       "    <tr>\n",
       "      <th>4</th>\n",
       "      <td>isoelectric_point</td>\n",
       "      <td>0.811139</td>\n",
       "    </tr>\n",
       "    <tr>\n",
       "      <th>5</th>\n",
       "      <td>protein_format_IgG4</td>\n",
       "      <td>0.811489</td>\n",
       "    </tr>\n",
       "  </tbody>\n",
       "</table>\n",
       "</div>"
      ],
      "text/plain": [
       "                       Feature  Adjusted R²\n",
       "1                temperature_c     0.411965\n",
       "2  product_concentration_mg_ml     0.704952\n",
       "3         molecular_weight_kda     0.801658\n",
       "4            isoelectric_point     0.811139\n",
       "5          protein_format_IgG4     0.811489"
      ]
     },
     "execution_count": 1779,
     "metadata": {},
     "output_type": "execute_result"
    }
   ],
   "source": [
    "# Application on train data:\n",
    "selected_features, best_adj_r2, final_model, results_df = forward_selection(X_train, y_train)\n",
    "\n",
    "results_df.rename_axis(\"Step\")\n",
    "results_df.index += 1\n",
    "results_df"
   ]
  },
  {
   "cell_type": "markdown",
   "metadata": {},
   "source": [
    "The results from the forward selection variable analysis reveal that temperature has the strongest effect on the measured viscosity. It was selected in the first round due to its highest adjusted R-squared of 0.411. In the second round, product concentration was added to the regression formula, further improving the model’s predictive power with an adjusted R-squared of 0.70. Both variables showed the highest correlation coefficients with the log-transformed response variable without any multicollinearity with any other predictorsin previous chapters, which supports the variable selection results.\n",
    "\n",
    "The third most valuable predictor is molecular weight, which increases the adjusted R-squared significantly to 0.801. Although the extinction coefficient showed a high correlation with the target variable in previous chapters, it did not improve the adjusted R-squared of the model. This is likely due to its high correlation with molecular weight, making it redundant and diminishing its contribution to the model's predictive power.\n",
    "\n",
    "The isoelectric point has a minor impact on the model’s performance, contributing only a small increase of 0.01 to the adjusted R-squared. The least significant variable appears to be the dummy variable protein_format_IgG4, which was the only one selected out of the three dummy variables for the categorical variable protein_format."
   ]
  },
  {
   "cell_type": "markdown",
   "metadata": {},
   "source": [
    "### Regression formula of the model"
   ]
  },
  {
   "cell_type": "markdown",
   "metadata": {},
   "source": [
    "In order to evaluate the final model the regression formula is printed. It contains the regression coefficients of all predictors and the intercept of the regression model. \n",
    "Because standardized predictors were used for the model, the coefficients represent the effect of a one standard deviation change in the predictor on the target variable, regardless of the original units. This allows for a direct comparison of the relative importance of the predictors, but does not provide absolute statements about the target variable in the original scale."
   ]
  },
  {
   "cell_type": "code",
   "execution_count": 1780,
   "metadata": {},
   "outputs": [
    {
     "name": "stdout",
     "output_type": "stream",
     "text": [
      "Final regression formula : log_viscosity = -0.028113135 * temperature_c + 0.011403819 * product_concentration_mg_ml + 0.000007305 * molecular_weight_kda + -0.074875973 * isoelectric_point + 0.071280920 * protein_format_IgG4 + 0.75\n"
     ]
    }
   ],
   "source": [
    "coefficients = final_model.coef_\n",
    "intercept = final_model.intercept_\n",
    "\n",
    "model_formula = \"log_viscosity = \" + \" + \".join([f\"{coef:.9f} * {col}\" for coef, col in zip(coefficients, selected_features)]) + f\" + {intercept:.2f}\"\n",
    "print(\"Final regression formula :\", model_formula)"
   ]
  },
  {
   "cell_type": "markdown",
   "metadata": {},
   "source": [
    "The given regression formula represents the relationship between the transformed target variable (log_viscosity) and the predictors in the final model. Since the predictors are not standardized, the coefficients cannot be directly compared in terms of their contribution to the model's predictive power. Instead, we focus on determining the actual influence of each predictor on the response variable. In order to get the relationship between the original viscosity and the predictors we exponentiate both sides of the equation:\n",
    "\n",
    "viscosity =e^-0.028113135 * temperature_c + 0.011403819 * product_concentration_mg_ml + 0.000007305 * molecular_weight_kda + -0.074875973 * isoelectric_point + 0.071280920 * protein_format_IgG4 + 0.75\n",
    "\n",
    "By using the regression formula and exponentiating both sides everybody can calculate the viscosity at different experimental conditions.\n",
    "\n",
    "As already anticipated in the introduction the sample temperature has a negative exponential relationship with the viscosity of a protein solution. A regression coefficient of -0.028 for temperature suggests that for every 1°C increase in temperature, the transformed viscosity value decreases by - 0.028. \n",
    "\n",
    "The second most significant predictor, according to the adjusted R-squared in the forward selection of predictors, is product concentration, with a regression coefficient of 0.011. This means that for every 1 mg/mL increase in concentration, the log-transformed target variable increases by 0.011, confirming their positive linear relationship.\n",
    "\n",
    "A regression coefficient of 0.070 for the predictor protein_format_igG4 indicates that if the examined protein is an IgG4 antibody, the transformed measured viscosity will be 0.070 higher compared to any other protein format.\n",
    "\n",
    "The intercept of 0.84 represents the predicted value of the transformed target variable when all predictors are zero.\n"
   ]
  },
  {
   "cell_type": "markdown",
   "metadata": {},
   "source": [
    "### Assessing the Predictive Performance of the Model"
   ]
  },
  {
   "cell_type": "markdown",
   "metadata": {},
   "source": [
    "In the following, the model's predictions are generated for the test data using the selected features. The predicted values are initially in the transformed logarithmic scale and are retransformed back to the original viscosity scale using the exponential function. "
   ]
  },
  {
   "cell_type": "code",
   "execution_count": 1781,
   "metadata": {},
   "outputs": [
    {
     "data": {
      "image/png": "[encoded data removed]",
      "text/plain": [
       "<Figure size 600x400 with 1 Axes>"
      ]
     },
     "metadata": {},
     "output_type": "display_data"
    }
   ],
   "source": [
    "# Vorhersagen des Modells\n",
    "X_test_subset = X_test[selected_features]\n",
    "y_pred_log = final_model.predict(X_test_subset)\n",
    "\n",
    "#Retransformation of the prediction\n",
    "y_test_original = np.exp(y_test)\n",
    "y_pred = np.exp(y_pred_log)\n",
    "\n",
    "# Scatterplot\n",
    "plt.figure(figsize=(6, 4))\n",
    "plt.scatter(y_test_original, y_pred, alpha=0.6, color='blue')\n",
    "plt.plot([min(y_test_original), max(y_test_original)], [min(y_test_original), max(y_test_original)], color='red', linestyle='--')  \n",
    "plt.xlabel(\"actual viscosity [mPas]\")\n",
    "plt.ylabel(\"predicted viscosity [mPas]\")\n",
    "plt.title(\"actual vs. predicted viscostiy values after retransformation\")\n",
    "plt.grid()\n",
    "plt.show()\n"
   ]
  },
  {
   "cell_type": "markdown",
   "metadata": {},
   "source": [
    "In the scatter plot above the actual measured viscosity values are compared with the predicted ones, where the blue points represent the predictions and the red dashed line indicates perfect prediction (where actual equals predicted). The plot helps to visualize how well the model's predictions align with the observed values.\n",
    "\n",
    "In the lower scale range between 0 and 10 mPas, it can be observed that all predicted viscosity values (blue points) are positioned within a range of less than 2 mPas around the red line. This indicates that within the given test data, the predicted values are approximately equal to the actual measured values. In this range, the predictive power of the regression model appears to be very strong for the underlying test data. However, outside of this range, two blue data points at measured viscosities of approximately 16 mPas and 20 mPas are clearly ca. 7 mPas respectively ca. 10 mPas below the red line. Therefore, the predicted viscosity values from the model are significantly lower than the actual measured values."
   ]
  },
  {
   "cell_type": "markdown",
   "metadata": {},
   "source": [
    "### Model Validation"
   ]
  },
  {
   "cell_type": "markdown",
   "metadata": {},
   "source": [
    "In the following a 5-fold cross-validation is performed to evaluate the predictive performance of a linear regression model. The target variable is in a logarithmic scale, and the features are standardized using StandardScaler before training the model. For each fold, the model is trained on the scaled training data and predictions are made on the scaled test data, followed by a retransformation of the predicted values from the logarithmic scale to the original scale. For every fold the root mean squared error (RMSE) is then calculated."
   ]
  },
  {
   "cell_type": "code",
   "execution_count": 1782,
   "metadata": {},
   "outputs": [
    {
     "data": {
      "text/html": [
       "<style type=\"text/css\">\n",
       "#T_2a342_row0_col0 {\n",
       "  background-color: #08306b;\n",
       "  color: #f1f1f1;\n",
       "}\n",
       "#T_2a342_row1_col0 {\n",
       "  background-color: #f7fbff;\n",
       "  color: #000000;\n",
       "}\n",
       "#T_2a342_row2_col0 {\n",
       "  background-color: #4594c7;\n",
       "  color: #f1f1f1;\n",
       "}\n",
       "#T_2a342_row3_col0 {\n",
       "  background-color: #82bbdb;\n",
       "  color: #000000;\n",
       "}\n",
       "#T_2a342_row4_col0 {\n",
       "  background-color: #f6faff;\n",
       "  color: #000000;\n",
       "}\n",
       "</style>\n",
       "<table id=\"T_2a342\">\n",
       "  <thead>\n",
       "    <tr>\n",
       "      <th class=\"blank level0\" >&nbsp;</th>\n",
       "      <th id=\"T_2a342_level0_col0\" class=\"col_heading level0 col0\" >RMSE</th>\n",
       "    </tr>\n",
       "  </thead>\n",
       "  <tbody>\n",
       "    <tr>\n",
       "      <th id=\"T_2a342_level0_row0\" class=\"row_heading level0 row0\" >1</th>\n",
       "      <td id=\"T_2a342_row0_col0\" class=\"data row0 col0\" >2.360493</td>\n",
       "    </tr>\n",
       "    <tr>\n",
       "      <th id=\"T_2a342_level0_row1\" class=\"row_heading level0 row1\" >2</th>\n",
       "      <td id=\"T_2a342_row1_col0\" class=\"data row1 col0\" >0.743791</td>\n",
       "    </tr>\n",
       "    <tr>\n",
       "      <th id=\"T_2a342_level0_row2\" class=\"row_heading level0 row2\" >3</th>\n",
       "      <td id=\"T_2a342_row2_col0\" class=\"data row2 col0\" >1.736946</td>\n",
       "    </tr>\n",
       "    <tr>\n",
       "      <th id=\"T_2a342_level0_row3\" class=\"row_heading level0 row3\" >4</th>\n",
       "      <td id=\"T_2a342_row3_col0\" class=\"data row3 col0\" >1.461676</td>\n",
       "    </tr>\n",
       "    <tr>\n",
       "      <th id=\"T_2a342_level0_row4\" class=\"row_heading level0 row4\" >5</th>\n",
       "      <td id=\"T_2a342_row4_col0\" class=\"data row4 col0\" >0.754760</td>\n",
       "    </tr>\n",
       "  </tbody>\n",
       "</table>\n"
      ],
      "text/plain": [
       "<pandas.io.formats.style.Styler at 0x12b28a900>"
      ]
     },
     "execution_count": 1782,
     "metadata": {},
     "output_type": "execute_result"
    }
   ],
   "source": [
    "# Initialization\n",
    "y_log = y\n",
    "X = df_aggregated[selected_features]\n",
    "\n",
    "kf = KFold(n_splits=5, shuffle=True, random_state=42)  # Set up 5-fold cross-validation\n",
    "scaler = StandardScaler()  # Standardize the features\n",
    "model = LinearRegression()  # Define the linear regression model\n",
    "\n",
    "# Store results\n",
    "results = []  # List to store RMSE values\n",
    "\n",
    "for fold, (train_index, test_index) in enumerate(kf.split(X), start=1):\n",
    "    \n",
    "    # Split into training and testing data\n",
    "    X_train, X_test = X.iloc[train_index], X.iloc[test_index]\n",
    "    y_train, y_test = y_log.iloc[train_index], y_log.iloc[test_index]\n",
    "    \n",
    "    # Train the model\n",
    "    model.fit(X_train, y_train)\n",
    "    \n",
    "    # Make predictions (logarithmic scale)\n",
    "    y_pred_log = model.predict(X_test)\n",
    "    \n",
    "    # Retransform the predictions back to original scale\n",
    "    y_pred = np.exp(y_pred_log)\n",
    "    \n",
    "    # Calculate RMSE\n",
    "    rmse = np.sqrt(mean_squared_error(np.exp(y_test), y_pred))\n",
    "    \n",
    "    # Save results in the list\n",
    "    results.append({\"RMSE\": rmse})\n",
    "\n",
    "# Write results into a DataFrame\n",
    "results_df = pd.DataFrame(results)\n",
    "\n",
    "# Reset index to match the number of folds\n",
    "results_df.index += 1\n",
    "\n",
    "# Print the DataFrame with a nice background gradient\n",
    "results_df.style.background_gradient(cmap='Blues')\n"
   ]
  },
  {
   "cell_type": "code",
   "execution_count": 1783,
   "metadata": {},
   "outputs": [
    {
     "data": {
      "text/html": [
       "<div>\n",
       "<style scoped>\n",
       "    .dataframe tbody tr th:only-of-type {\n",
       "        vertical-align: middle;\n",
       "    }\n",
       "\n",
       "    .dataframe tbody tr th {\n",
       "        vertical-align: top;\n",
       "    }\n",
       "\n",
       "    .dataframe thead th {\n",
       "        text-align: right;\n",
       "    }\n",
       "</style>\n",
       "<table border=\"1\" class=\"dataframe\">\n",
       "  <thead>\n",
       "    <tr style=\"text-align: right;\">\n",
       "      <th></th>\n",
       "      <th>count</th>\n",
       "      <th>mean</th>\n",
       "      <th>std</th>\n",
       "      <th>min</th>\n",
       "      <th>25%</th>\n",
       "      <th>50%</th>\n",
       "      <th>75%</th>\n",
       "      <th>max</th>\n",
       "    </tr>\n",
       "  </thead>\n",
       "  <tbody>\n",
       "    <tr>\n",
       "      <th>RMSE</th>\n",
       "      <td>5.0</td>\n",
       "      <td>1.411533</td>\n",
       "      <td>0.686688</td>\n",
       "      <td>0.743791</td>\n",
       "      <td>0.75476</td>\n",
       "      <td>1.461676</td>\n",
       "      <td>1.736946</td>\n",
       "      <td>2.360493</td>\n",
       "    </tr>\n",
       "  </tbody>\n",
       "</table>\n",
       "</div>"
      ],
      "text/plain": [
       "      count      mean       std       min      25%       50%       75%  \\\n",
       "RMSE    5.0  1.411533  0.686688  0.743791  0.75476  1.461676  1.736946   \n",
       "\n",
       "           max  \n",
       "RMSE  2.360493  "
      ]
     },
     "execution_count": 1783,
     "metadata": {},
     "output_type": "execute_result"
    }
   ],
   "source": [
    "# calculate statistics\n",
    "results_df.describe().T"
   ]
  },
  {
   "cell_type": "markdown",
   "metadata": {},
   "source": [
    "The five RMSE values from the 5-fold cross-validation range from 0.94 to 2.08, showing some variation in the model's performance across different data subsets. The lowest RMSE of 0.94 indicates strong prediction accuracy on that fold, while the highest RMSE of 2.08 suggests the model struggled more with that particular subset. The average RMSE across all folds is 1.60, which gives a general idea of the model’s overall predictive power. Despite the variation, most of the RMSE values fall within a similar range, suggesting a relatively consistent performance across the folds. The higher RMSE in one fold could be due to specific patterns or outliers in the test data, warranting further investigation."
   ]
  },
  {
   "cell_type": "markdown",
   "metadata": {},
   "source": [
    "## Discussion + Conclusion\n",
    "\n",
    "The linear regression model developed in this study provides a comprehensive overview of the impact of various predictor variables on the measured viscosity of protein solutions. While some predictors, such as temperature, protein concentration, and molecular weight, were anticipated at the beginning of the study, other more influential variables, such as the isoelectric point and protein format, were found to significantly enhance the model's predictive power.\n",
    "\n",
    "The model demonstrates a relatively low error, with an average RMSE of 1.411 mPas. Considering the target variable ranges from approximately 0.96 mPas to 24.41 mPas, an average error of 1.411 is relatively small. When compared to the average difference of 0.60 mPas between two technical replicates (measurements under identical conditions), it becomes evident that the model's prediction power is strong. In some cases, particularly in the higher viscosity range, the difference between two technical replicates even exceeds the model's average error. On the other hand we could see that especially at higher viscosity values, the prdiction of the model becomes less accurate.\n",
    "\n",
    "With the regression formula, scientists can easily forecast the viscosity of their product at various temperatures and protein concentrations. For the validation of drug products, measuring viscosity under specific experimental conditions will always be indispensable. However, in the early stages of development, the model could help identify potential weaknesses in a new product and estimate the optimal protein concentration for initial studies. This could save time and resources, potentially accelerating the development of new drug products that can benefit patients worldwide.\n",
    "\n",
    "Future work could explore other linear models with regularization, such as ridge regression or lasso regression, to further improve the model's predictive performance. Additionally, nonlinear models, such as polynomial regression, random forests, or gradient boosting machines (GBM), could be tested to assess whether they provide better predictive power.\n"
   ]
  },
  {
   "cell_type": "markdown",
   "metadata": {},
   "source": [
    "## Bibiography\n",
    "\n",
    "[1] Karin S Coyne, Mary Kay Margolis, Tessa Kennedy-Martin, Timothy M Baker, Ronald Klein, Matthew D Paul, Dennis A Revicki, The impact of diabetic retinopathy: perspectives from patient focus groups, Family Practice, Volume 21, Issue 4, August 2004, Pages 447–453.\n",
    "\n",
    "[2] Donald S. Fong, Frederick L. Rerres, Lloyd P. Aiello, Ronald Klein, Diabetic Retinopathy, Diabetes Care, Volume 27, Number 10, October 2004\n",
    "\n",
    "[3] Produkt Portfolio Boehringer Ingelheim, 2023, https://unternehmensbericht.boehringer-ingelheim.de/2023/download/BOE_GB23_Produktportfolio_DE_safe.pdf\n",
    "\n",
    "[4] Parenky AC, Wadhwa S, Chen HH, Bhalla AS, Graham KS, Shameem M. Container Closure and Delivery Considerations for Intravitreal Drug Administration. AAPS PharmSciTech. 2021 Mar 11;22(3):100. doi: 10.1208/s12249-021-01949-4. PMID: 33709236; PMCID: PMC7952281.\n",
    "\n",
    "[5] European Directorate for the Quality of Medicines & HealthCare. European Pharmacopoeia. 10th ed., Council of Europe, 2020. www.edqm.eu/en/european-pharmacopoeia-pharmacopoeia-europe.\n",
    "\n",
    "[6] Arrhenius S. The Viscosity of Solutions. Biochem J. 1917 Aug;11(2):112-33. doi: 10.1042/bj0110112. PMID: 16742728; PMCID: PMC1258811.\n",
    "\n",
    "[7] Wozniak, Spencer, and Michael Feig. \"Diffusion and Viscosity in Mixed Protein Solutions.\" The Journal of Physical Chemistry B, vol. 128, no. 47, 2024\n",
    "\n",
    "[8] Woldeyes, M. A., Josephson, L. L., Leiske, D. L., Galush, W. J., Roberts, C. J., & Furst, E. M. (2018). Viscosities and protein interactions of bispecific antibodies and their monospecific mixtures. Molecular Pharmaceutics, 15(10), 4252-4261."
   ]
  }
 ],
 "metadata": {
  "kernelspec": {
   "display_name": "analytics",
   "language": "python",
   "name": "python3"
  },
  "language_info": {
   "codemirror_mode": {
    "name": "ipython",
    "version": 3
   },
   "file_extension": ".py",
   "mimetype": "text/x-python",
   "name": "python",
   "nbconvert_exporter": "python",
   "pygments_lexer": "ipython3",
   "version": "3.12.7"
  },
  "orig_nbformat": 4
 },
 "nbformat": 4,
 "nbformat_minor": 2
}
